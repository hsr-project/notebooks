{
 "cells": [
  {
   "cell_type": "markdown",
   "metadata": {
    "lang": "ja"
   },
   "source": [
    "# 台車の制御とセンサ情報の取得\n",
    "\n",
    "<div class=\"alert alert-block alert-info\">\n",
    "    <b>この章の目的</b>\n",
    "    <p>HSRの台車の制御方法と、センサ情報へのアクセス方法を学習します。</p>\n",
    "</div> "
   ]
  },
  {
   "cell_type": "markdown",
   "metadata": {
    "lang": "en"
   },
   "source": [
    "# Controlling the moving base and capturing sensor information\n",
    "\n",
    "<div class=\"alert alert-block alert-info\">\n",
    "    <b>Objective</b>\n",
    "    <p>In this notebook, we will learn how to control the HSR's moving base and access sensor information.</p>\n",
    "</div>"
   ]
  },
  {
   "cell_type": "markdown",
   "metadata": {
    "lang": "ja"
   },
   "source": [
    "# 台車を制御する"
   ]
  },
  {
   "cell_type": "markdown",
   "metadata": {
    "lang": "en"
   },
   "source": [
    "# Control the moving base"
   ]
  },
  {
   "cell_type": "markdown",
   "metadata": {
    "lang": "ja"
   },
   "source": [
    "HSRの台車は速度指令で制御することができます。\n",
    "まず、この章で用いるライブラリをインポートし、初期化をします。"
   ]
  },
  {
   "cell_type": "markdown",
   "metadata": {
    "lang": "en"
   },
   "source": [
    "The HSR's moving base can be controlled using velocity commands.\n",
    "First, let's import the library used in this notebook and initialize it."
   ]
  },
  {
   "cell_type": "code",
   "execution_count": null,
   "metadata": {},
   "outputs": [],
   "source": [
    "import math\n",
    "import rospy\n",
    "import time\n",
    "from utils import *\n",
    "rospy.init_node('base_and_sensor')"
   ]
  },
  {
   "cell_type": "markdown",
   "metadata": {
    "lang": "ja"
   },
   "source": [
    "**上級者向け** 台車を動かすには`utils`パッケージで定義された`move_base`関数を使用します。理解できそうな人は中身を読んでみましょう。\n",
    "\n",
    "```python\n",
    "from geometry_msgs.msg import Twist\n",
    "\n",
    "# 速度指令のパブリッシャーを作成\n",
    "base_vel_pub = rospy.Publisher('/hsrb/command_velocity', Twist, queue_size=1)\n",
    "\n",
    "def move_base_vel(vx, vy, vw):\n",
    "    u\"\"\"台車を速度制御する関数\n",
    "\n",
    "    引数:\n",
    "        vx (float): 直進方向の速度指令値 [m/s]（前進が正、後進が負）\n",
    "        vy (float): 横方向の速度指令値 [m/s]（左が正、右が負）\n",
    "        vw (float): 回転方向の速度指令値 [deg/s]（左回転が正、右回転が負）\n",
    "\n",
    "    \"\"\"\n",
    "\n",
    "    # 速度指令値をセットします\n",
    "    twist = Twist()\n",
    "    twist.linear.x = vx\n",
    "    twist.linear.y = vy\n",
    "    twist.angular.z = vw / 180.0 * math.pi  # 「度」から「ラジアン」に変換します\n",
    "    base_vel_pub.publish(twist)  # 速度指令をパブリッシュします\n",
    "```"
   ]
  },
  {
   "cell_type": "markdown",
   "metadata": {
    "lang": "en"
   },
   "source": [
    "**For advanced users**: To move the moving base, we use the `move_base` function defined in the `utils` package. The code is as follows:\n",
    "\n",
    "```python\n",
    "from geometry_msgs.msg import Twist\n",
    "\n",
    "# Create a velocity command publisher\n",
    "base_vel_pub = rospy.Publisher ('/hsrb/command_velocity', Twist, queue_size=1)\n",
    "\n",
    "def move_base_vel (vx, vy, vw):\n",
    "    u \"\"\"Function that controls the velocity of the move base\n",
    "\n",
    "    argument:\n",
    "        vx (float): Velocity command value in the straight direction [m/s] (forward is positive, reverse is negative)\n",
    "        vy (float): Velocity command value in the lateral direction [m/s] (left is positive, right is negative)\n",
    "        vw (float): Velocity command value in the rotation direction [deg/s] (anticlockwise rotation is positive, clockwise rotation is negative)\n",
    "\n",
    "    \"\"\"\n",
    "\n",
    "    # Set velocity command values\n",
    "    twist = Twist ()\n",
    "    twist.linear.x = vx\n",
    "    twist.linear.y = vy\n",
    "    twist.angular.z = vw / 180.0 * math.pi # Convert from \"degree\" to \"radian\"\n",
    "    base_vel_pub.publish (twist) # Publish velocity command\n",
    "```"
   ]
  },
  {
   "cell_type": "markdown",
   "metadata": {
    "lang": "ja"
   },
   "source": [
    "まず、台車を前進させてみましょう。直進させたい場合は以下のようにの速度司令を入力します。ロボットが少し前進すると思います。"
   ]
  },
  {
   "cell_type": "markdown",
   "metadata": {
    "lang": "en"
   },
   "source": [
    "First, let's move the moving base forward. If you want to go straight, enter the velocity command as shown below. The robot should move forward a little:"
   ]
  },
  {
   "cell_type": "code",
   "execution_count": null,
   "metadata": {},
   "outputs": [],
   "source": [
    "move_base_vel(1, 0, 0)"
   ]
  },
  {
   "cell_type": "markdown",
   "metadata": {
    "lang": "ja"
   },
   "source": [
    "これは、1m/秒の速度で直進することを意味します。\n",
    "\n",
    "台車を後進させるにはマイナスの指令値を入力します。"
   ]
  },
  {
   "cell_type": "markdown",
   "metadata": {
    "lang": "en"
   },
   "source": [
    "The above command means: go forward at a speed of 1 m/sec.\n",
    "\n",
    "You can enter a negative command value to move the move base backward:"
   ]
  },
  {
   "cell_type": "code",
   "execution_count": null,
   "metadata": {},
   "outputs": [],
   "source": [
    "move_base_vel(-1, 0, 0)"
   ]
  },
  {
   "cell_type": "markdown",
   "metadata": {
    "lang": "ja"
   },
   "source": [
    "HSRの台車は全方向に移動可能です。以下のように速度司令を入力し、左方向に移動させてみましょう。"
   ]
  },
  {
   "cell_type": "markdown",
   "metadata": {
    "lang": "en"
   },
   "source": [
    "The HSR can move in all directions. Enter the velocity command as shown below and move to the left:"
   ]
  },
  {
   "cell_type": "code",
   "execution_count": null,
   "metadata": {},
   "outputs": [],
   "source": [
    "move_base_vel(0, 1, 0)"
   ]
  },
  {
   "cell_type": "markdown",
   "metadata": {
    "lang": "ja"
   },
   "source": [
    "右方向に移動させるにはマイナスの指令値を入力します。"
   ]
  },
  {
   "cell_type": "markdown",
   "metadata": {
    "lang": "en"
   },
   "source": [
    "Enter a negative command value to move to the right:"
   ]
  },
  {
   "cell_type": "code",
   "execution_count": null,
   "metadata": {
    "lang": "ja"
   },
   "outputs": [],
   "source": [
    "# 自分で考えてみましょう。この下に入力できます。 Write your code here:\n"
   ]
  },
  {
   "cell_type": "markdown",
   "metadata": {
    "lang": "ja"
   },
   "source": [
    "回転して向いている方向を変えたい場合は、以下のように制御値を設定してください。マイナスの指令値で逆回転することもできます。"
   ]
  },
  {
   "cell_type": "markdown",
   "metadata": {
    "lang": "en"
   },
   "source": [
    "If you want to rotate to change the direction, set the control value as follows. It is also possible to rotate in the reverse direction with a negative command value:"
   ]
  },
  {
   "cell_type": "code",
   "execution_count": null,
   "metadata": {},
   "outputs": [],
   "source": [
    "move_base_vel(0 , 0, 90)"
   ]
  },
  {
   "cell_type": "markdown",
   "metadata": {
    "lang": "ja"
   },
   "source": [
    "台車を直進させ続けてみましょう。while文を用いることでロボットを動かし続けることができます。"
   ]
  },
  {
   "cell_type": "markdown",
   "metadata": {
    "lang": "en"
   },
   "source": [
    "Let's keep the moving base going forward. You can keep the robot moving by using the `while` statement:"
   ]
  },
  {
   "cell_type": "code",
   "execution_count": null,
   "metadata": {},
   "outputs": [],
   "source": [
    "while True:\n",
    "    move_base_vel(1, 0, 0)"
   ]
  },
  {
   "cell_type": "markdown",
   "metadata": {
    "lang": "ja"
   },
   "source": [
    "壁にぶつかってしまいました。上の■ボタンを押して動作を停止させましょう。\n",
    "![title](./imgs/2_stop_button.png)"
   ]
  },
  {
   "cell_type": "markdown",
   "metadata": {
    "lang": "en"
   },
   "source": [
    "Oops! The robot bumped into the wall. Press the ■ button above to stop our code.\n",
    "![title](./imgs/2_stop_button.png)"
   ]
  },
  {
   "cell_type": "markdown",
   "metadata": {
    "lang": "ja"
   },
   "source": [
    "一定時間動かし続けてみましょう。以下を実行すると3秒間直進させることができます。"
   ]
  },
  {
   "cell_type": "markdown",
   "metadata": {
    "lang": "en"
   },
   "source": [
    "Let's keep it running for a limited period of time. The following code will make the robot go forward for 3 seconds:"
   ]
  },
  {
   "cell_type": "code",
   "execution_count": null,
   "metadata": {
    "lang": "ja"
   },
   "outputs": [],
   "source": [
    "start_time = get_current_time_sec()  # 現在時刻を取得 Get the current time\n",
    "while get_current_time_sec() - start_time < 3:  # 3秒経過後ループを抜ける Exit the loop after 3 seconds\n",
    "    move_base_vel(0.5, 0, 0)"
   ]
  },
  {
   "cell_type": "markdown",
   "metadata": {
    "lang": "ja"
   },
   "source": [
    "0.5m/sの速度で3秒間直進させたので、約1.5m前方に進みます。"
   ]
  },
  {
   "cell_type": "markdown",
   "metadata": {
    "lang": "en"
   },
   "source": [
    "The robot went forward for 3 seconds at the speed of 0.5m/s, so it went forward for about 1.5m."
   ]
  },
  {
   "cell_type": "markdown",
   "metadata": {
    "lang": "ja"
   },
   "source": [
    "<div class=\"alert alert-block alert-info\">\n",
    "    <b>課題</b>\n",
    "    <p>初期位置から人の前まで移動をするプログラムを書いてみましょう。</p>\n",
    "    <p>以下のコマンドでHSRを初期位置に戻すことができます。</p>\n",
    "</div>"
   ]
  },
  {
   "cell_type": "markdown",
   "metadata": {
    "lang": "en"
   },
   "source": [
    "<div class=\"alert alert-block alert-info\">\n",
    "    <b>Task</b>\n",
    "    <p>Let's write some code to move the robot from the initial position to the front of the human.</p>\n",
    "    <p>By entering the following command, we can move the robot to the initial position.</p>\n",
    "</div>"
   ]
  },
  {
   "cell_type": "code",
   "execution_count": null,
   "metadata": {
    "lang": "ja"
   },
   "outputs": [],
   "source": [
    "# 初期位置に戻す Move to the initial position\n",
    "move_base_goal(0, 0, 0)"
   ]
  },
  {
   "cell_type": "code",
   "execution_count": null,
   "metadata": {
    "lang": "ja"
   },
   "outputs": [],
   "source": [
    "# 自分で考えてみましょう。この下に入力できます。 Write your code here:\n"
   ]
  },
  {
   "cell_type": "markdown",
   "metadata": {
    "lang": "ja"
   },
   "source": [
    "# センサ情報を取得する\n",
    "前章ではロボットの動きを人間が教えていました。次はセンサを用いて環境情報を取得して、ロボットを動かしてみましょう。\n",
    "\n",
    "HSRには、例えば以下のセンサが搭載されています。\n",
    "\n",
    "- レーザスキャナ：障害物までの距離を2次元的に測定\n",
    "\n",
    "\n",
    "- RGB-Dカメラ：色情報(RGB)+深度情報(Depth)を測定可能なカメラ\n",
    "\n",
    "\n",
    "- IMU：加速度、角加速度、磁力を測定\n",
    "\n",
    "\n",
    "- エンコーダ：ロボットの各関節角度を測定"
   ]
  },
  {
   "cell_type": "markdown",
   "metadata": {
    "lang": "en"
   },
   "source": [
    "# Capturing sensor information\n",
    "In the previous section, we controlled the movement of the robot using our prior knowledge about the environment. In this section, we will use sensors to acquire environmental information to move the robot.\n",
    "\n",
    "We can use the following sensors installed in HSR:\n",
    "\n",
    "- Laser scanner: Two-dimensional measurement of distance to obstacles\n",
    "\n",
    "- RGB-D camera: A camera that can measure color information (RGB) + depth information (Depth)\n",
    "\n",
    "- IMU: Measures acceleration, angular acceleration, and magnetic force\n",
    "\n",
    "- Encoders: Measures each joint angle of the robot"
   ]
  },
  {
   "cell_type": "markdown",
   "metadata": {
    "lang": "ja"
   },
   "source": [
    "## センサ情報の確認方法"
   ]
  },
  {
   "cell_type": "markdown",
   "metadata": {
    "lang": "en"
   },
   "source": [
    "## How to visualize sensor information"
   ]
  },
  {
   "cell_type": "markdown",
   "metadata": {
    "lang": "ja"
   },
   "source": [
    "rvizを使ってセンサ情報を視覚的に確認してみましょう。\n",
    "\n",
    "まずは、以下のコマンドを実行してrvizを起動します。"
   ]
  },
  {
   "cell_type": "markdown",
   "metadata": {
    "lang": "en"
   },
   "source": [
    "Let's check the sensor information visually using RViz.\n",
    "\n",
    "First, launch RViz by executing the following command:"
   ]
  },
  {
   "cell_type": "code",
   "execution_count": null,
   "metadata": {},
   "outputs": [],
   "source": [
    "%%script bash --bg\n",
    "rviz -d data/2_base_and_sensor.rviz > /dev/null 2>&1"
   ]
  },
  {
   "cell_type": "markdown",
   "metadata": {
    "lang": "ja"
   },
   "source": [
    "左の「Displays」の中から興味のあるデータにチェックを入れて、表示してみてください。それぞれのデータの意味は以下のとおりです。\n",
    "\n",
    "- RobotModel: ロボットの自己位置推定、関節角度情報を反映したロボットのCGモデル\n",
    "\n",
    "\n",
    "- LaserScan: レーザスキャナにより測定された障害物までの2次元距離\n",
    "\n",
    "\n",
    "- Image: 頭部に搭載されたRGB-Dカメラからの映像\n",
    "\n",
    "\n",
    "- PointCloud2: RGB-Dカメラから生成された環境の点群情報(ポイントクラウド)"
   ]
  },
  {
   "cell_type": "markdown",
   "metadata": {
    "lang": "en"
   },
   "source": [
    "Please check the data you are interested in using the \"Displays\" panel on the left side of the screen. The meaning of each item is as follows:\n",
    "\n",
    "- RobotModel: Robot CG model that reflects robot position estimation and joint angles.\n",
    "\n",
    "- LaserScan: Two-dimensional distance to obstacles measured by the laser scanner.\n",
    "\n",
    "- Image: Image from the RGB-D camera mounted on the head.\n",
    "\n",
    "- PointCloud2: Point cloud information of the environment generated from the RGB-D camera."
   ]
  },
  {
   "cell_type": "markdown",
   "metadata": {
    "lang": "ja"
   },
   "source": [
    "シミュレータの様子と表示されたデータを比較してみましょう。\n",
    "\n",
    "![title](./imgs/2_rviz_topics.png)"
   ]
  },
  {
   "cell_type": "markdown",
   "metadata": {
    "lang": "en"
   },
   "source": [
    "Let's compare the state of the simulator (in Gazebo) with the displayed data (in RViz).\n",
    "\n",
    "![title](./imgs/2_rviz_topics.png)"
   ]
  },
  {
   "cell_type": "markdown",
   "metadata": {
    "lang": "ja"
   },
   "source": [
    "<div class=\"alert alert-block alert-info\">\n",
    "    <b>課題</b>\n",
    "    <p>HSRが搭載している各種センサ情報をrviz上で確認し、スクリーンショット、スクリーンキャストを表示してみましょう。</p>\n",
    "</div>"
   ]
  },
  {
   "cell_type": "markdown",
   "metadata": {
    "lang": "en"
   },
   "source": [
    "<div class=\"alert alert-block alert-info\">\n",
    "    <b>Task</b>\n",
    "    <p>Check the information from the sensors mounted on the HSR and take screenshots.</p>\n",
    "</div>"
   ]
  },
  {
   "cell_type": "code",
   "execution_count": null,
   "metadata": {
    "lang": "ja"
   },
   "outputs": [],
   "source": [
    "# スクリーンショットを表示 Display screenshot\n",
    "screen_shot()"
   ]
  },
  {
   "cell_type": "code",
   "execution_count": null,
   "metadata": {
    "lang": "ja"
   },
   "outputs": [],
   "source": [
    "# スクリーンキャストを表示 Display screencast\n",
    "screen_cast(10)"
   ]
  },
  {
   "cell_type": "markdown",
   "metadata": {
    "lang": "ja"
   },
   "source": [
    "# センサ情報をプログラム上で利用する"
   ]
  },
  {
   "cell_type": "markdown",
   "metadata": {
    "lang": "en"
   },
   "source": [
    "# Using sensor information programmatically"
   ]
  },
  {
   "cell_type": "markdown",
   "metadata": {
    "lang": "ja"
   },
   "source": [
    "センサ情報をプログラム上で利用してみましょう。ここでは、レーザスキャナの情報を利用してみます。\n",
    "\n",
    "**上級者向け** 情報の取得には以下の「クラス」を使用します。興味のある人は見てみてください。\n",
    "\n",
    "\n",
    "```python\n",
    "from sensor_msgs.msg import LaserScan\n",
    "\n",
    "class Laser():\n",
    "    u\"\"\"レーザ情報を扱うクラス\"\"\"\n",
    "\n",
    "    def __init__(self):\n",
    "        # レーザースキャンのサブスクライバのコールバックに_laser_cbメソッドを登録\n",
    "        self._laser_sub = rospy.Subscriber('/hsrb/base_scan',\n",
    "                                           LaserScan, self._laser_cb)\n",
    "        self._scan_data = None\n",
    "\n",
    "    def _laser_cb(self, msg):\n",
    "        # レーザスキャンのコールバック関数\n",
    "        self._scan_data = msg\n",
    "\n",
    "    def get_data(self):\n",
    "        u\"\"\"レーザの値を取得する関数\"\"\"\n",
    "        return self._scan_data\n",
    "```"
   ]
  },
  {
   "cell_type": "markdown",
   "metadata": {
    "lang": "en"
   },
   "source": [
    "Let's use the sensor information in a program. Here, we will use the information from the laser scanner.\n",
    "\n",
    "**For advanced users**: We use the following Python \"class\" to capture the sensor information. If you are interested, please take a look:\n",
    "\n",
    "\n",
    "```python\n",
    "from sensor_msgs.msg import LaserScan\n",
    "\n",
    "class Laser():\n",
    "    u\"\"\"Class that handles laser information\"\"\"\n",
    "\n",
    "    def __init__(self):\n",
    "        # Register the _laser_cb method as a callback to the laser scan topic events\n",
    "        self._laser_sub = rospy.Subscriber ('/hsrb/base_scan',\n",
    "                                           LaserScan, self._laser_cb)\n",
    "        self._scan_data = None\n",
    "\n",
    "    def _laser_cb (self, msg):\n",
    "        # Laser scan callback function\n",
    "        self._scan_data = msg\n",
    "\n",
    "    def get_data(self):\n",
    "        u\"\"\"Function to get the laser value\"\"\"\n",
    "        return self._scan_data\n",
    "```"
   ]
  },
  {
   "cell_type": "markdown",
   "metadata": {
    "lang": "ja"
   },
   "source": [
    "レーザスキャナの情報を取得するために以下を実行します。"
   ]
  },
  {
   "cell_type": "markdown",
   "metadata": {
    "lang": "en"
   },
   "source": [
    "Run the following code to start capturing the laser scanner information:"
   ]
  },
  {
   "cell_type": "code",
   "execution_count": null,
   "metadata": {},
   "outputs": [],
   "source": [
    "laser = Laser()"
   ]
  },
  {
   "cell_type": "markdown",
   "metadata": {
    "lang": "ja"
   },
   "source": [
    "以下を実行することで、データを取得することができます。取得されたセンサ値を、`scan_data`変数に格納しています。"
   ]
  },
  {
   "cell_type": "markdown",
   "metadata": {
    "lang": "en"
   },
   "source": [
    "We can get the data by calling the `get_data()` member function. Here, we store the sensor value in the `scan_data` variable:"
   ]
  },
  {
   "cell_type": "code",
   "execution_count": null,
   "metadata": {
    "scrolled": false
   },
   "outputs": [],
   "source": [
    "scan_data = laser.get_data()"
   ]
  },
  {
   "cell_type": "markdown",
   "metadata": {
    "lang": "ja"
   },
   "source": [
    "`scan_data`変数に格納されたセンサ値の中身を見てみましょう。"
   ]
  },
  {
   "cell_type": "markdown",
   "metadata": {
    "lang": "en"
   },
   "source": [
    "Let's take a look at the contents of the sensor value stored in the `scan_data` variable:"
   ]
  },
  {
   "cell_type": "code",
   "execution_count": null,
   "metadata": {},
   "outputs": [],
   "source": [
    "scan_data"
   ]
  },
  {
   "cell_type": "markdown",
   "metadata": {
    "lang": "ja"
   },
   "source": [
    "センサ値は、Pythonの「構造体」を使って格納されます。\n",
    "\n",
    "構造体の中身は「変数名.構造体の要素名」でアクセスできます。"
   ]
  },
  {
   "cell_type": "markdown",
   "metadata": {
    "lang": "en"
   },
   "source": [
    "Sensor values are stored using Python \"data structures\".\n",
    "\n",
    "The contents of a data structure can be accessed via \"[variable name].[structure element name]\"."
   ]
  },
  {
   "cell_type": "markdown",
   "metadata": {
    "lang": "ja"
   },
   "source": [
    "例えば、`angle_min`, `angle_max`には、レーザスキャナのスキャン範囲（-120度から120度）がラジアンで格納されています。"
   ]
  },
  {
   "cell_type": "markdown",
   "metadata": {
    "lang": "en"
   },
   "source": [
    "For example, `angle_min` and` angle_max` contain the scan range of the laser scanner (-120 to 120 degrees) in radians:"
   ]
  },
  {
   "cell_type": "code",
   "execution_count": null,
   "metadata": {
    "lang": "ja"
   },
   "outputs": [],
   "source": [
    "# scan_data.angle_maxの値をラジアンからdegに変換します Convert value of scan_data.angle_max from radians to deg\n",
    "scan_data.angle_max / math.pi * 180  # math.pi = π"
   ]
  },
  {
   "cell_type": "markdown",
   "metadata": {
    "lang": "ja"
   },
   "source": [
    "レーザスキャナのデータ本体は、`ranges`という名前の配列に格納されており、配列の長さは721のようです。"
   ]
  },
  {
   "cell_type": "markdown",
   "metadata": {
    "lang": "en"
   },
   "source": [
    "The actual laser scanner data is stored in the array named `ranges`, and the length of the array seems to be 721:"
   ]
  },
  {
   "cell_type": "code",
   "execution_count": null,
   "metadata": {
    "lang": "ja"
   },
   "outputs": [],
   "source": [
    "# データの配列の長さを取得 Get length of the array\n",
    "len(scan_data.ranges)"
   ]
  },
  {
   "cell_type": "markdown",
   "metadata": {
    "lang": "ja"
   },
   "source": [
    "スキャン範囲（-120度から120度）上の各観測点がデータ化されているので、配列の真ん中（=361番目）の要素が「ロボット正面から壁までの距離」を表します。\n",
    "\n",
    "センサ値の単位はメートルです。"
   ]
  },
  {
   "cell_type": "markdown",
   "metadata": {
    "lang": "en"
   },
   "source": [
    "Since each observation point on the scan range (-120 degrees to 120 degrees) is digitized from left to right, the element in the middle of the array (= 361th) represents the \"distance from the front of the robot to the wall\".\n",
    "\n",
    "The unit of sensor value is meters."
   ]
  },
  {
   "cell_type": "code",
   "execution_count": null,
   "metadata": {
    "lang": "ja"
   },
   "outputs": [],
   "source": [
    "# 361番目のデータにアクセス Access the 361th data\n",
    "scan_data.ranges[360]"
   ]
  },
  {
   "cell_type": "markdown",
   "metadata": {
    "lang": "ja"
   },
   "source": [
    "# センサ値を使ってロボットを制御する"
   ]
  },
  {
   "cell_type": "markdown",
   "metadata": {
    "lang": "en"
   },
   "source": [
    "# Controlling the robot using sensor values"
   ]
  },
  {
   "cell_type": "markdown",
   "metadata": {
    "lang": "ja"
   },
   "source": [
    "センサ値を使ってロボットを制御してみましょう。"
   ]
  },
  {
   "cell_type": "markdown",
   "metadata": {
    "lang": "en"
   },
   "source": [
    "Let's control the robot using sensor values."
   ]
  },
  {
   "cell_type": "markdown",
   "metadata": {
    "lang": "ja"
   },
   "source": [
    "壁の1メートル手前で止まる（壁の1メートル手前まで前進する）プログラムを書いてみましょう。\n",
    "\n",
    "while文を使うと以下のように書けると思います。"
   ]
  },
  {
   "cell_type": "markdown",
   "metadata": {
    "lang": "en"
   },
   "source": [
    "Let's write a program that stops 1 meter before the wall (go straight until the robot reaches 1 meter before the wall).\n",
    "\n",
    "You can use `while` statement to write your code:"
   ]
  },
  {
   "cell_type": "code",
   "execution_count": null,
   "metadata": {
    "lang": "ja"
   },
   "outputs": [],
   "source": [
    "while True:\n",
    "    scan_data = laser.get_data()\n",
    "    if scan_data.ranges[360] < 1.0:  # 1メートル以内になったらwhileループを抜ける Exit the while loop if within 1 meter\n",
    "        break\n",
    "        \n",
    "    move_base_vel(0.5, 0, 0)"
   ]
  },
  {
   "cell_type": "markdown",
   "metadata": {
    "lang": "ja"
   },
   "source": [
    "<div class=\"alert alert-block alert-info\">\n",
    "    <b>課題</b>\n",
    "    <p>初期位置から人の前まで移動するプログラムを書いてみましょう。今回はレーザの値を用いましょう。</p>\n",
    "</div>"
   ]
  },
  {
   "cell_type": "markdown",
   "metadata": {
    "lang": "en"
   },
   "source": [
    "<div class=\"alert alert-block alert-info\">\n",
    "    <b>Task</b>\n",
    "    <p>Let's write some code to move the robot from the initial position to the front of the human.</p>\n",
    "    <p>This time, use the laser scanner value to ensure the movement.</p>\n",
    "</div>"
   ]
  },
  {
   "cell_type": "code",
   "execution_count": null,
   "metadata": {
    "lang": "ja"
   },
   "outputs": [],
   "source": [
    "# 自分で考えてみましょう。この下に入力できます。 Write your code here:\n"
   ]
  },
  {
   "cell_type": "markdown",
   "metadata": {
    "lang": "ja"
   },
   "source": [
    "<div class=\"alert alert-block alert-info\">\n",
    "    <b>アドバンスド課題</b>\n",
    "    <p>余裕がある人は「壁にぶつからないで部屋を動き回る」プログラムを書いてみましょう。</p>\n",
    "</div>"
   ]
  },
  {
   "cell_type": "markdown",
   "metadata": {
    "lang": "en"
   },
   "source": [
    "<div class=\"alert alert-block alert-info\">\n",
    "    <b>Advanced task</b>\n",
    "    <p>If possible, write code to \"move around the room without hitting the wall\".</p>\n",
    "</div>"
   ]
  },
  {
   "cell_type": "code",
   "execution_count": null,
   "metadata": {
    "lang": "ja"
   },
   "outputs": [],
   "source": [
    "# 自分で考えてみましょう。この下に入力できます。 Write your code here:\n"
   ]
  },
  {
   "cell_type": "markdown",
   "metadata": {
    "lang": "ja"
   },
   "source": [
    "<div class=\"alert alert-block alert-info\">\n",
    "    <b>次の学習</b>\n",
    "    <p>レーザスキャナの値と部屋の形状をマッチングすることで、ロボットの絶対位置を計算する「自己位置推定」が可能になります。</p>\n",
    "    <p>HSRに搭載されている自己位置推定に基づいた高度な移動機能を使ってみましょう。</p>\n",
    "</div>"
   ]
  },
  {
   "cell_type": "markdown",
   "metadata": {
    "lang": "en"
   },
   "source": [
    "<div class=\"alert alert-block alert-info\">\n",
    "    <b>What's next?</b>\n",
    "    <p>By comparing the laser scan variable to the room shape, it is possible to \"localize\" the robot's absolute position in the room.</p>\n",
    "    <p>We will learn how to use high level moving function, based on the localization function installed in HSR.</p>\n",
    "</div>"
   ]
  },
  {
   "cell_type": "code",
   "execution_count": null,
   "metadata": {},
   "outputs": [],
   "source": []
  }
 ],
 "metadata": {
  "kernelspec": {
   "display_name": "Python 2",
   "language": "python",
   "name": "python2"
  },
  "language_info": {
   "codemirror_mode": {
    "name": "ipython",
    "version": 2
   },
   "file_extension": ".py",
   "mimetype": "text/x-python",
   "name": "python",
   "nbconvert_exporter": "python",
   "pygments_lexer": "ipython2",
   "version": "2.7.17"
  },
  "nbTranslate": {
   "displayLangs": [
    "ja"
   ],
   "hotkey": "alt-t",
   "langInMainMenu": true,
   "sourceLang": "ja",
   "targetLang": "en",
   "useGoogleTranslate": true
  },
  "toc": {
   "base_numbering": 1,
   "nav_menu": {},
   "number_sections": true,
   "sideBar": true,
   "skip_h1_title": false,
   "title_cell": "Table of Contents",
   "title_sidebar": "Contents",
   "toc_cell": false,
   "toc_position": {},
   "toc_section_display": true,
   "toc_window_display": true
  }
 },
 "nbformat": 4,
 "nbformat_minor": 2
}
