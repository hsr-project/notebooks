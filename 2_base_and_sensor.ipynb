{
 "cells": [
  {
   "cell_type": "markdown",
   "metadata": {},
   "source": [
    "# 2. 台車の制御とセンサ情報の取得\n",
    "\n",
    "<div class=\"alert alert-block alert-info\">\n",
    "    <b>この章の目的</b>\n",
    "    <p>HSRの台車の制御方法と、センサ情報へのアクセス方法を学習します。</p>\n",
    "</div> "
   ]
  },
  {
   "cell_type": "markdown",
   "metadata": {},
   "source": [
    "# 台車を制御する"
   ]
  },
  {
   "cell_type": "markdown",
   "metadata": {},
   "source": [
    "HSRの台車は速度司令で制御することができます。\n",
    "まず、この章で用いるライブラリをインポートし、初期化をします。"
   ]
  },
  {
   "cell_type": "code",
   "execution_count": null,
   "metadata": {},
   "outputs": [],
   "source": [
    "import math\n",
    "import rospy\n",
    "import time\n",
    "from utils import *\n",
    "rospy.init_node('base_and_sensor')"
   ]
  },
  {
   "cell_type": "markdown",
   "metadata": {},
   "source": [
    "台車を動かすには`move_base`という関数を使用します。興味のある人は中身を見てみてください。\n",
    "\n",
    "```python\n",
    "from geometry_msgs.msg import Twist\n",
    "\n",
    "# 速度指令のパブリッシャーを作成\n",
    "base_vel_pub = rospy.Publisher('/hsrb/command_velocity', Twist, queue_size=1)\n",
    "\n",
    "def move_base_vel(vx, vy, vw):\n",
    "    u\"\"\"台車を速度制御する関数\n",
    "\n",
    "    引数:\n",
    "        vx (float): 直進方向の速度指令値 [m/s]（前進が正、後進が負）\n",
    "        vy (float): 横方向の速度指令値 [m/s]（左が正、右が負）\n",
    "        vw (float): 回転方向の速度指令値 [deg/s]（左回転が正、右回転が負）\n",
    "\n",
    "    \"\"\"\n",
    "\n",
    "    # 速度指令値をセットします\n",
    "    twist = Twist()\n",
    "    twist.linear.x = vx\n",
    "    twist.linear.y = vy\n",
    "    twist.angular.z = vw / 180.0 * math.pi  # 「度」から「ラジアン」に変換します\n",
    "    base_vel_pub.publish(twist)  # 速度指令をパブリッシュします\n",
    "```"
   ]
  },
  {
   "cell_type": "markdown",
   "metadata": {},
   "source": [
    "まず、台車を前進させてみましょう。直進させたい場合は以下のようにの速度司令を入力します。ロボットが少し前進すると思います。"
   ]
  },
  {
   "cell_type": "code",
   "execution_count": null,
   "metadata": {},
   "outputs": [],
   "source": [
    "move_base_vel(1, 0, 0)"
   ]
  },
  {
   "cell_type": "markdown",
   "metadata": {},
   "source": [
    "これは、1m/秒の速度で直進することを意味します。\n",
    "\n",
    "台車を後進させるにはマイナスの指令値を入力します。"
   ]
  },
  {
   "cell_type": "code",
   "execution_count": null,
   "metadata": {},
   "outputs": [],
   "source": [
    "move_base_vel(-1, 0, 0)"
   ]
  },
  {
   "cell_type": "markdown",
   "metadata": {},
   "source": [
    "HSRの台車は全方向に移動可能です。以下のように速度司令を入力し、左方向に移動させてみましょう。"
   ]
  },
  {
   "cell_type": "code",
   "execution_count": null,
   "metadata": {},
   "outputs": [],
   "source": [
    "move_base_vel(0, 1, 0)"
   ]
  },
  {
   "cell_type": "markdown",
   "metadata": {},
   "source": [
    "右方向に移動させるにはマイナスの指令値を入力します。"
   ]
  },
  {
   "cell_type": "code",
   "execution_count": null,
   "metadata": {},
   "outputs": [],
   "source": [
    "# 自分で考えてみましょう。この下に入力できます。\n"
   ]
  },
  {
   "cell_type": "markdown",
   "metadata": {},
   "source": [
    "回転して向いている方向を変えたい場合は、以下のように制御値を設定してください。マイナスの指令値で逆回転することもできます。"
   ]
  },
  {
   "cell_type": "code",
   "execution_count": null,
   "metadata": {},
   "outputs": [],
   "source": [
    "move_base_vel(0 , 0, 90)"
   ]
  },
  {
   "cell_type": "markdown",
   "metadata": {},
   "source": [
    "台車を直進させ続けてみましょう。while文を用いることでロボットを動かし続けることができます。"
   ]
  },
  {
   "cell_type": "code",
   "execution_count": null,
   "metadata": {},
   "outputs": [],
   "source": [
    "while True:\n",
    "    move_base_vel(1, 0, 0)"
   ]
  },
  {
   "cell_type": "markdown",
   "metadata": {},
   "source": [
    "壁にぶつかってしまいました。上の■ボタンを押して動作を停止させましょう。\n",
    "![title](./imgs/2_stop_button.png)"
   ]
  },
  {
   "cell_type": "markdown",
   "metadata": {},
   "source": [
    "一定時間動かし続けてみましょう。以下を実行すると3秒間直進させることができます。"
   ]
  },
  {
   "cell_type": "code",
   "execution_count": null,
   "metadata": {},
   "outputs": [],
   "source": [
    "start_time = get_current_time_sec()  # 現在時刻を取得\n",
    "while get_current_time_sec() - start_time < 3:  # 3秒経過後ループを抜ける\n",
    "    move_base_vel(0.5, 0, 0)"
   ]
  },
  {
   "cell_type": "markdown",
   "metadata": {},
   "source": [
    "0.5m/sの速度で3秒間直進させたので、約1.5m前方に進みます。"
   ]
  },
  {
   "cell_type": "markdown",
   "metadata": {},
   "source": [
    "<div class=\"alert alert-block alert-info\">\n",
    "    <b>課題</b>\n",
    "    <p>初期位置から人の前まで移動をするプログラムを書いてみましょう。</p>\n",
    "    <p>以下のコマンドでHSRを初期位置に戻すことができます。</p>\n",
    "</div>"
   ]
  },
  {
   "cell_type": "code",
   "execution_count": null,
   "metadata": {},
   "outputs": [],
   "source": [
    "# 初期位置に戻す\n",
    "move_base_goal(0, 0, 0)"
   ]
  },
  {
   "cell_type": "code",
   "execution_count": null,
   "metadata": {},
   "outputs": [],
   "source": [
    "# 自分で考えてみましょう。この下に入力できます。\n"
   ]
  },
  {
   "cell_type": "markdown",
   "metadata": {},
   "source": [
    "# センサ情報を取得する\n",
    "前章ではロボットの動きを人間が教えていました。次はセンサを用いて環境情報を取得して、ロボットを動かしてみましょう。\n",
    "\n",
    "HSRには、例えば以下のセンサが搭載されています。\n",
    "\n",
    "- レーザスキャナ：障害物までの距離を2次元的に測定\n",
    "\n",
    "\n",
    "- RGB-Dカメラ：色情報(RGB)+深度情報(Depth)を測定可能なカメラ\n",
    "\n",
    "\n",
    "- IMU：加速度、角加速度、磁力を測定\n",
    "\n",
    "\n",
    "- エンコーダ：ロボットの各関節角度を測定"
   ]
  },
  {
   "cell_type": "markdown",
   "metadata": {},
   "source": [
    "## センサ情報の確認方法"
   ]
  },
  {
   "cell_type": "markdown",
   "metadata": {},
   "source": [
    "rvizを使ってセンサ情報を視覚的に確認してみましょう。\n",
    "\n",
    "まずは、以下のコマンドを実行してrvizを起動します。"
   ]
  },
  {
   "cell_type": "code",
   "execution_count": null,
   "metadata": {},
   "outputs": [],
   "source": [
    "%%script bash --bg\n",
    "rviz -d data/2_base_and_sensor.rviz > /dev/null 2>&1"
   ]
  },
  {
   "cell_type": "markdown",
   "metadata": {},
   "source": [
    "左の「Displays」の中から興味のあるデータにチェックを入れて、表示してみてください。それぞれのデータの意味は以下のとおりです。\n",
    "\n",
    "- RobotModel: ロボットの自己位置推定、関節角度情報を反映したロボットのCGモデル\n",
    "\n",
    "\n",
    "- LaserScan: レーザスキャナにより測定された障害物までの2次元距離\n",
    "\n",
    "\n",
    "- Image: 頭部に搭載されたRGB-Dカメラからの映像\n",
    "\n",
    "\n",
    "- PointCloud2: RGB-Dカメラから生成された環境の点群情報(ポイントクラウド)"
   ]
  },
  {
   "cell_type": "markdown",
   "metadata": {},
   "source": [
    "シミュレータの様子と表示されたデータを比較してみましょう。\n",
    "\n",
    "![title](./imgs/2_rviz_topics.png)"
   ]
  },
  {
   "cell_type": "markdown",
   "metadata": {},
   "source": [
    "<div class=\"alert alert-block alert-info\">\n",
    "    <b>課題</b>\n",
    "    <p>HSRが搭載している各種センサ情報をrviz上で確認し、スクリーンショット、スクリーンキャストを表示してみましょう。</p>\n",
    "</div>"
   ]
  },
  {
   "cell_type": "code",
   "execution_count": null,
   "metadata": {},
   "outputs": [],
   "source": [
    "# スクリーンショットを表示\n",
    "screen_shot()"
   ]
  },
  {
   "cell_type": "code",
   "execution_count": null,
   "metadata": {},
   "outputs": [],
   "source": [
    "# スクリーンキャストを表示\n",
    "screen_cast(10)"
   ]
  },
  {
   "cell_type": "markdown",
   "metadata": {},
   "source": [
    "# センサ情報をプログラム上で利用する"
   ]
  },
  {
   "cell_type": "markdown",
   "metadata": {},
   "source": [
    "センサ情報をプログラム上で利用してみましょう。ここでは、レーザスキャナの情報を利用してみます。\n",
    "\n",
    "以下の「クラス」を使用します。興味のある人は見てみてください。\n",
    "\n",
    "\n",
    "```python\n",
    "from sensor_msgs.msg import LaserScan\n",
    "\n",
    "class Laser():\n",
    "    u\"\"\"レーザ情報を扱うクラス\"\"\"\n",
    "\n",
    "    def __init__(self):\n",
    "        # レーザースキャンのサブスクライバのコールバックに_laser_cbメソッドを登録\n",
    "        self._laser_sub = rospy.Subscriber('/hsrb/base_scan',\n",
    "                                           LaserScan, self._laser_cb)\n",
    "        self._scan_data = None\n",
    "\n",
    "    def _laser_cb(self, msg):\n",
    "        # レーザスキャンのコールバック関数\n",
    "        self._scan_data = msg\n",
    "\n",
    "    def get_data(self):\n",
    "        u\"\"\"レーザの値を取得する関数\"\"\"\n",
    "        return self._scan_data\n",
    "```"
   ]
  },
  {
   "cell_type": "markdown",
   "metadata": {},
   "source": [
    "レーザスキャナの情報を取得するために以下を実行します。"
   ]
  },
  {
   "cell_type": "code",
   "execution_count": null,
   "metadata": {},
   "outputs": [],
   "source": [
    "laser = Laser()"
   ]
  },
  {
   "cell_type": "markdown",
   "metadata": {},
   "source": [
    "以下を実行することで、データを取得することができます。取得されたセンサ値を、`scan_data`変数に格納しています。"
   ]
  },
  {
   "cell_type": "code",
   "execution_count": null,
   "metadata": {
    "scrolled": false
   },
   "outputs": [],
   "source": [
    "scan_data = laser.get_data()"
   ]
  },
  {
   "cell_type": "markdown",
   "metadata": {},
   "source": [
    "`scan_data`変数に格納されたセンサ値の中身を見てみましょう。"
   ]
  },
  {
   "cell_type": "code",
   "execution_count": null,
   "metadata": {},
   "outputs": [],
   "source": [
    "scan_data"
   ]
  },
  {
   "cell_type": "markdown",
   "metadata": {},
   "source": [
    "センサ値は、Pythonの「構造体」を使って格納されます。\n",
    "\n",
    "構造体の中身は「変数名.構造体の要素名」でアクセスできます。"
   ]
  },
  {
   "cell_type": "markdown",
   "metadata": {},
   "source": [
    "例えば、`angle_min`, `angle_max`には、レーザスキャナのスキャン範囲（-120度から120度）がラジアンで格納されています。"
   ]
  },
  {
   "cell_type": "code",
   "execution_count": null,
   "metadata": {},
   "outputs": [],
   "source": [
    "# scan_data.angle_maxの値をラジアンからdegに変換します\n",
    "scan_data.angle_max / math.pi * 180  # math.pi = π"
   ]
  },
  {
   "cell_type": "markdown",
   "metadata": {},
   "source": [
    "レーザスキャナのデータ本体は、`ranges`という名前の配列に格納されており、配列の長さは721のようです。"
   ]
  },
  {
   "cell_type": "code",
   "execution_count": null,
   "metadata": {},
   "outputs": [],
   "source": [
    "# データの配列の長さを習得\n",
    "len(scan_data.ranges)"
   ]
  },
  {
   "cell_type": "markdown",
   "metadata": {},
   "source": [
    "スキャン範囲（-120度から120度）上の各観測点がデータ化されているので、配列の真ん中（=361番目）の要素が「ロボット正面から壁までの距離」を表します。\n",
    "\n",
    "センサ値の単位はメートルです。"
   ]
  },
  {
   "cell_type": "code",
   "execution_count": null,
   "metadata": {},
   "outputs": [],
   "source": [
    "# 361番目のデータにアクセス\n",
    "scan_data.ranges[360]"
   ]
  },
  {
   "cell_type": "markdown",
   "metadata": {},
   "source": [
    "# センサ値を使ってロボットを制御する"
   ]
  },
  {
   "cell_type": "markdown",
   "metadata": {},
   "source": [
    "センサ値を使ってロボットを制御してみましょう。"
   ]
  },
  {
   "cell_type": "markdown",
   "metadata": {},
   "source": [
    "壁の1メートル手前で止まる（壁の1メートル手前まで前進する）プログラムを書いてみましょう。\n",
    "\n",
    "while文を使うと以下のように書けると思います。"
   ]
  },
  {
   "cell_type": "code",
   "execution_count": null,
   "metadata": {},
   "outputs": [],
   "source": [
    "while True:\n",
    "    scan_data = laser.get_data()\n",
    "    if scan_data.ranges[360] < 1.0:  # 1メートル以内になったらwhileループを抜ける\n",
    "        break\n",
    "        \n",
    "    move_base_vel(0.5, 0, 0)"
   ]
  },
  {
   "cell_type": "markdown",
   "metadata": {},
   "source": [
    "<div class=\"alert alert-block alert-info\">\n",
    "    <b>課題</b>\n",
    "    <p>初期位置から人の前まで移動するプログラムを書いてみましょう。今回はレーザの値を用いましょう。</p>\n",
    "</div>"
   ]
  },
  {
   "cell_type": "code",
   "execution_count": null,
   "metadata": {},
   "outputs": [],
   "source": [
    "# 自分で考えてみましょう。この下に入力できます。\n"
   ]
  },
  {
   "cell_type": "markdown",
   "metadata": {},
   "source": [
    "<div class=\"alert alert-block alert-info\">\n",
    "    <b>アドバンスド課題</b>\n",
    "    <p>余裕がある人は「壁にぶつからないで部屋を動き回る」プログラムを書いてみましょう。</p>\n",
    "</div>"
   ]
  },
  {
   "cell_type": "code",
   "execution_count": null,
   "metadata": {},
   "outputs": [],
   "source": [
    "# 自分で考えてみましょう。この下に入力できます。\n"
   ]
  },
  {
   "cell_type": "markdown",
   "metadata": {},
   "source": [
    "<div class=\"alert alert-block alert-info\">\n",
    "    <b>次の学習</b>\n",
    "    <p>レーザスキャナの値と部屋の形状をマッチングすることで、ロボットの絶対位置を計算する「自己位置推定」が可能になります。</p>\n",
    "    <p>HSRに搭載されている自己位置推定に基づいた高度な移動機能を使ってみましょう。</p>\n",
    "</div>"
   ]
  },
  {
   "cell_type": "code",
   "execution_count": null,
   "metadata": {},
   "outputs": [],
   "source": []
  }
 ],
 "metadata": {
  "kernelspec": {
   "display_name": "Python 2",
   "language": "python",
   "name": "python2"
  },
  "language_info": {
   "codemirror_mode": {
    "name": "ipython",
    "version": 2
   },
   "file_extension": ".py",
   "mimetype": "text/x-python",
   "name": "python",
   "nbconvert_exporter": "python",
   "pygments_lexer": "ipython2",
   "version": "2.7.12"
  }
 },
 "nbformat": 4,
 "nbformat_minor": 2
}
