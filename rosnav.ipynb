{
 "cells": [
  {
   "cell_type": "markdown",
   "metadata": {},
   "source": [
    "# 移動ライブラリ（rosnav）の使い方\n",
    "rosnavという自律移動機能を使って、ロボットを指定した場所まで障害物を避けながら移動させてみましょう。\n",
    "\n",
    "<div class=\"alert alert-block alert-info\">\n",
    "    <b>この章の目的</b>\n",
    "    <p>rosnavを使った絶対座標指定による移動をスクリプトを用いて実行する方法を学習します</p>\n",
    "</div> "
   ]
  },
  {
   "cell_type": "markdown",
   "metadata": {},
   "source": [
    "## 1. 準備"
   ]
  },
  {
   "cell_type": "markdown",
   "metadata": {},
   "source": [
    "docker-compose upにてシミュレータ環境を実行したのち、ブラウザから\n",
    "http://localhost:3000/\n",
    "にアクセスし、シミュレータ画面を開きましょう。gazeboというシミュレータの画面が表示されました。\n",
    "![title](./imgs/gazebo.png)\n",
    "次に、gazebo上のシミュレーション開始ボタンをクリックして、シミュレーションを開始しましょう。シミュレーション開始ボタンは左下の矢印です。\n",
    "![title](./imgs/play_button.png)\n",
    "シミュレーションが開始されました。マウス操作で視点の位置や角度を変えてみましょう。\n",
    "![title](./imgs/gazebo_view_change.png)\n"
   ]
  },
  {
   "cell_type": "markdown",
   "metadata": {},
   "source": [
    "## 2. rviz\n",
    "次に、rvizを起動します。rvizはロボットのセンサの状態等を可視化するためのツールです。下記コマンドを実行して、起動してください。"
   ]
  },
  {
   "cell_type": "code",
   "execution_count": null,
   "metadata": {},
   "outputs": [],
   "source": [
    "%%script bash --bg\n",
    "rviz -d data/nav.rviz > /dev/null 2>&1"
   ]
  },
  {
   "cell_type": "markdown",
   "metadata": {},
   "source": [
    "シミュレータ画面で、rvizが立ち上がったことを確認してください。rvizでは、ロボットに搭載された各種センサ情報を確認できます。\n",
    "\n",
    "![title](./imgs/rviz.png)\n",
    "\n",
    "gazeboとrvizの画面を切り替えるには、画面下の[Gazebo]や[nav.rviz]をクリックしましょう。\n",
    "\n",
    "\n",
    "![title](./imgs/change_window.png)\n"
   ]
  },
  {
   "cell_type": "markdown",
   "metadata": {},
   "source": [
    "## 3. rvizを使った自律移動"
   ]
  },
  {
   "cell_type": "markdown",
   "metadata": {},
   "source": [
    "rvizから自律移動のゴールを入力します。rvizの上部のツールバーにある「2D Nav Goal」をクリックし、部屋内の障害物のない場所を指定してみましょう\n",
    "![title](./imgs/2d_nav_goal_button.png)\n",
    "![title](./imgs/2d_nav_goal.png)\n",
    "HSRが自律移動を開始します。rviz画面や、シミュレータ画面で、HSRが障害物を避けながら指定した位置に移動することを確認しましょう。\n",
    "- rviz画面\n",
    "![title](./imgs/moving.png)\n",
    "- gazebo画面\n",
    "![title](./imgs/moving_gazebo.png)"
   ]
  },
  {
   "cell_type": "markdown",
   "metadata": {},
   "source": [
    "## 4. 障害物回避\n",
    "次に、人の位置を移動させてみましょう。gazeboの上にある\n",
    "![title](./imgs/move_object_button.png)\n",
    "このボタンをクリックしてから、人をクリックしてください。\n",
    "![title](./imgs/human_select.png)\n",
    "青、赤、緑の矢印が表示されました。赤と緑の矢印を動かすと、人をXY平面上にて動かせます。人を動かしている時に、人をロボットにぶつけてまうと、ロボットの挙動がおかしくなるので、ぶつからないように移動させましょう。\n",
    "\n",
    "終わったら、矢印ボタンを押して、選択状態を終了しましょう。\n",
    "![title](./imgs/back_to_default.png)"
   ]
  },
  {
   "cell_type": "markdown",
   "metadata": {},
   "source": [
    "rvizの画面に戻って、「2D Nav Goal」を与え、HSRを自律移動させましょう。\n",
    "![title](./imgs/move_avoiding_human.png)\n",
    "人をよけながら自律移動できたでしょうか？"
   ]
  },
  {
   "cell_type": "markdown",
   "metadata": {},
   "source": [
    "# 5. pythonスクリプトからの自律移動"
   ]
  },
  {
   "cell_type": "markdown",
   "metadata": {},
   "source": [
    "前章はrvizから自律移動を実行しましたが、今回はPythonから指定した座標に自律移動する指令を出してみましょう。"
   ]
  },
  {
   "cell_type": "markdown",
   "metadata": {},
   "source": [
    "### 1. 準備\n",
    "\n",
    "自律移動機能を使うには、ROSのアクションの仕組みを使います。\n",
    "\n",
    "必要なライブラリをインポートし、初期化します。"
   ]
  },
  {
   "cell_type": "code",
   "execution_count": 4,
   "metadata": {},
   "outputs": [],
   "source": [
    "import rospy\n",
    "import actionlib\n",
    "from move_base_msgs.msg import MoveBaseAction, MoveBaseGoal\n",
    "\n",
    "# ROSの初期化\n",
    "rospy.init_node('send_goal')\n",
    "\n",
    "# Actionの初期化\n",
    "client = actionlib.SimpleActionClient('/move_base', MoveBaseAction)\n",
    "client.wait_for_server()"
   ]
  },
  {
   "cell_type": "markdown",
   "metadata": {},
   "source": [
    "### 2. ゴール座標指定\n",
    "次に、ゴールの座標を決めましょう。rvizの右上の「Publish Point」ボタンをクリックします。\n",
    "![title](./imgs/publish_point_button.png)\n",
    "次に、地図上で目的地にマウスを持って行くと、rvizの左下の「Select this point」の部分に座標が表示されます。この例では、x=1.29,y=3.13,z=0.00747 が目的地の座標です。zは不要なので、x,yの値をメモしておきましょう。\n",
    "![title](./imgs/point_values.png)\n",
    "\n",
    "#### 注意: ゴールを地図から外れた位置に設定すると誤動作するので、地図内の位置にしてください。"
   ]
  },
  {
   "cell_type": "markdown",
   "metadata": {},
   "source": [
    "move_baseアクションのゴール設定に使うMoveBaseGoal型の変数を作成します。\n",
    "\n",
    "内容を見ると、位置（position）と向き（orientation）からなる構造体のようです。"
   ]
  },
  {
   "cell_type": "code",
   "execution_count": 6,
   "metadata": {},
   "outputs": [
    {
     "data": {
      "text/plain": [
       "target_pose: \n",
       "  header: \n",
       "    seq: 0\n",
       "    stamp: \n",
       "      secs: 0\n",
       "      nsecs:         0\n",
       "    frame_id: ''\n",
       "  pose: \n",
       "    position: \n",
       "      x: 0.0\n",
       "      y: 0.0\n",
       "      z: 0.0\n",
       "    orientation: \n",
       "      x: 0.0\n",
       "      y: 0.0\n",
       "      z: 0.0\n",
       "      w: 0.0"
      ]
     },
     "execution_count": 6,
     "metadata": {},
     "output_type": "execute_result"
    }
   ],
   "source": [
    "goal = MoveBaseGoal()\n",
    "goal"
   ]
  },
  {
   "cell_type": "markdown",
   "metadata": {},
   "source": [
    "まずは、frame_idに「map」を設定します。\n",
    "\n",
    "これは、「ここで設定するゴールはmap座標系上の座標として定義する」という意味です（ROSは複数の座標系を同時に扱うことができます）。\n",
    "\n",
    "**この設定をしないと移動が実行されないので忘れずに設定してください**"
   ]
  },
  {
   "cell_type": "code",
   "execution_count": 7,
   "metadata": {},
   "outputs": [],
   "source": [
    "goal.target_pose.header.frame_id = \"map\""
   ]
  },
  {
   "cell_type": "markdown",
   "metadata": {},
   "source": [
    "次に目的地のxy座標を設定します。"
   ]
  },
  {
   "cell_type": "code",
   "execution_count": 9,
   "metadata": {},
   "outputs": [],
   "source": [
    "goal.target_pose.pose.position.x = 1.29\n",
    "goal.target_pose.pose.position.y = 3.13"
   ]
  },
  {
   "cell_type": "markdown",
   "metadata": {},
   "source": [
    "最後に、目標姿勢（ロボットの向き）を設定します。\n",
    "\n",
    "ROSでは、姿勢の表現には「四元数（quaternion）」が多く使われます。\n",
    "\n",
    "我々がこれまで良く使ってきた姿勢の表現は「オイラー角」でした。\n",
    "オイラー角はロール・ピッチ・ヨーの3次元で姿勢を表現しますが、四元数はxyzwの4次元で姿勢を表現します。\n",
    "オイラー角より1次元分表現能力が高いため、オイラー角を利用した場合に発生する「ジンバルロック」などの問題を回避することができます。\n",
    "\n",
    "ただし、四元数は人間にとって直感的に理解しにくいため、ここでは姿勢の設定はオイラー角で行い、プログラム上で四元数に変換しています。"
   ]
  },
  {
   "cell_type": "code",
   "execution_count": 10,
   "metadata": {},
   "outputs": [],
   "source": [
    "import math\n",
    "from tf import transformations\n",
    "\n",
    "theta = 10  # deg\n",
    "q = transformations.quaternion_from_euler(0.0, 0.0, theta / 180.0 * math.pi)\n",
    "\n",
    "goal.target_pose.pose.orientation.x = q[0]\n",
    "goal.target_pose.pose.orientation.y = q[1]\n",
    "goal.target_pose.pose.orientation.z = q[2]\n",
    "goal.target_pose.pose.orientation.w = q[3]"
   ]
  },
  {
   "cell_type": "markdown",
   "metadata": {},
   "source": [
    "ゴール情報がすべて設定できたので、内容を確認しましょう。"
   ]
  },
  {
   "cell_type": "code",
   "execution_count": 11,
   "metadata": {},
   "outputs": [
    {
     "data": {
      "text/plain": [
       "target_pose: \n",
       "  header: \n",
       "    seq: 0\n",
       "    stamp: \n",
       "      secs: 0\n",
       "      nsecs:         0\n",
       "    frame_id: \"map\"\n",
       "  pose: \n",
       "    position: \n",
       "      x: 1.29\n",
       "      y: 3.13\n",
       "      z: 0.0\n",
       "    orientation: \n",
       "      x: 0.0\n",
       "      y: 0.0\n",
       "      z: 0.0871557427477\n",
       "      w: 0.996194698092"
      ]
     },
     "execution_count": 11,
     "metadata": {},
     "output_type": "execute_result"
    }
   ],
   "source": [
    "goal"
   ]
  },
  {
   "cell_type": "markdown",
   "metadata": {},
   "source": [
    "## 3. ゴールを送る\n",
    "ゴールをロボットに送りましょう。下記のコマンドを実行し、シミュレータ上でのロボットの動作を観察してください。"
   ]
  },
  {
   "cell_type": "code",
   "execution_count": null,
   "metadata": {},
   "outputs": [],
   "source": [
    "# goal座標をロボットに送る\n",
    "client.send_goal(goal)\n",
    "finished = client.wait_for_result()"
   ]
  },
  {
   "cell_type": "markdown",
   "metadata": {},
   "source": [
    "## 4. 関数化\n",
    "上記の処理を関数にして簡単に呼び出せるようにしましょう。"
   ]
  },
  {
   "cell_type": "code",
   "execution_count": 6,
   "metadata": {},
   "outputs": [],
   "source": [
    "import rospy\n",
    "import actionlib\n",
    "from move_base_msgs.msg import MoveBaseAction, MoveBaseGoal\n",
    "import math\n",
    "from tf import transformations\n",
    "\n",
    "# ROSの初期化\n",
    "rospy.init_node('send_goal')\n",
    "\n",
    "# Actionの初期化\n",
    "navclient = actionlib.SimpleActionClient('/move_base', MoveBaseAction)\n",
    "navclient.wait_for_server()\n",
    "\n",
    "def move(x, y, theta):\n",
    "    goal = MoveBaseGoal()\n",
    "    goal.target_pose.header.frame_id = \"map\"\n",
    "    goal.target_pose.pose.position.x = x\n",
    "    goal.target_pose.pose.position.y = y\n",
    "    q = transformations.quaternion_from_euler(0.0, 0.0, theta / 180.0 * math.pi)\n",
    "    goal.target_pose.pose.orientation.x = q[0]\n",
    "    goal.target_pose.pose.orientation.y = q[1]\n",
    "    goal.target_pose.pose.orientation.z = q[2]\n",
    "    goal.target_pose.pose.orientation.w = q[3]\n",
    "\n",
    "    # goal座標をロボットに送る\n",
    "    navclient.send_goal(goal)\n",
    "    return navclient.wait_for_result()"
   ]
  },
  {
   "cell_type": "markdown",
   "metadata": {},
   "source": [
    "上の関数を使うと、以下のコマンドでx=1メートル, y=0.5メートル, theta=10度の位置姿勢に移動できます。"
   ]
  },
  {
   "cell_type": "code",
   "execution_count": 9,
   "metadata": {},
   "outputs": [
    {
     "data": {
      "text/plain": [
       "True"
      ]
     },
     "execution_count": 9,
     "metadata": {},
     "output_type": "execute_result"
    }
   ],
   "source": [
    "move(1, 0.5, 10)"
   ]
  },
  {
   "cell_type": "markdown",
   "metadata": {},
   "source": [
    "以下のコマンドで原点に戻ります。"
   ]
  },
  {
   "cell_type": "code",
   "execution_count": 10,
   "metadata": {},
   "outputs": [
    {
     "data": {
      "text/plain": [
       "True"
      ]
     },
     "execution_count": 10,
     "metadata": {},
     "output_type": "execute_result"
    }
   ],
   "source": [
    "move(0, 0, 0)"
   ]
  },
  {
   "cell_type": "markdown",
   "metadata": {},
   "source": [
    "## 5. 応用\n",
    "下記のようなことを試して見ましょう。\n",
    "- ある場所についたら、次のゴールに自動的に向かうようにしてみましょう\n",
    "- goalの配列を作って、数カ所を巡回させましょう\n",
    "- 障害物の上にゴールを置くとどうなるでしょうか？\n",
    "- 自律移動中に人を動かして、ロボットの邪魔をするとどうなるでしょうか？\n",
    "- 地図の外にゴールを置くとどうなるでしょうか\n"
   ]
  },
  {
   "cell_type": "code",
   "execution_count": null,
   "metadata": {},
   "outputs": [],
   "source": []
  }
 ],
 "metadata": {
  "kernelspec": {
   "display_name": "Python 2",
   "language": "python",
   "name": "python2"
  },
  "language_info": {
   "codemirror_mode": {
    "name": "ipython",
    "version": 2
   },
   "file_extension": ".py",
   "mimetype": "text/x-python",
   "name": "python",
   "nbconvert_exporter": "python",
   "pygments_lexer": "ipython2",
   "version": "2.7.12"
  }
 },
 "nbformat": 4,
 "nbformat_minor": 2
}
