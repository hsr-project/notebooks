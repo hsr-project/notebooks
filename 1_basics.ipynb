{
 "cells": [
  {
   "cell_type": "markdown",
   "metadata": {},
   "source": [
    "# 1. 基本的な使い方\n",
    "\n",
    "<div class=\"alert alert-block alert-info\">\n",
    "    <b>この章の目的</b>\n",
    "    <p>Jupyter NotebookやGazebo, RVizの簡単な使い方を学びましょう。</p>\n",
    "</div> "
   ]
  },
  {
   "cell_type": "markdown",
   "metadata": {},
   "source": [
    "# HSRとは\n",
    "\n",
    "HSR（HSR：Human Support Robotの略）は、人の活動をサポートする「トヨタ・パートナーロボット」の一つとして、手足の不自由な人のために、家庭内での自立生活をアシストする生活支援ロボットです。\n",
    "\n",
    "この教材では、HSRのシミュレータを通してロボットの概要を学んでいただきます。"
   ]
  },
  {
   "cell_type": "markdown",
   "metadata": {},
   "source": [
    "# Jupyter Notebookの使い方"
   ]
  },
  {
   "cell_type": "markdown",
   "metadata": {},
   "source": [
    "Jupyter NotebookではCellにPythonコマンドを入力し逐次実行していくことができます。\n",
    "\n",
    "例えば以下のコマンドを実行してみましょう。コマンドを実行するにはセルを選択した状態で「Shift+Enter」を押してください。"
   ]
  },
  {
   "cell_type": "code",
   "execution_count": null,
   "metadata": {},
   "outputs": [],
   "source": [
    "1+1"
   ]
  },
  {
   "cell_type": "markdown",
   "metadata": {},
   "source": [
    "コマンドの実行結果は変数へ代入することもできます。"
   ]
  },
  {
   "cell_type": "code",
   "execution_count": null,
   "metadata": {},
   "outputs": [],
   "source": [
    "a = 1+1"
   ]
  },
  {
   "cell_type": "markdown",
   "metadata": {},
   "source": [
    "変数の中身は、以下のようにして出力できます。"
   ]
  },
  {
   "cell_type": "code",
   "execution_count": null,
   "metadata": {},
   "outputs": [],
   "source": [
    "a"
   ]
  },
  {
   "cell_type": "markdown",
   "metadata": {},
   "source": [
    "notebook上にはコマンドを実行した時点の情報が保存されます。例えば以下のコマンドを実行すると時刻が更新されます。"
   ]
  },
  {
   "cell_type": "code",
   "execution_count": null,
   "metadata": {
    "scrolled": true
   },
   "outputs": [],
   "source": [
    "import datetime\n",
    "print(datetime.datetime.now())"
   ]
  },
  {
   "cell_type": "markdown",
   "metadata": {},
   "source": [
    "# Gazebo, Rvizの使い方"
   ]
  },
  {
   "cell_type": "markdown",
   "metadata": {},
   "source": [
    "## 1. Gazeboの使い方\n",
    "gazeboはロボットのシミュレータです。以下の手順で起動します。"
   ]
  },
  {
   "cell_type": "markdown",
   "metadata": {},
   "source": [
    "1. docker-compose upにてシミュレータ環境を実行しましょう。\n",
    "\n",
    "\n",
    "2. ブラウザから http://localhost:3000/ にアクセスし、シミュレータ画面を開きましょう。gazeboの画面が表示されました。\n",
    "\n",
    "\n",
    "![title](./imgs/1_gazebo.png)\n",
    "\n",
    "\n",
    "3. 左下のシミュレーション開始ボタンをクリックして、シミュレーションを開始しましょう。\n",
    "\n",
    "\n",
    "![title](./imgs/1_play_button.png)\n",
    "\n",
    "\n",
    "4. シミュレーションが開始されました。マウス操作で視点の位置や角度を変えてみましょう。\n",
    "\n",
    "   左ボタンで平行移動、ホイールボタンで回転移動、スクロールでズームができます。\n",
    "\n",
    "\n",
    "![title](./imgs/1_gazebo_view_change.png)"
   ]
  },
  {
   "cell_type": "markdown",
   "metadata": {},
   "source": [
    "シミュレータ内での経過時間は、現実での経過時間とは異なります。\n",
    "\n",
    "下部のSim Timeにシミュレータ内の経過時間、Real Timeに現実の経過時間が表示されています。\n",
    "\n",
    "#### 注意: 以降の説明ではシミュレータ内の時間を基準とします。"
   ]
  },
  {
   "cell_type": "markdown",
   "metadata": {},
   "source": [
    "## 2. RVizの使い方\n",
    "rvizはロボットのセンサの状態等を可視化するためのツールです。下記コマンドを実行して、起動してください。"
   ]
  },
  {
   "cell_type": "code",
   "execution_count": null,
   "metadata": {},
   "outputs": [],
   "source": [
    "%%script bash --bg --out rviz_out\n",
    "rosrun rviz rviz"
   ]
  },
  {
   "cell_type": "markdown",
   "metadata": {},
   "source": [
    "シミュレータ画面で、rvizが立ち上がったことを確認してください。rvizでは、ロボットに搭載された各種センサ情報を確認できます。\n",
    "\n",
    "![title](./imgs/1_rviz.png)\n",
    "\n",
    "gazeboとrvizの画面を切り替えるには、画面下の[Gazebo]や[RViz]をクリックしましょう。\n"
   ]
  },
  {
   "cell_type": "markdown",
   "metadata": {},
   "source": [
    "# スクリーンショット、スクリーンキャプチャの使い方"
   ]
  },
  {
   "cell_type": "markdown",
   "metadata": {},
   "source": [
    "まず以下で必要なライブラリをインポートします。"
   ]
  },
  {
   "cell_type": "code",
   "execution_count": null,
   "metadata": {},
   "outputs": [],
   "source": [
    "from utils import screen_shot, screen_cast"
   ]
  },
  {
   "cell_type": "markdown",
   "metadata": {},
   "source": [
    "## 1. スクリーンショットの埋め込み"
   ]
  },
  {
   "cell_type": "markdown",
   "metadata": {},
   "source": [
    "スクリーンショットの取得と埋め込みは以下のコマンドで実行可能です。"
   ]
  },
  {
   "cell_type": "code",
   "execution_count": null,
   "metadata": {},
   "outputs": [],
   "source": [
    "screen_shot()"
   ]
  },
  {
   "cell_type": "markdown",
   "metadata": {},
   "source": [
    "## 2. スクリーンキャストの埋め込み"
   ]
  },
  {
   "cell_type": "markdown",
   "metadata": {},
   "source": [
    "アニメーションgifを使った短時間のスクリーンキャストを埋め込むこともできます。\n",
    "\n",
    "以下の例では画面を10秒間録画し、notebook上に録画した結果を表示します。"
   ]
  },
  {
   "cell_type": "code",
   "execution_count": null,
   "metadata": {},
   "outputs": [],
   "source": [
    "screen_cast(10)"
   ]
  },
  {
   "cell_type": "markdown",
   "metadata": {},
   "source": [
    "<div class=\"alert alert-block alert-info\">\n",
    "    <b>次の学習</b>\n",
    "    <p>HSRに搭載されているセンサの情報を取得し、台車を制御して壁の手前まで動かしてみます。</p>\n",
    "</div>"
   ]
  },
  {
   "cell_type": "code",
   "execution_count": null,
   "metadata": {},
   "outputs": [],
   "source": []
  }
 ],
 "metadata": {
  "kernelspec": {
   "display_name": "Python 2",
   "language": "python",
   "name": "python2"
  },
  "language_info": {
   "codemirror_mode": {
    "name": "ipython",
    "version": 2
   },
   "file_extension": ".py",
   "mimetype": "text/x-python",
   "name": "python",
   "nbconvert_exporter": "python",
   "pygments_lexer": "ipython2",
   "version": "2.7.12"
  }
 },
 "nbformat": 4,
 "nbformat_minor": 2
}
