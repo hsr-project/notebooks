{
 "cells": [
  {
   "cell_type": "markdown",
   "metadata": {
    "lang": "ja"
   },
   "source": [
    "# 基本的な使い方\n",
    "\n",
    "<div class=\"alert alert-block alert-info\">\n",
    "    <b>この章の目的</b>\n",
    "    <p>Jupyter NotebookやGazebo, RVizの簡単な使い方を学びましょう。</p>\n",
    "</div> "
   ]
  },
  {
   "cell_type": "markdown",
   "metadata": {
    "lang": "en"
   },
   "source": [
    "# Basic usage\n",
    "\n",
    "<div class=\"alert alert-block alert-info\">\n",
    "    <b>Objective:</b>\n",
    "    <p>In this notebook, you will learn basic usage of Jupyter Notebook, Gazebo and RViz.</p>\n",
    "</div>"
   ]
  },
  {
   "cell_type": "markdown",
   "metadata": {
    "lang": "ja"
   },
   "source": [
    "# HSRとは\n",
    "\n",
    "HSR（HSR：Human Support Robotの略）は、人の活動をサポートする「トヨタ・パートナーロボット」の一つとして、手足の不自由な人のために、家庭内での自立生活をアシストする生活支援ロボットです。\n",
    "\n",
    "この教材では、HSRのシミュレータを通してロボットの概要を学んでいただきます。"
   ]
  },
  {
   "cell_type": "markdown",
   "metadata": {
    "lang": "en"
   },
   "source": [
    "# What is the HSR?\n",
    "\n",
    "The HSR (HSR: Human Support Robot) is one of the \"Toyota Partner Robots\" that support human activities as well as assist independent living at home for people with disabilities.\n",
    "\n",
    "In this notebook, you will learn about the robot by using the HSR simulator."
   ]
  },
  {
   "cell_type": "markdown",
   "metadata": {
    "lang": "ja"
   },
   "source": [
    "# Jupyter Notebookの使い方"
   ]
  },
  {
   "cell_type": "markdown",
   "metadata": {
    "lang": "en"
   },
   "source": [
    "# How to use Jupyter Notebook"
   ]
  },
  {
   "cell_type": "markdown",
   "metadata": {
    "lang": "ja"
   },
   "source": [
    "Jupyter NotebookではCellにPythonコマンドを入力し逐次実行していくことができます。\n",
    "\n",
    "例えば以下のコマンドを実行してみましょう。コマンドを実行するにはセルを選択した状態で「Shift+Enter」を押してください。"
   ]
  },
  {
   "cell_type": "markdown",
   "metadata": {
    "lang": "en"
   },
   "source": [
    "In Jupyter Notebook, you can enter Python commands in cells and execute them sequentially.\n",
    "\n",
    "Let's execute the commands below. To execute the commands, select the cell and press \"Shift + Enter\":"
   ]
  },
  {
   "cell_type": "code",
   "execution_count": null,
   "metadata": {},
   "outputs": [],
   "source": [
    "1+1"
   ]
  },
  {
   "cell_type": "markdown",
   "metadata": {
    "lang": "ja"
   },
   "source": [
    "コマンドの実行結果は変数へ代入することもできます。"
   ]
  },
  {
   "cell_type": "markdown",
   "metadata": {
    "lang": "en"
   },
   "source": [
    "The result of the command execution can also be assigned to a variable:"
   ]
  },
  {
   "cell_type": "code",
   "execution_count": null,
   "metadata": {},
   "outputs": [],
   "source": [
    "a = 1+1"
   ]
  },
  {
   "cell_type": "markdown",
   "metadata": {
    "lang": "ja"
   },
   "source": [
    "変数の中身は、以下のようにして出力できます。"
   ]
  },
  {
   "cell_type": "markdown",
   "metadata": {
    "lang": "en"
   },
   "source": [
    "We can print the contents of the variable by executing the command as follows:"
   ]
  },
  {
   "cell_type": "code",
   "execution_count": null,
   "metadata": {},
   "outputs": [],
   "source": [
    "a"
   ]
  },
  {
   "cell_type": "markdown",
   "metadata": {
    "lang": "ja"
   },
   "source": [
    "notebook上にはコマンドを実行した時点の情報が保存されます。例えば以下のコマンドを実行すると時刻が更新されます。"
   ]
  },
  {
   "cell_type": "markdown",
   "metadata": {
    "lang": "en"
   },
   "source": [
    "The result at the time the commands were executed is saved in the notebook. For example, if you execute the commands below, the time will be updated to the current time:"
   ]
  },
  {
   "cell_type": "code",
   "execution_count": null,
   "metadata": {
    "scrolled": true
   },
   "outputs": [],
   "source": [
    "import datetime\n",
    "print(datetime.datetime.now())"
   ]
  },
  {
   "cell_type": "markdown",
   "metadata": {
    "lang": "ja"
   },
   "source": [
    "# Gazebo, Rvizの使い方"
   ]
  },
  {
   "cell_type": "markdown",
   "metadata": {
    "lang": "en"
   },
   "source": [
    "# How to use Gazebo and Rviz"
   ]
  },
  {
   "cell_type": "markdown",
   "metadata": {
    "lang": "ja"
   },
   "source": [
    "## Gazeboの使い方\n",
    "gazeboはロボットのシミュレータです。以下の手順で起動します。"
   ]
  },
  {
   "cell_type": "markdown",
   "metadata": {
    "lang": "en"
   },
   "source": [
    "## How to use Gazebo\n",
    "Gazebo is a robot simulator. Follow the steps below to start a simulation."
   ]
  },
  {
   "cell_type": "markdown",
   "metadata": {
    "lang": "ja"
   },
   "source": [
    "1. docker-compose upにてシミュレータ環境を実行しましょう。\n",
    "\n",
    "\n",
    "2. ブラウザから http://localhost:3000/ にアクセスし、シミュレータ画面を開きましょう。gazeboの画面が表示されました。\n",
    "\n",
    "\n",
    "![title](./imgs/1_gazebo.png)\n",
    "\n",
    "\n",
    "3. 左下のシミュレーション開始ボタンをクリックして、シミュレーションを開始しましょう。\n",
    "\n",
    "\n",
    "![title](./imgs/1_play_button.png)\n",
    "\n",
    "\n",
    "4. シミュレーションが開始されました。マウス操作で視点の位置や角度を変えてみましょう。\n",
    "\n",
    "   左ボタンで平行移動、ホイールボタンで回転移動、スクロールでズームができます。\n",
    "\n",
    "\n",
    "![title](./imgs/1_gazebo_view_change.png)"
   ]
  },
  {
   "cell_type": "markdown",
   "metadata": {
    "lang": "en"
   },
   "source": [
    "1.  Start the simulator environment by entering the \"docker-compose up\" command.\n",
    "\n",
    "\n",
    "2.  Access http://localhost:3000/ using your browser and open the simulator screen. The screen for Gazebo will be displayed.\n",
    "\n",
    "![title](./imgs/1_gazebo.png)\n",
    "\n",
    "\n",
    "3. Click the \"Start simulation\" button at the bottom left of the screen to start the simulation.\n",
    "\n",
    "![title](./imgs/1_play_button.png)\n",
    "\n",
    "\n",
    "4. The simulation has started. Let's change the position and angle of the viewpoint by dragging the mouse.\n",
    "   You can move the viewpoint in parallel by clicking the left button, rotate by clicking the mouse wheel, and zoom by scrolling the mouse wheel.\n",
    "\n",
    "![title](./imgs/1_gazebo_view_change.png)"
   ]
  },
  {
   "cell_type": "markdown",
   "metadata": {
    "lang": "ja"
   },
   "source": [
    "シミュレータ内での経過時間は、現実での経過時間とは異なります。\n",
    "\n",
    "下部のSim Timeにシミュレータ内の経過時間、Real Timeに現実の経過時間が表示されています。\n",
    "\n",
    "**注意: 以降の説明ではシミュレータ内の時間を基準とします。**"
   ]
  },
  {
   "cell_type": "markdown",
   "metadata": {
    "lang": "en"
   },
   "source": [
    "The elapsed time in the simulator is different from the actual elapsed time.\n",
    "\n",
    "\"Sim Time\" at the bottom shows the elapsed time in the simulator, and \"Real Time\" shows the actual elapsed time.\n",
    "\n",
    "**Note: The following explanation is based on the time in the simulator.**"
   ]
  },
  {
   "cell_type": "markdown",
   "metadata": {
    "lang": "ja"
   },
   "source": [
    "## RVizの使い方\n",
    "rvizはロボットのセンサの状態等を可視化するためのツールです。下記コマンドを実行して、起動してください。"
   ]
  },
  {
   "cell_type": "markdown",
   "metadata": {
    "lang": "en"
   },
   "source": [
    "## How to use RViz\n",
    "RViz is a tool for visualizing the state of robot sensors. Enter the following command to start it:"
   ]
  },
  {
   "cell_type": "code",
   "execution_count": null,
   "metadata": {},
   "outputs": [],
   "source": [
    "%%script bash --bg --out rviz_out\n",
    "rosrun rviz rviz"
   ]
  },
  {
   "cell_type": "markdown",
   "metadata": {
    "lang": "ja"
   },
   "source": [
    "シミュレータ画面で、rvizが立ち上がったことを確認してください。rvizでは、ロボットに搭載された各種センサ情報を確認できます。\n",
    "\n",
    "![title](./imgs/1_rviz.png)\n",
    "\n",
    "gazeboとrvizの画面を切り替えるには、画面下の[Gazebo]や[RViz]をクリックしましょう。\n"
   ]
  },
  {
   "cell_type": "markdown",
   "metadata": {
    "lang": "en"
   },
   "source": [
    "Check that RViz has started in the simulator screen. In RViz, you can visualize various sensor information from the sensors that are mounted on the robot.\n",
    "\n",
    "![title](./imgs/1_rviz.png)\n",
    "\n",
    "To switch between Gazebo and RViz, click [Gazebo] or [RViz] at the bottom of the screen."
   ]
  },
  {
   "cell_type": "markdown",
   "metadata": {
    "lang": "ja"
   },
   "source": [
    "# スクリーンショット、スクリーンキャプチャの使い方"
   ]
  },
  {
   "cell_type": "markdown",
   "metadata": {
    "lang": "en"
   },
   "source": [
    "# How to use screenshot and screencast"
   ]
  },
  {
   "cell_type": "markdown",
   "metadata": {
    "lang": "ja"
   },
   "source": [
    "まず以下で必要なライブラリをインポートします。"
   ]
  },
  {
   "cell_type": "markdown",
   "metadata": {
    "lang": "en"
   },
   "source": [
    "First, import the required libraries listed below:"
   ]
  },
  {
   "cell_type": "code",
   "execution_count": null,
   "metadata": {},
   "outputs": [],
   "source": [
    "from utils import screen_shot, screen_cast"
   ]
  },
  {
   "cell_type": "markdown",
   "metadata": {
    "lang": "ja"
   },
   "source": [
    "## スクリーンショットの埋め込み"
   ]
  },
  {
   "cell_type": "markdown",
   "metadata": {
    "lang": "en"
   },
   "source": [
    "## Screenshot embedding"
   ]
  },
  {
   "cell_type": "markdown",
   "metadata": {
    "lang": "ja"
   },
   "source": [
    "スクリーンショットの取得と埋め込みは以下のコマンドで実行可能です。"
   ]
  },
  {
   "cell_type": "markdown",
   "metadata": {
    "lang": "en"
   },
   "source": [
    "You can take and embed screenshots with the following command:"
   ]
  },
  {
   "cell_type": "code",
   "execution_count": null,
   "metadata": {},
   "outputs": [],
   "source": [
    "screen_shot()"
   ]
  },
  {
   "cell_type": "markdown",
   "metadata": {
    "lang": "ja"
   },
   "source": [
    "## スクリーンキャストの埋め込み"
   ]
  },
  {
   "cell_type": "markdown",
   "metadata": {
    "lang": "en"
   },
   "source": [
    "## Screencast embedding"
   ]
  },
  {
   "cell_type": "markdown",
   "metadata": {
    "lang": "ja"
   },
   "source": [
    "アニメーションgifを使った短時間のスクリーンキャストを埋め込むこともできます。\n",
    "\n",
    "以下の例では画面を10秒間録画し、notebook上に録画した結果を表示します。"
   ]
  },
  {
   "cell_type": "markdown",
   "metadata": {
    "lang": "en"
   },
   "source": [
    "You can also embed a short screencast as animated gif.\n",
    "\n",
    "In the following example, the screen is recorded for 10 seconds and the recorded result is displayed in your notebook:"
   ]
  },
  {
   "cell_type": "code",
   "execution_count": null,
   "metadata": {},
   "outputs": [],
   "source": [
    "screen_cast(10)"
   ]
  },
  {
   "cell_type": "markdown",
   "metadata": {
    "lang": "ja"
   },
   "source": [
    "<div class=\"alert alert-block alert-info\">\n",
    "    <b>次の学習</b>\n",
    "    <p>HSRに搭載されているセンサの情報を取得し、台車を制御して壁の手前まで動かしてみます。</p>\n",
    "</div>"
   ]
  },
  {
   "cell_type": "markdown",
   "metadata": {
    "lang": "en"
   },
   "source": [
    "<div class=\"alert alert-block alert-info\">\n",
    "    <b>What's next?</b>\n",
    "    <p>In the next notebook, we will capture the information from the sensors mounted on the HSR, and move the mobile base until it reaches the front of the wall.</p>\n",
    "</div>"
   ]
  },
  {
   "cell_type": "code",
   "execution_count": null,
   "metadata": {},
   "outputs": [],
   "source": []
  }
 ],
 "metadata": {
  "kernelspec": {
   "display_name": "Python 2",
   "language": "python",
   "name": "python2"
  },
  "language_info": {
   "codemirror_mode": {
    "name": "ipython",
    "version": 2
   },
   "file_extension": ".py",
   "mimetype": "text/x-python",
   "name": "python",
   "nbconvert_exporter": "python",
   "pygments_lexer": "ipython2",
   "version": "2.7.17"
  },
  "nbTranslate": {
   "displayLangs": [
    "ja"
   ],
   "hotkey": "alt-t",
   "langInMainMenu": true,
   "sourceLang": "ja",
   "targetLang": "en",
   "useGoogleTranslate": true
  },
  "toc": {
   "base_numbering": 1,
   "nav_menu": {},
   "number_sections": true,
   "sideBar": true,
   "skip_h1_title": false,
   "title_cell": "Table of Contents",
   "title_sidebar": "Contents",
   "toc_cell": false,
   "toc_position": {},
   "toc_section_display": true,
   "toc_window_display": true
  }
 },
 "nbformat": 4,
 "nbformat_minor": 2
}
