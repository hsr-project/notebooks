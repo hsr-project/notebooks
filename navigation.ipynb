{
 "cells": [
  {
   "cell_type": "markdown",
   "metadata": {},
   "source": [
    "# 移動ライブラリ（rosnav）の使い方\n",
    "rosnavという自律移動機能を使って、ロボットを指定した場所まで障害物を避けながら移動させてみましょう。\n",
    "\n",
    "<div class=\"alert alert-block alert-info\">\n",
    "    <b>この章の目的</b>\n",
    "    <p>rosnavを使った絶対座標指定による移動をスクリプトを用いて実行する方法を学習します</p>\n",
    "</div> "
   ]
  },
  {
   "cell_type": "markdown",
   "metadata": {},
   "source": [
    "## 1. 準備\n",
    "自律移動のための便利な関数を登録しておきます。興味がある方は、中身をご覧ください。"
   ]
  },
  {
   "cell_type": "code",
   "execution_count": 6,
   "metadata": {},
   "outputs": [],
   "source": [
    "import rospy\n",
    "import actionlib\n",
    "from move_base_msgs.msg import MoveBaseAction, MoveBaseGoal\n",
    "import math\n",
    "from tf import transformations\n",
    "\n",
    "# ROSの初期化\n",
    "rospy.init_node('send_goal')\n",
    "# Actionの初期化\n",
    "navclient = actionlib.SimpleActionClient('/move_base', MoveBaseAction)\n",
    "navclient.wait_for_server()\n",
    "\n",
    "def move_to_goal(x, y, theta):\n",
    "    \"\"\"u指定したゴール位置・姿勢まで自律移動する\n",
    "    Args:\n",
    "        x : ゴールのx座標[m]\n",
    "        y : ゴールのy座標[m]\n",
    "        theta : ゴール時のロボットの向き[deg]\n",
    "        \n",
    "    Return:\n",
    "        success: 成功かどうか\n",
    "    \"\"\"\n",
    "    goal.target_pose.header.frame_id = \"/map\"\n",
    "    goal.target_pose.pose.position.x = x\n",
    "    goal.target_pose.pose.position.y = y\n",
    "    q = transformations.quaternion_from_euler(0.0, 0.0, theta / 180.0 * math.pi)\n",
    "\n",
    "    goal.target_pose.pose.orientation.x = q[0]\n",
    "    goal.target_pose.pose.orientation.y = q[1]\n",
    "    goal.target_pose.pose.orientation.z = q[2]\n",
    "    goal.target_pose.pose.orientation.w = q[3]\n",
    "\n",
    "    # goal座標をロボットに送る\n",
    "    navclient.send_goal(goal)\n",
    "    success = navclient.wait_for_result()\n",
    "    return success"
   ]
  },
  {
   "cell_type": "code",
   "execution_count": null,
   "metadata": {},
   "outputs": [],
   "source": [
    "rvizを起動します。"
   ]
  },
  {
   "cell_type": "code",
   "execution_count": null,
   "metadata": {},
   "outputs": [],
   "source": [
    "%%script bash --bg\n",
    "rviz -d data/nav.rviz > /dev/null 2>&1"
   ]
  },
  {
   "cell_type": "markdown",
   "metadata": {},
   "source": [
    "# 5. pythonスクリプトからの自律移動"
   ]
  },
  {
   "cell_type": "markdown",
   "metadata": {},
   "source": [
    "## 4. 関数化\n",
    "上記の処理を関数にして簡単に呼び出せるようにしましょう。"
   ]
  },
  {
   "cell_type": "markdown",
   "metadata": {},
   "source": [
    "## 1. ゴール座標指定\n",
    "ゴールの座標を決めましょう。rvizの右上の「Publish Point」ボタンをクリックします。\n",
    "\n",
    "![title](./imgs/publish_point_button.png)\n",
    "\n",
    "次に、地図上で目的地にマウスを持って行くと、rvizの左下の「Select this point」の部分に座標が表示されます。この例では、x=1.29,y=3.13,z=0.00747 が目的地の座標です。zは不要なので、x,yの値をメモしておきましょう。\n",
    "\n",
    "![title](./imgs/point_values.png)\n",
    "\n",
    "#### 注意: ゴールを地図から外れた位置に設定すると誤動作するので、地図内の位置にしてください。"
   ]
  },
  {
   "cell_type": "markdown",
   "metadata": {},
   "source": [
    "## 2. ゴールを送る\n",
    "調べた位置まで自律移動するよう、指示しましょう。"
   ]
  },
  {
   "cell_type": "code",
   "execution_count": null,
   "metadata": {},
   "outputs": [],
   "source": [
    "\n",
    "success = move_to_goal(1,29, 3.13, 0)\n",
    "print(success)\n"
   ]
  },
  {
   "cell_type": "markdown",
   "metadata": {},
   "source": [
    "上の関数を使うと、以下のコマンドでx=1メートル, y=0.5メートル, theta=10度の位置姿勢に移動できます。"
   ]
  },
  {
   "cell_type": "markdown",
   "metadata": {},
   "source": [
    "以下のコマンドで原点に戻ります。"
   ]
  },
  {
   "cell_type": "code",
   "execution_count": 10,
   "metadata": {},
   "outputs": [
    {
     "data": {
      "text/plain": [
       "True"
      ]
     },
     "execution_count": 10,
     "metadata": {},
     "output_type": "execute_result"
    }
   ],
   "source": [
    "success = move_to_goal(0, 0, 0)\n",
    "print(success)"
   ]
  },
  {
   "cell_type": "markdown",
   "metadata": {},
   "source": [
    "## 5. 応用\n",
    "下記のようなことを試して見ましょう。\n",
    "- ある場所についたら、次のゴールに自動的に向かうようにしてみましょう\n",
    "- goalの配列を作って、数カ所を巡回させましょう\n",
    "- 障害物の上にゴールを置くとどうなるでしょうか？\n",
    "- 自律移動中に人を動かして、ロボットの邪魔をするとどうなるでしょうか？\n",
    "- 地図の外にゴールを置くとどうなるでしょうか\n"
   ]
  },
  {
   "cell_type": "code",
   "execution_count": null,
   "metadata": {},
   "outputs": [],
   "source": []
  }
 ],
 "metadata": {
  "kernelspec": {
   "display_name": "Python 2",
   "language": "python",
   "name": "python2"
  },
  "language_info": {
   "codemirror_mode": {
    "name": "ipython",
    "version": 2
   },
   "file_extension": ".py",
   "mimetype": "text/x-python",
   "name": "python",
   "nbconvert_exporter": "python",
   "pygments_lexer": "ipython2",
   "version": "2.7.12"
  }
 },
 "nbformat": 4,
 "nbformat_minor": 2
}