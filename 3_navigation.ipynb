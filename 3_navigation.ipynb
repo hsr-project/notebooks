{
 "cells": [
  {
   "cell_type": "markdown",
   "metadata": {},
   "source": [
    "# 3. 自己位置推定と自律移動\n",
    "\n",
    "<div class=\"alert alert-block alert-info\">\n",
    "    <b>この章の目的</b>\n",
    "    <p>ロボットを指定した場所まで障害物を避けながら自律移動させる方法を学習します</p>\n",
    "</div> "
   ]
  },
  {
   "cell_type": "markdown",
   "metadata": {},
   "source": [
    "# RVizを使った自律移動"
   ]
  },
  {
   "cell_type": "markdown",
   "metadata": {},
   "source": [
    "rvizを起動します。下記コマンドを実行して、起動してください。"
   ]
  },
  {
   "cell_type": "code",
   "execution_count": null,
   "metadata": {},
   "outputs": [],
   "source": [
    "%%script bash --bg\n",
    "rviz -d data/3_navigation.rviz > /dev/null 2>&1"
   ]
  },
  {
   "cell_type": "markdown",
   "metadata": {},
   "source": [
    "シミュレータ画面で、rvizが立ち上がったことを確認してください。rvizでは、ロボットに搭載された各種センサ情報を確認できます。\n",
    "\n",
    "![title](./imgs/3_rviz.png)"
   ]
  },
  {
   "cell_type": "markdown",
   "metadata": {},
   "source": [
    "「Displays」の中のチェックをON, OFFして表示されている情報を確認してみましょう。それぞれの情報の意味は以下の通りです。\n",
    "\n",
    "- Map: 事前に与えられた地図情報\n",
    "\n",
    "\n",
    "- global_cost_map: 事前地図を元に生成したコストマップ\n",
    "\n",
    "\n",
    "- local_cost_map: レーザ情報を元に生成したコストマップ\n",
    "\n",
    "ここでコストマップとは、通れそうな領域、障害物のある領域を数値で表現した地図のことで、自律移動の際に用いられます。"
   ]
  },
  {
   "cell_type": "markdown",
   "metadata": {},
   "source": [
    "rvizから自律移動のゴールを入力します。rvizの上部のツールバーにある「2D Nav Goal」をクリックし、部屋内の障害物のない場所を指定してみましょう。\n",
    "\n",
    "![title](./imgs/3_2d_nav_goal_button.png)\n",
    "![title](./imgs/3_2d_nav_goal.png)\n",
    "\n",
    "\n",
    "HSRが自律移動を開始します。rviz画面や、シミュレータ画面で、HSRが障害物を避けながら指定した位置に移動することを確認しましょう。\n",
    "- rviz画面\n",
    "![title](./imgs/3_moving.png)\n",
    "\n",
    "\n",
    "- gazebo画面\n",
    "![title](./imgs/3_moving_gazebo.png)"
   ]
  },
  {
   "cell_type": "markdown",
   "metadata": {},
   "source": [
    "## 障害物回避\n",
    "次に、人の位置を移動させてみましょう。gazeboの上にある\n",
    "![title](./imgs/3_move_object_button.png)\n",
    "このボタンをクリックしてから、人をクリックしてください。\n",
    "![title](./imgs/3_human_select.png)\n",
    "青、赤、緑の矢印が表示されました。赤と緑の矢印を動かすと、人をXY平面上にて動かせます。人を動かしている時に、人をロボットにぶつけてまうと、ロボットの挙動がおかしくなるので、ぶつからないように移動させましょう。\n",
    "\n",
    "終わったら、矢印ボタンを押して、選択状態を終了しましょう。\n",
    "![title](./imgs/3_back_to_default.png)"
   ]
  },
  {
   "cell_type": "markdown",
   "metadata": {},
   "source": [
    "rvizの画面に戻って、「2D Nav Goal」を与え、HSRを自律移動させましょう。\n",
    "\n",
    "![title](./imgs/3_move_avoiding_human.png)\n",
    "\n",
    "人をよけながら自律移動できたでしょうか？"
   ]
  },
  {
   "cell_type": "markdown",
   "metadata": {},
   "source": [
    "# Pythonスクリプトからの自律移動"
   ]
  },
  {
   "cell_type": "markdown",
   "metadata": {},
   "source": [
    "前章はrvizから自律移動を実行しましたが、今回はPythonから指定した座標に自律移動する指令を出してみましょう。"
   ]
  },
  {
   "cell_type": "markdown",
   "metadata": {},
   "source": [
    "### 1. 準備\n",
    "まず、必要なライブラリをインポートし、初期化します。"
   ]
  },
  {
   "cell_type": "code",
   "execution_count": null,
   "metadata": {},
   "outputs": [],
   "source": [
    "import rospy\n",
    "from utils import *\n",
    "rospy.init_node('navigation')"
   ]
  },
  {
   "cell_type": "markdown",
   "metadata": {},
   "source": [
    "### 2. ゴール座標指定\n",
    "次に、ゴールの座標を決めましょう。rvizの右上の「Publish Point」ボタンをクリックします。\n",
    "![title](./imgs/3_publish_point_button.png)\n",
    "\n",
    "\n",
    "次に、地図上で目的地にマウスを持って行くと、rvizの左下の「Select this point」の部分に座標が表示されます。この例では、x=1.29,y=3.13,z=0.00747 が目的地の座標です。zは不要なので、x,yの値をメモしておきましょう。\n",
    "![title](./imgs/3_point_values.png)\n",
    "\n",
    "#### 注意: ゴールを地図から外れた位置に設定すると誤動作するので、地図内の位置にしてください。"
   ]
  },
  {
   "cell_type": "markdown",
   "metadata": {},
   "source": [
    "### 3. ゴールを送る\n",
    "ロボットにゴールを送りましょう。下記のコマンドを実行し、シミュレータ上でのロボットの動作を観察してください。\n",
    "\n",
    "台車を自律移動させるには`move_base_goal`という関数を使用します。興味のある人は見てみてください。\n",
    "\n",
    "```python\n",
    "# 自律移動のゴールを送信するクライアントを作成\n",
    "navclient = actionlib.SimpleActionClient('/move_base', MoveBaseAction)\n",
    "\n",
    "def move_base_goal(x, y, theta):\n",
    "    u\"\"\"台車の自律移動のゴールを指定する関数\n",
    "\n",
    "    引数：\n",
    "        x (float): 目標のx値 [m]\n",
    "        y (float): 目標のy値 [m]\n",
    "        theta (float): 目標の回転角度 [deg]\n",
    "\n",
    "    返り値:\n",
    "        ゴールに到達したらTrue, そうでなければFalse\n",
    "\n",
    "    \"\"\"\n",
    "\n",
    "    goal = MoveBaseGoal()\n",
    "\n",
    "    # \"map\"座標を基準座標に指定\n",
    "    goal.target_pose.header.frame_id = \"map\"\n",
    "\n",
    "    # ゴールのx,y座標をセットします\n",
    "    goal.target_pose.pose.position.x = x\n",
    "    goal.target_pose.pose.position.y = y\n",
    "\n",
    "    # 角度はクオータニオンという形式で与えます。そのため、オイラー角からクオータニオンに変換します\n",
    "    goal.target_pose.pose.orientation = quaternion_from_euler(0, 0, theta)\n",
    "\n",
    "    # ゴールを送信\n",
    "    navclient.send_goal(goal)\n",
    "    navclient.wait_for_result()\n",
    "    state = navclient.get_state()\n",
    "    # 成功すると、3が返ってくる\n",
    "    # http://docs.ros.org/fuerte/api/actionlib_msgs/html/msg/GoalStatus.html\n",
    "    return True if state == 3 else False\n",
    "```\n",
    "\n",
    "以下のコマンドでx=1メートル、y=0.5メートル、theta=90度の位置姿勢に移動できます。"
   ]
  },
  {
   "cell_type": "code",
   "execution_count": null,
   "metadata": {},
   "outputs": [],
   "source": [
    "move_base_goal(1, 0.5, 90)"
   ]
  },
  {
   "cell_type": "markdown",
   "metadata": {},
   "source": [
    "以下のコマンドで原点に戻ります。"
   ]
  },
  {
   "cell_type": "code",
   "execution_count": null,
   "metadata": {},
   "outputs": [],
   "source": [
    "move_base_goal(0, 0, 0)"
   ]
  },
  {
   "cell_type": "markdown",
   "metadata": {},
   "source": [
    "<div class=\"alert alert-block alert-info\">\n",
    "    <b>課題</b>\n",
    "    <p>ある場所についたら次のゴールに自動的に向かうようにして、部屋を周回するプログラムを書いてみましょう。</p>\n",
    "</div>"
   ]
  },
  {
   "cell_type": "code",
   "execution_count": null,
   "metadata": {},
   "outputs": [],
   "source": [
    "# 自分で考えてみましょう。この下に入力できます。\n"
   ]
  },
  {
   "cell_type": "markdown",
   "metadata": {},
   "source": [
    "<div class=\"alert alert-block alert-info\">\n",
    "    <b>アドバンスド課題</b>\n",
    "    <p>障害物の上にゴールを置くとどうなるでしょうか？</p>\n",
    "    <p>自律移動中に人を動かして、ロボットの邪魔をするとどうなるでしょうか？</p>\n",
    "    <p>地図の外にゴールを置くとどうなるでしょうか</p>\n",
    "</div>"
   ]
  },
  {
   "cell_type": "code",
   "execution_count": null,
   "metadata": {},
   "outputs": [],
   "source": [
    "# 自分で考えてみましょう。この下に入力できます。\n"
   ]
  },
  {
   "cell_type": "markdown",
   "metadata": {},
   "source": [
    "<div class=\"alert alert-block alert-info\">\n",
    "    <b>次の学習</b>\n",
    "    <p>今までの章では台車の制御を扱ってきました。次の章ではHSRのアームを制御してみましょう。</p>\n",
    "</div>"
   ]
  },
  {
   "cell_type": "code",
   "execution_count": null,
   "metadata": {},
   "outputs": [],
   "source": []
  }
 ],
 "metadata": {
  "kernelspec": {
   "display_name": "Python 2",
   "language": "python",
   "name": "python2"
  },
  "language_info": {
   "codemirror_mode": {
    "name": "ipython",
    "version": 2
   },
   "file_extension": ".py",
   "mimetype": "text/x-python",
   "name": "python",
   "nbconvert_exporter": "python",
   "pygments_lexer": "ipython2",
   "version": "2.7.12"
  }
 },
 "nbformat": 4,
 "nbformat_minor": 2
}
