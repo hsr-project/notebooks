{
 "cells": [
  {
   "cell_type": "markdown",
   "metadata": {
    "lang": "ja"
   },
   "source": [
    "# 自己位置推定と自律移動\n",
    "\n",
    "<div class=\"alert alert-block alert-info\">\n",
    "    <b>この章の目的</b>\n",
    "    <p>ロボットを指定した場所まで障害物を避けながら自律移動させる方法を学習します</p>\n",
    "</div> "
   ]
  },
  {
   "cell_type": "markdown",
   "metadata": {
    "lang": "en"
   },
   "source": [
    "# Localization and autonomous movement\n",
    "\n",
    "<div class=\"alert alert-block alert-info\">\n",
    "    <b>Objective</b>\n",
    "    <p>In this notebook, we will learn how to move the robot autonomously to a goal while avoiding other objects.</p>\n",
    "</div>"
   ]
  },
  {
   "cell_type": "markdown",
   "metadata": {
    "lang": "ja"
   },
   "source": [
    "# RVizを使った自律移動"
   ]
  },
  {
   "cell_type": "markdown",
   "metadata": {
    "lang": "en"
   },
   "source": [
    "# Autonomous movement using RViz"
   ]
  },
  {
   "cell_type": "markdown",
   "metadata": {
    "lang": "ja"
   },
   "source": [
    "rvizを起動します。下記コマンドを実行して、起動してください。"
   ]
  },
  {
   "cell_type": "markdown",
   "metadata": {
    "lang": "en"
   },
   "source": [
    "Execute the following command to start RViz."
   ]
  },
  {
   "cell_type": "code",
   "execution_count": null,
   "metadata": {},
   "outputs": [],
   "source": [
    "%%script bash --bg\n",
    "rviz -d data/3_navigation.rviz > /dev/null 2>&1"
   ]
  },
  {
   "cell_type": "markdown",
   "metadata": {
    "lang": "ja"
   },
   "source": [
    "シミュレータ画面で、rvizが立ち上がったことを確認してください。rvizでは、ロボットに搭載された各種センサ情報を確認できます。\n",
    "\n",
    "![title](./imgs/3_rviz.png)"
   ]
  },
  {
   "cell_type": "markdown",
   "metadata": {
    "lang": "en"
   },
   "source": [
    "In the simulator screen, check that RViz has started. In RViz, you can check various sensor information from the sensors that are mounted on the robot.\n",
    "\n",
    "![title](./imgs/3_rviz.png)"
   ]
  },
  {
   "cell_type": "markdown",
   "metadata": {
    "lang": "ja"
   },
   "source": [
    "「Displays」の中のチェックをON, OFFして表示されている情報を確認してみましょう。それぞれの情報の意味は以下の通りです。\n",
    "\n",
    "- Map: 事前に与えられた地図情報\n",
    "\n",
    "\n",
    "- global_cost_map: 事前地図を元に生成したコストマップ\n",
    "\n",
    "\n",
    "- local_cost_map: レーザ情報を元に生成したコストマップ\n",
    "\n",
    "ここでコストマップとは、通れそうな領域、障害物のある領域を数値で表現した地図のことで、自律移動の際に用いられます。"
   ]
  },
  {
   "cell_type": "markdown",
   "metadata": {
    "lang": "en"
   },
   "source": [
    "Let's check the information by turning the checks on and off in the \"Displays\" panel. The meaning of each item is as follows:\n",
    "\n",
    "- Map: Predefined map information.\n",
    "\n",
    "- global_cost_map: Cost map generated based on the predefined map.\n",
    "\n",
    "- local_cost_map: Cost map generated based on laser scanner information.\n",
    "\n",
    "Here, the cost map is a map that numerically expresses areas where the robot is likely to pass through or areas with obstacles, and is used for autonomous movement."
   ]
  },
  {
   "cell_type": "markdown",
   "metadata": {
    "lang": "ja"
   },
   "source": [
    "rvizから自律移動のゴールを入力します。rvizの上部のツールバーにある「2D Nav Goal」をクリックし、部屋内の障害物のない場所を指定してみましょう。\n",
    "\n",
    "![title](./imgs/3_2d_nav_goal_button.png)\n",
    "![title](./imgs/3_2d_nav_goal.png)\n",
    "\n",
    "\n",
    "HSRが自律移動を開始します。rviz画面や、シミュレータ画面で、HSRが障害物を避けながら指定した位置に移動することを確認しましょう。\n",
    "- rviz画面\n",
    "![title](./imgs/3_moving.png)\n",
    "\n",
    "\n",
    "- gazebo画面\n",
    "![title](./imgs/3_moving_gazebo.png)"
   ]
  },
  {
   "cell_type": "markdown",
   "metadata": {
    "lang": "en"
   },
   "source": [
    "Now, we specify the autonomous movement goal using RViz. Click \"2D Nav Goal\" in the toolbar at the top of RViz and click an unobstructed location in the room:\n",
    "\n",
    "![title](./imgs/3_2d_nav_goal_button.png)\n",
    "![title](./imgs/3_2d_nav_goal.png)\n",
    "\n",
    "The HSR starts autonomous movement. On the RViz screen or the simulator screen, check that the HSR moves to the specified position while avoiding obstacles.\n",
    "\n",
    "- RViz screen\n",
    "![title](./imgs/3_moving.png)\n",
    "\n",
    "- Gazebo screen\n",
    "![title](./imgs/3_moving_gazebo.png)"
   ]
  },
  {
   "cell_type": "markdown",
   "metadata": {
    "lang": "ja"
   },
   "source": [
    "## 障害物回避\n",
    "次に、人の位置を移動させてみましょう。gazeboの上にある\n",
    "![title](./imgs/3_move_object_button.png)\n",
    "このボタンをクリックしてから、人をクリックしてください。\n",
    "![title](./imgs/3_human_select.png)\n",
    "青、赤、緑の矢印が表示されました。赤と緑の矢印を動かすと、人をXY平面上にて動かせます。人を動かしている時に、人をロボットにぶつけてまうと、ロボットの挙動がおかしくなるので、ぶつからないように移動させましょう。\n",
    "\n",
    "終わったら、矢印ボタンを押して、選択状態を終了しましょう。\n",
    "![title](./imgs/3_back_to_default.png)"
   ]
  },
  {
   "cell_type": "markdown",
   "metadata": {
    "lang": "en"
   },
   "source": [
    "## Obstacle avoidance\n",
    "Next, we will try the obstacle avoidance function.\n",
    "\n",
    "Click this button at the top of Gazebo:\n",
    "![title](./imgs/3_move_object_button.png)\n",
    "\n",
    "then click the person:\n",
    "![title](./imgs/3_human_select.png)\n",
    "\n",
    "Blue, red and green arrows are displayed. You can move a person on the XY plane by dragging the red and green arrows. Please do not hit the person against the robot, otherwise the behavior of the robot will get strange.\n",
    "\n",
    "When you're done, press the arrow button to exit the selection mode:\n",
    "![title](./imgs/3_back_to_default.png)"
   ]
  },
  {
   "cell_type": "markdown",
   "metadata": {
    "lang": "ja"
   },
   "source": [
    "rvizの画面に戻って、「2D Nav Goal」を与え、HSRを自律移動させましょう。\n",
    "\n",
    "![title](./imgs/3_move_avoiding_human.png)\n",
    "\n",
    "人をよけながら自律移動できたでしょうか？"
   ]
  },
  {
   "cell_type": "markdown",
   "metadata": {
    "lang": "en"
   },
   "source": [
    "Return to the RViz screen and use \"2D Nav Goal\" to move the HSR autonomously.\n",
    "\n",
    "![title](./imgs/3_move_avoiding_human.png)\n",
    "\n",
    "You should see the robot move autonomously while avoiding the person."
   ]
  },
  {
   "cell_type": "markdown",
   "metadata": {
    "lang": "ja"
   },
   "source": [
    "# Pythonスクリプトからの自律移動"
   ]
  },
  {
   "cell_type": "markdown",
   "metadata": {
    "lang": "en"
   },
   "source": [
    "# Autonomous movement using a Python script"
   ]
  },
  {
   "cell_type": "markdown",
   "metadata": {
    "lang": "ja"
   },
   "source": [
    "前章はrvizから自律移動を実行しましたが、今回はPythonから指定した座標に自律移動する指令を出してみましょう。"
   ]
  },
  {
   "cell_type": "markdown",
   "metadata": {
    "lang": "en"
   },
   "source": [
    "In the previous section, autonomous movement was executed from RViz. This time, let's issue a command using a Python script."
   ]
  },
  {
   "cell_type": "markdown",
   "metadata": {
    "lang": "ja"
   },
   "source": [
    "## 準備\n",
    "まず、必要なライブラリをインポートし、初期化します。"
   ]
  },
  {
   "cell_type": "markdown",
   "metadata": {
    "lang": "en"
   },
   "source": [
    "## Preparation\n",
    "First, import and initialize the required libraries:"
   ]
  },
  {
   "cell_type": "code",
   "execution_count": null,
   "metadata": {},
   "outputs": [],
   "source": [
    "import rospy\n",
    "from utils import *\n",
    "rospy.init_node('navigation')"
   ]
  },
  {
   "cell_type": "markdown",
   "metadata": {
    "lang": "ja"
   },
   "source": [
    "## ゴール座標指定\n",
    "次に、ゴールの座標を決めましょう。rvizの右上の「Publish Point」ボタンをクリックします。\n",
    "![title](./imgs/3_publish_point_button.png)\n",
    "\n",
    "\n",
    "次に、地図上で目的地にマウスを持って行くと、rvizの左下の「Select this point」の部分に座標が表示されます。この例では、x=1.29,y=3.13,z=0.00747 が目的地の座標です。zは不要なので、x,yの値をメモしておきましょう。\n",
    "![title](./imgs/3_point_values.png)\n",
    "\n",
    "**注意: ゴールを地図から外れた位置に設定すると誤動作するので、地図内の位置にしてください。**"
   ]
  },
  {
   "cell_type": "markdown",
   "metadata": {
    "lang": "en"
   },
   "source": [
    "## Specify goal position\n",
    "Next, let's decide the position of the goal. Click the \"Publish Point\" button at the top right of RViz:\n",
    "![title](./imgs/3_publish_point_button.png)\n",
    "\n",
    "Next, move the mouse to the destination on the map. The coordinates will be displayed in the \"Select this point\" part at the bottom left of RViz.\n",
    "\n",
    "In this example, x=1.29, y=3.13, z=0.00747 are the position of the destination. We don't need z, so just note the x and y values:\n",
    "\n",
    "![title](./imgs/3_point_values.png)\n",
    "\n",
    "**Note: If you set the goal to a position outside of the map, the robot will malfunction, so please set it to a position within the map.**"
   ]
  },
  {
   "cell_type": "markdown",
   "metadata": {
    "lang": "ja"
   },
   "source": [
    "## ゴールを送る\n",
    "ロボットにゴールを送りましょう。下記のコマンドを実行し、シミュレータ上でのロボットの動作を観察してください。\n",
    "\n",
    "**上級者向け** 台車を自律移動させるには`move_base_goal`という関数を使用します。興味のある人は見てみてください。\n",
    "\n",
    "```python\n",
    "# 自律移動のゴールを送信するクライアントを作成\n",
    "navclient = actionlib.SimpleActionClient('/move_base', MoveBaseAction)\n",
    "\n",
    "def move_base_goal(x, y, theta):\n",
    "    u\"\"\"台車の自律移動のゴールを指定する関数\n",
    "\n",
    "    引数：\n",
    "        x (float): 目標のx値 [m]\n",
    "        y (float): 目標のy値 [m]\n",
    "        theta (float): 目標の回転角度 [deg]\n",
    "\n",
    "    返り値:\n",
    "        ゴールに到達したらTrue, そうでなければFalse\n",
    "\n",
    "    \"\"\"\n",
    "\n",
    "    goal = MoveBaseGoal()\n",
    "\n",
    "    # \"map\"座標を基準座標に指定\n",
    "    goal.target_pose.header.frame_id = \"map\"\n",
    "\n",
    "    # ゴールのx,y座標をセットします\n",
    "    goal.target_pose.pose.position.x = x\n",
    "    goal.target_pose.pose.position.y = y\n",
    "\n",
    "    # 角度はクオータニオンという形式で与えます。そのため、オイラー角からクオータニオンに変換します\n",
    "    goal.target_pose.pose.orientation = quaternion_from_euler(0, 0, theta)\n",
    "\n",
    "    # ゴールを送信\n",
    "    navclient.send_goal(goal)\n",
    "    navclient.wait_for_result()\n",
    "    state = navclient.get_state()\n",
    "    # 成功すると、3が返ってくる\n",
    "    # http://docs.ros.org/fuerte/api/actionlib_msgs/html/msg/GoalStatus.html\n",
    "    return True if state == 3 else False\n",
    "```\n",
    "\n",
    "以下のコマンドでx=1メートル、y=0.5メートル、theta=90度の位置姿勢に移動できます。"
   ]
  },
  {
   "cell_type": "markdown",
   "metadata": {
    "lang": "en"
   },
   "source": [
    "## Send a goal\n",
    "To send a goal to the robot, execute the following command and observe the movement of the robot in the simulator.\n",
    "\n",
    "**For advanced users**: To move the move base autonomously, use the function `move_base_goal`. If you are interested, please take a look:\n",
    "\n",
    "```python\n",
    "# Create a client to send autonomous move goals\n",
    "navclient = actionlib.SimpleActionClient ('/move _base', MoveBaseAction)\n",
    "\n",
    "def move_ base _goal (x, y, theta):\n",
    "    u\"\"\"Function that specifies the goal of autonomous movement of the move base\n",
    "\n",
    "    argument:\n",
    "        x(float): Target x value [m]\n",
    "        y(float): Target y value [m]\n",
    "        theta(float): Target rotation angle [deg]\n",
    "\n",
    "    Return value:\n",
    "        True if you reach the goal, False otherwise\n",
    "    \"\"\"\n",
    "\n",
    "    goal = MoveBaseGoal ()\n",
    "\n",
    "    # Specify \"map\" coordinates as reference coordinates\n",
    "    goal.target_ pose.header.frame _id = \"map\"\n",
    "\n",
    "    # Set the x, y coordinates of the goal\n",
    "    goal.target_pose.pose.position.x = x\n",
    "    goal.target_pose.pose.position.y = y\n",
    "\n",
    "    #Angles are given in the form of quaternions. Therefore, convert from Euler angles to quaternions\n",
    "    goal.target_pose.pose.orientation = quaternion_from_euler(0, 0, theta)\n",
    "\n",
    "    #Send goal\n",
    "    navclient.send_goal (goal)\n",
    "    navclient.wait_for_result ()\n",
    "    state = navclient.get_state ()\n",
    "    # If successful, 3 will be returned\n",
    "    # http://docs.ros.org/fuerte/api/actionlib_msgs/html/msg/GoalStatus.html\n",
    "    return True if state == 3 else False\n",
    "`` ```\n",
    "\n",
    "You can move to the position/orientation of x=1 meter, y=0.5 meter, theta=90 degrees with the following command:"
   ]
  },
  {
   "cell_type": "code",
   "execution_count": null,
   "metadata": {},
   "outputs": [],
   "source": [
    "move_base_goal(1, 0.5, 90)"
   ]
  },
  {
   "cell_type": "markdown",
   "metadata": {
    "lang": "ja"
   },
   "source": [
    "以下のコマンドで原点に戻ります。"
   ]
  },
  {
   "cell_type": "markdown",
   "metadata": {
    "lang": "en"
   },
   "source": [
    "Return to the origin with the following command:"
   ]
  },
  {
   "cell_type": "code",
   "execution_count": null,
   "metadata": {},
   "outputs": [],
   "source": [
    "move_base_goal(0, 0, 0)"
   ]
  },
  {
   "cell_type": "markdown",
   "metadata": {
    "lang": "ja"
   },
   "source": [
    "<div class=\"alert alert-block alert-info\">\n",
    "    <b>課題</b>\n",
    "    <p>ある場所についたら次のゴールに自動的に向かうようにして、部屋を周回するプログラムを書いてみましょう。</p>\n",
    "</div>"
   ]
  },
  {
   "cell_type": "markdown",
   "metadata": {
    "lang": "en"
   },
   "source": [
    "<div class=\"alert alert-block alert-info\">\n",
    "    <b>Task</b>\n",
    "    <p>Let's try to write a program that goes around a room, then automatically goes to its next goal after arriving at a certain place.</p>\n",
    "</div>"
   ]
  },
  {
   "cell_type": "code",
   "execution_count": 1,
   "metadata": {},
   "outputs": [],
   "source": [
    "# 自分で考えてみましょう。この下に入力できます。 Write your code here:\n"
   ]
  },
  {
   "cell_type": "markdown",
   "metadata": {
    "lang": "ja"
   },
   "source": [
    "<div class=\"alert alert-block alert-info\">\n",
    "    <b>アドバンスド課題</b>\n",
    "    <p>障害物の上にゴールを置くとどうなるでしょうか？</p>\n",
    "    <p>自律移動中に人を動かして、ロボットの邪魔をするとどうなるでしょうか？</p>\n",
    "    <p>地図の外にゴールを置くとどうなるでしょうか</p>\n",
    "</div>"
   ]
  },
  {
   "cell_type": "markdown",
   "metadata": {
    "lang": "en"
   },
   "source": [
    "<div class=\"alert alert-block alert-info\">\n",
    "    <b>Advanced task</b>\n",
    "    <p>Check what happens if we set a goal in the obstacle.</p>\n",
    "    <p>Check what happens if we move a person in front of the robot while the robot is moving.</p>\n",
    "    <p>Check what happens if we set a goal outside of the map.</p>\n",
    "</div>"
   ]
  },
  {
   "cell_type": "code",
   "execution_count": 2,
   "metadata": {},
   "outputs": [],
   "source": [
    "# 自分で考えてみましょう。この下に入力できます。 Write your code here:\n"
   ]
  },
  {
   "cell_type": "markdown",
   "metadata": {
    "lang": "ja"
   },
   "source": [
    "<div class=\"alert alert-block alert-info\">\n",
    "    <b>次の学習</b>\n",
    "    <p>今までの章では台車の制御を扱ってきました。次の章ではHSRのアームを制御してみましょう。</p>\n",
    "</div>"
   ]
  },
  {
   "cell_type": "markdown",
   "metadata": {
    "lang": "en"
   },
   "source": [
    "<div class=\"alert alert-block alert-info\">\n",
    "    <b>What's next?</b>\n",
    "    <p>Now, we can use the mobile base very well. In the next notebook, we will learn how to use the HSR's arm.</p>\n",
    "</div>"
   ]
  },
  {
   "cell_type": "code",
   "execution_count": null,
   "metadata": {},
   "outputs": [],
   "source": []
  }
 ],
 "metadata": {
  "kernelspec": {
   "display_name": "Python 2",
   "language": "python",
   "name": "python2"
  },
  "language_info": {
   "codemirror_mode": {
    "name": "ipython",
    "version": 2
   },
   "file_extension": ".py",
   "mimetype": "text/x-python",
   "name": "python",
   "nbconvert_exporter": "python",
   "pygments_lexer": "ipython2",
   "version": "2.7.17"
  },
  "nbTranslate": {
   "displayLangs": [
    "ja"
   ],
   "hotkey": "alt-t",
   "langInMainMenu": true,
   "sourceLang": "ja",
   "targetLang": "en",
   "useGoogleTranslate": true
  },
  "toc": {
   "base_numbering": 1,
   "nav_menu": {},
   "number_sections": true,
   "sideBar": true,
   "skip_h1_title": false,
   "title_cell": "Table of Contents",
   "title_sidebar": "Contents",
   "toc_cell": false,
   "toc_position": {},
   "toc_section_display": true,
   "toc_window_display": true
  }
 },
 "nbformat": 4,
 "nbformat_minor": 2
}
