{
 "cells": [
  {
   "cell_type": "markdown",
   "metadata": {
    "lang": "ja"
   },
   "source": [
    "# 画像認識による物体検出\n",
    "\n",
    "<div class=\"alert alert-block alert-info\">\n",
    "    <b>この章の目的</b>\n",
    "    <p>画像処理で物体の座標を検出する方法を学習します</p>\n",
    "</div> "
   ]
  },
  {
   "cell_type": "markdown",
   "metadata": {
    "lang": "en"
   },
   "source": [
    "# Object detection using image recognition\n",
    "\n",
    "<div class=\"alert alert-block alert-info\">\n",
    "    <b>Objective</b>\n",
    "    <p>In this notebook, we will learn how to calculate the position of an object using image recognition.</p>\n",
    "</div>"
   ]
  },
  {
   "cell_type": "markdown",
   "metadata": {
    "lang": "ja"
   },
   "source": [
    "## セットアップ作業"
   ]
  },
  {
   "cell_type": "markdown",
   "metadata": {
    "lang": "en"
   },
   "source": [
    "## Setup"
   ]
  },
  {
   "cell_type": "markdown",
   "metadata": {
    "lang": "ja"
   },
   "source": [
    "必要なライブラリをインポートして、初期化を行います。"
   ]
  },
  {
   "cell_type": "markdown",
   "metadata": {
    "lang": "en"
   },
   "source": [
    "Import the required libraries and initialize them:"
   ]
  },
  {
   "cell_type": "code",
   "execution_count": null,
   "metadata": {},
   "outputs": [],
   "source": [
    "%matplotlib inline\n",
    "import matplotlib.pyplot as plt\n",
    "import rospy\n",
    "import tf\n",
    "from utils import *\n",
    "rospy.init_node(\"recognition\")\n",
    "rgbd = RGBD()"
   ]
  },
  {
   "cell_type": "markdown",
   "metadata": {
    "lang": "ja"
   },
   "source": [
    "rvizを起動します．ロボットモデル、カメラ映像、ポイントクラウドが表示されています。"
   ]
  },
  {
   "cell_type": "markdown",
   "metadata": {
    "lang": "en"
   },
   "source": [
    "Launch RViz. The robot model, camera image, and point cloud are displayed:"
   ]
  },
  {
   "cell_type": "code",
   "execution_count": null,
   "metadata": {},
   "outputs": [],
   "source": [
    "%%script bash --bg\n",
    "rviz -d data/5_recognition.rviz > /dev/null 2>&1"
   ]
  },
  {
   "cell_type": "markdown",
   "metadata": {
    "lang": "ja"
   },
   "source": [
    "## 認識対象の配置"
   ]
  },
  {
   "cell_type": "markdown",
   "metadata": {
    "lang": "en"
   },
   "source": [
    "## Recognition target placement"
   ]
  },
  {
   "cell_type": "markdown",
   "metadata": {
    "lang": "ja"
   },
   "source": [
    "今回、認識対象とするレゴブロックをHSRの前に出現させましょう。"
   ]
  },
  {
   "cell_type": "markdown",
   "metadata": {
    "lang": "en"
   },
   "source": [
    "Enter the following command to make a Lego block appear in front of the HSR."
   ]
  },
  {
   "cell_type": "code",
   "execution_count": null,
   "metadata": {},
   "outputs": [],
   "source": [
    "put_object(\"e_lego_duplo\", 0.6, 0.0, 0.0)"
   ]
  },
  {
   "cell_type": "markdown",
   "metadata": {
    "lang": "ja"
   },
   "source": [
    "レゴブロックが頭部カメラの画角に入るように頭を少し下げます。rviz上の頭部カメラの映像が変化することを確認しましょう。"
   ]
  },
  {
   "cell_type": "markdown",
   "metadata": {
    "lang": "en"
   },
   "source": [
    "Lower the head slightly so that the Lego block is within the viewing angle of the head camera. Check that the image in the head camera in RViz changes accordingly:"
   ]
  },
  {
   "cell_type": "code",
   "execution_count": null,
   "metadata": {},
   "outputs": [],
   "source": [
    "# 頭部を動かします\n",
    "# 下向きの場合は負、上向きの場合は正の値を引数に与えます\n",
    "move_head_tilt(-1)"
   ]
  },
  {
   "cell_type": "markdown",
   "metadata": {
    "lang": "ja"
   },
   "source": [
    "## センサ情報の取得"
   ]
  },
  {
   "cell_type": "markdown",
   "metadata": {
    "lang": "en"
   },
   "source": [
    "## Acquisition of sensor information"
   ]
  },
  {
   "cell_type": "markdown",
   "metadata": {
    "lang": "ja"
   },
   "source": [
    "今回はセンサ情報として、頭部RGB-Dカメラから取得できるポイントクラウド情報を利用します。"
   ]
  },
  {
   "cell_type": "markdown",
   "metadata": {
    "lang": "en"
   },
   "source": [
    "In this notebook, we will use point cloud information that can be obtained from the head RGB-D camera as sensor information."
   ]
  },
  {
   "cell_type": "markdown",
   "metadata": {
    "lang": "ja"
   },
   "source": [
    "以下でRGB-Dカメラから取得したRGB画像を表示することができます。"
   ]
  },
  {
   "cell_type": "markdown",
   "metadata": {
    "lang": "en"
   },
   "source": [
    "You can display the RGB image acquired from the RGB-D camera as follows:"
   ]
  },
  {
   "cell_type": "code",
   "execution_count": null,
   "metadata": {},
   "outputs": [],
   "source": [
    "# 画像を取得します Get image data\n",
    "image_data = rgbd.get_image()\n",
    "# 取得した画像を表示してみます Display the image data\n",
    "plt.imshow(image_data)"
   ]
  },
  {
   "cell_type": "markdown",
   "metadata": {
    "lang": "ja"
   },
   "source": [
    "画像データは、480x640x3の3次元配列です。"
   ]
  },
  {
   "cell_type": "markdown",
   "metadata": {
    "lang": "en"
   },
   "source": [
    "The image data is a 480x640x3 three-dimensional array:"
   ]
  },
  {
   "cell_type": "code",
   "execution_count": null,
   "metadata": {},
   "outputs": [],
   "source": [
    "image_data.shape"
   ]
  },
  {
   "cell_type": "markdown",
   "metadata": {
    "lang": "ja"
   },
   "source": [
    "最初の2次元は（y, x）のピクセルに対応します。最後の1次元はRGB形式のピクセル値です。\n",
    "\n",
    "例えば以下の命令で左上のピクセルのRGB値にアクセスできます。"
   ]
  },
  {
   "cell_type": "markdown",
   "metadata": {
    "lang": "en"
   },
   "source": [
    "The first two dimensions correspond to pixels (y, x). The last dimension is the pixel values in RGB format.\n",
    "\n",
    "For example, you can access the RGB value of the upper left pixel with the following command:"
   ]
  },
  {
   "cell_type": "code",
   "execution_count": null,
   "metadata": {},
   "outputs": [],
   "source": [
    "image_data[0][0]"
   ]
  },
  {
   "cell_type": "markdown",
   "metadata": {
    "lang": "ja"
   },
   "source": [
    "ポイントクラウド情報には、各ピクセルの3次元座標値が格納されています。\n",
    "\n",
    "以下を実行することで、深度情報を表示することができます。"
   ]
  },
  {
   "cell_type": "markdown",
   "metadata": {
    "lang": "en"
   },
   "source": [
    "The point cloud information stores the 3D coordinate values of each pixel.\n",
    "\n",
    "You can check the depth information using the following commands:"
   ]
  },
  {
   "cell_type": "code",
   "execution_count": null,
   "metadata": {},
   "outputs": [],
   "source": [
    "# ポイントクラウドを取得します Get point cloud information\n",
    "points_data = rgbd.get_points()\n",
    "# ポイントクラウドの深度情報を表示してみます Display the depth value of the point cloud information\n",
    "plt.imshow(points_data['z'])"
   ]
  },
  {
   "cell_type": "markdown",
   "metadata": {
    "lang": "ja"
   },
   "source": [
    "深度情報は、480x640の2次元配列です。"
   ]
  },
  {
   "cell_type": "markdown",
   "metadata": {
    "lang": "en"
   },
   "source": [
    "The depth information is a 480x640 two-dimensional array:"
   ]
  },
  {
   "cell_type": "code",
   "execution_count": null,
   "metadata": {},
   "outputs": [],
   "source": [
    "points_data['z'].shape"
   ]
  },
  {
   "cell_type": "markdown",
   "metadata": {
    "lang": "ja"
   },
   "source": [
    "画像データと同様に、以下の命令で左上のピクセル値にアクセスできます。単位はメートルです。"
   ]
  },
  {
   "cell_type": "markdown",
   "metadata": {
    "lang": "en"
   },
   "source": [
    "Similar to the image data, we can access the depth value in the upper left with the following command. The unit is meters:"
   ]
  },
  {
   "cell_type": "code",
   "execution_count": null,
   "metadata": {},
   "outputs": [],
   "source": [
    "points_data['z'][0][0]"
   ]
  },
  {
   "cell_type": "markdown",
   "metadata": {
    "lang": "ja"
   },
   "source": [
    "## 色空間の変換と色抽出"
   ]
  },
  {
   "cell_type": "markdown",
   "metadata": {
    "lang": "en"
   },
   "source": [
    "## Color space conversion and color extraction"
   ]
  },
  {
   "cell_type": "markdown",
   "metadata": {
    "lang": "ja"
   },
   "source": [
    "レゴブロックの色は「水色」なので、色を使ってレゴブロックを検出してみましょう。\n",
    "\n",
    "「image_data」にはRGB形式で色のデータが格納されています。\n",
    "RGB形式のデータをそのまま使ってもよいのですが、RGBからHSVに色空間を変換すると照明変化に頑健になることが知られています。\n",
    "\n",
    "HSVは、色相(Hue)、彩度(Saturation)、明度(Value)によって色を表現します。今回は色相情報のみを利用してレゴブロックの水色を抽出します。"
   ]
  },
  {
   "cell_type": "markdown",
   "metadata": {
    "lang": "en"
   },
   "source": [
    "The color of the Lego block is \"light blue\", so let's use the color to detect the Lego block.\n",
    "\n",
    "Color data is stored in RGB format in \"image_data\".\n",
    "We can use the RGB data as is, but it is known that converting the color space from RGB to HSV makes it more robust against changes in lighting.\n",
    "\n",
    "HSV expresses color by Hue, Saturation and Value. This time, we will extract the light blue of the Lego block using the hue channel:"
   ]
  },
  {
   "cell_type": "code",
   "execution_count": null,
   "metadata": {},
   "outputs": [],
   "source": [
    "# 画像の色相の値を取得します Get hue channel\n",
    "h_image = rgbd.get_h_image()\n",
    "# 色相画像を表示してみます Display the hue channel\n",
    "plt.imshow(h_image)"
   ]
  },
  {
   "cell_type": "markdown",
   "metadata": {
    "lang": "ja"
   },
   "source": [
    "色相画像に対して適当な閾値を設定して、レゴブロックのみが抽出されるようにします。"
   ]
  },
  {
   "cell_type": "markdown",
   "metadata": {
    "lang": "en"
   },
   "source": [
    "Set an appropriate threshold for the hue image so that only the light blue Lego block is extracted:"
   ]
  },
  {
   "cell_type": "code",
   "execution_count": null,
   "metadata": {},
   "outputs": [],
   "source": [
    "from ipywidgets import interact\n",
    "\n",
    "def f(lower = 0, upper = 255):\n",
    "    yellow_region = (h_image > lower) & (h_image < upper)\n",
    "    plt.imshow(yellow_region)\n",
    "\n",
    "interact(f, lower=(0, 255, 5), upper=(0, 255, 5))"
   ]
  },
  {
   "cell_type": "markdown",
   "metadata": {
    "lang": "ja"
   },
   "source": [
    "閾値を下限130、上限140ぐらいに設定すると安定して抽出できるようです。"
   ]
  },
  {
   "cell_type": "markdown",
   "metadata": {
    "lang": "en"
   },
   "source": [
    "It seems that stable extraction can be achieved by setting the threshold to the lower limit of 130 and the upper limit of 140."
   ]
  },
  {
   "cell_type": "markdown",
   "metadata": {
    "lang": "ja"
   },
   "source": [
    "<div class=\"alert alert-block alert-info\">\n",
    "    <b>課題</b>\n",
    "    <p>同様にバナナやリンゴを抽出してみましょう。</p>\n",
    "    <p>以下を実行することで、バナナとリンゴを出現させることができます。</p>\n",
    "</div>"
   ]
  },
  {
   "cell_type": "markdown",
   "metadata": {
    "lang": "en"
   },
   "source": [
    "<div class=\"alert alert-block alert-info\">\n",
    "    <b>Task</b>\n",
    "    <p>Try to extract banana and apple as well.</p>\n",
    "    <p>By entering the following commands, we can spawn banana and apple.</p>\n",
    "</div>"
   ]
  },
  {
   "cell_type": "code",
   "execution_count": null,
   "metadata": {},
   "outputs": [],
   "source": [
    "put_object(\"banana\", 0.6, 0.2, 0.0)"
   ]
  },
  {
   "cell_type": "code",
   "execution_count": null,
   "metadata": {},
   "outputs": [],
   "source": [
    "put_object(\"apple\", 1.0, 0.0, 0.0)"
   ]
  },
  {
   "cell_type": "markdown",
   "metadata": {
    "lang": "ja"
   },
   "source": [
    "## レゴブロックの位置の取得"
   ]
  },
  {
   "cell_type": "markdown",
   "metadata": {
    "lang": "en"
   },
   "source": [
    "## Get the position of the Lego block"
   ]
  },
  {
   "cell_type": "markdown",
   "metadata": {
    "lang": "ja"
   },
   "source": [
    "レゴブロックを抽出できる色相画像の閾値を設定します。"
   ]
  },
  {
   "cell_type": "markdown",
   "metadata": {
    "lang": "en"
   },
   "source": [
    "Set the threshold of the hue image from which the light blue Lego block can be extracted:"
   ]
  },
  {
   "cell_type": "code",
   "execution_count": null,
   "metadata": {},
   "outputs": [],
   "source": [
    "rgbd.set_h(130, 140)"
   ]
  },
  {
   "cell_type": "markdown",
   "metadata": {
    "lang": "ja"
   },
   "source": [
    "設定した閾値の色相画像を表示させてみましょう。"
   ]
  },
  {
   "cell_type": "markdown",
   "metadata": {
    "lang": "en"
   },
   "source": [
    "Let's display the configured threshold of the hue image:"
   ]
  },
  {
   "cell_type": "code",
   "execution_count": null,
   "metadata": {},
   "outputs": [],
   "source": [
    "region = rgbd.get_region()\n",
    "plt.imshow(region)"
   ]
  },
  {
   "cell_type": "markdown",
   "metadata": {
    "lang": "ja"
   },
   "source": [
    "ポイントクラウド情報から、レゴブロックと考えられる領域のxyz座標の平均値を計算します。\n",
    "\n",
    "レゴブロックのxyz座標が以下のように計算できました。"
   ]
  },
  {
   "cell_type": "markdown",
   "metadata": {
    "lang": "en"
   },
   "source": [
    "From the point cloud information, calculate the average value of the xyz coordinates of the area considered to be a Lego block.\n",
    "\n",
    "The xyz coordinates of the Lego block can be calculated as follows:"
   ]
  },
  {
   "cell_type": "code",
   "execution_count": null,
   "metadata": {},
   "outputs": [],
   "source": [
    "rgbd.get_xyz()"
   ]
  },
  {
   "cell_type": "markdown",
   "metadata": {
    "lang": "ja"
   },
   "source": [
    "このxyz値は、「head_rgbd_sensor_rgb_frame」基準座標、つまりRGBDカメラ座標上での値です。"
   ]
  },
  {
   "cell_type": "markdown",
   "metadata": {
    "lang": "en"
   },
   "source": [
    "This xyz value is the value in the \"head_rgbd_sensor_rgb_frame\" reference coordinates, that is the RGBD camera coordinates."
   ]
  },
  {
   "cell_type": "markdown",
   "metadata": {
    "lang": "ja"
   },
   "source": [
    "## レゴブロックの座標の出力"
   ]
  },
  {
   "cell_type": "markdown",
   "metadata": {
    "lang": "en"
   },
   "source": [
    "## Display the Lego block coordinates"
   ]
  },
  {
   "cell_type": "markdown",
   "metadata": {
    "lang": "ja"
   },
   "source": [
    "出力される座標の名前を`lego`にセットしましょう。"
   ]
  },
  {
   "cell_type": "markdown",
   "metadata": {
    "lang": "en"
   },
   "source": [
    "Let's set the name of the output coordinates to `lego`."
   ]
  },
  {
   "cell_type": "code",
   "execution_count": null,
   "metadata": {},
   "outputs": [],
   "source": [
    "rgbd.set_coordinate_name(\"lego\")"
   ]
  },
  {
   "cell_type": "markdown",
   "metadata": {
    "lang": "ja"
   },
   "source": [
    "新しいポイントクラウド情報が入力されるたびにbananaの座標情報が出力されます。\n",
    "\n",
    "「TF」の「Frames」から`lego`を選択してが正しくpublishされているか確認しましょう。\n",
    "\n",
    "![title](./imgs/5_lego_tf.png)"
   ]
  },
  {
   "cell_type": "markdown",
   "metadata": {
    "lang": "en"
   },
   "source": [
    "The coordinate information of banana is updated every time on new point cloud information input.\n",
    "\n",
    "Select `lego` from \"Frames\" of \"TF\" and check if it is published correctly:\n",
    "\n",
    "![title](./imgs/5_lego_tf.png)"
   ]
  },
  {
   "cell_type": "markdown",
   "metadata": {
    "lang": "ja"
   },
   "source": [
    "座標情報はPythonでもアクセスできます。\n",
    "\n",
    "例えば、絶対座標（map）上での`lego`の位置(x, y)は以下のように取得できます。"
   ]
  },
  {
   "cell_type": "markdown",
   "metadata": {
    "lang": "en"
   },
   "source": [
    "Coordinate information can also be accessed in Python.\n",
    "\n",
    "For example, the position (x, y) of `lego` on the absolute coordinates (=map) can be obtained as follows:"
   ]
  },
  {
   "cell_type": "code",
   "execution_count": null,
   "metadata": {},
   "outputs": [],
   "source": [
    "trans = get_relative_coordinate(\"map\", \"lego\")\n",
    "x = trans.translation.x\n",
    "y = trans.translation.y\n",
    "x, y"
   ]
  },
  {
   "cell_type": "markdown",
   "metadata": {
    "lang": "ja"
   },
   "source": [
    "`lego`は、絶対座標上で約（x, y）=（0.6, 0.0）の座標に置かれているようです。"
   ]
  },
  {
   "cell_type": "markdown",
   "metadata": {
    "lang": "en"
   },
   "source": [
    "`lego` seems to be placed at about (x, y) = (0.6, 0.0) position in absolute coordinates."
   ]
  },
  {
   "cell_type": "markdown",
   "metadata": {
    "lang": "ja"
   },
   "source": [
    "## 認識結果を用いた制御"
   ]
  },
  {
   "cell_type": "markdown",
   "metadata": {
    "lang": "en"
   },
   "source": [
    "## Control using recognition results"
   ]
  },
  {
   "cell_type": "markdown",
   "metadata": {
    "lang": "ja"
   },
   "source": [
    "以上の認識器を用いて、HSRにレゴブロックを拾わせてみましょう。\n",
    "\n",
    "前章の関数`move_wholebody_ik`に認識結果のx, yを引数として与え、逆運動学によってHSRを制御します。"
   ]
  },
  {
   "cell_type": "markdown",
   "metadata": {
    "lang": "en"
   },
   "source": [
    "Let's make the HSR pick up the light blue Lego block using the above recognizer.\n",
    "\n",
    "The function `move_wholebody_ik` in the previous section is given the recognition result x and y as arguments, and the HSR is controlled by inverse kinematics:"
   ]
  },
  {
   "cell_type": "code",
   "execution_count": null,
   "metadata": {},
   "outputs": [],
   "source": [
    "# ハンドを開く Open the hand\n",
    "move_hand(1)\n",
    "# 逆運動学を使ってHSRの手先を動かします Move the end effector by using inverse kinematics\n",
    "move_wholebody_ik(x, y, 0.1, 180, 0, 0)\n",
    "# ハンドを閉じる Close the hand\n",
    "move_hand(0)\n",
    "# アームを初期姿勢に戻す Move the hand to the initial position\n",
    "move_arm_init()"
   ]
  },
  {
   "cell_type": "markdown",
   "metadata": {
    "lang": "ja"
   },
   "source": [
    "<div class=\"alert alert-block alert-info\">\n",
    "    <b>課題</b>\n",
    "    <p>レゴブロックを出現させる位置を変えても上手く拾えるか試してみましょう。</p>\n",
    "</div>"
   ]
  },
  {
   "cell_type": "markdown",
   "metadata": {
    "lang": "en"
   },
   "source": [
    "<div class=\"alert alert-block alert-info\">\n",
    "    <b>Task</b>\n",
    "    <p>Check that picking up the light blue Lego block will succeed even if we change its position.</p>\n",
    "</div>"
   ]
  },
  {
   "cell_type": "code",
   "execution_count": null,
   "metadata": {},
   "outputs": [],
   "source": [
    "# レゴブロックを削除 Delete Lego block\n",
    "delete_object(\"e_lego_duplo\")"
   ]
  },
  {
   "cell_type": "code",
   "execution_count": null,
   "metadata": {},
   "outputs": [],
   "source": [
    "# レゴブロックを配置 Place the Lego block at the different position\n",
    "put_object(\"e_lego_duplo\", 0.6, 0.2, 0.0)"
   ]
  },
  {
   "cell_type": "code",
   "execution_count": null,
   "metadata": {},
   "outputs": [],
   "source": [
    "# 自分で考えてみましょう。この下に入力できます。 Write your code here:\n"
   ]
  }
 ],
 "metadata": {
  "kernelspec": {
   "display_name": "Python 2",
   "language": "python",
   "name": "python2"
  },
  "language_info": {
   "codemirror_mode": {
    "name": "ipython",
    "version": 2
   },
   "file_extension": ".py",
   "mimetype": "text/x-python",
   "name": "python",
   "nbconvert_exporter": "python",
   "pygments_lexer": "ipython2",
   "version": "2.7.17"
  },
  "nbTranslate": {
   "displayLangs": [
    "ja"
   ],
   "hotkey": "alt-t",
   "langInMainMenu": true,
   "sourceLang": "ja",
   "targetLang": "en",
   "useGoogleTranslate": true
  },
  "toc": {
   "base_numbering": 1,
   "nav_menu": {},
   "number_sections": true,
   "sideBar": true,
   "skip_h1_title": false,
   "title_cell": "Table of Contents",
   "title_sidebar": "Contents",
   "toc_cell": false,
   "toc_position": {},
   "toc_section_display": true,
   "toc_window_display": true
  }
 },
 "nbformat": 4,
 "nbformat_minor": 2
}
