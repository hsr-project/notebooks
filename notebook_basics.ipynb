{
 "cells": [
  {
   "cell_type": "markdown",
   "metadata": {},
   "source": [
    "# jupyter notebookの基本的な使い方"
   ]
  },
  {
   "cell_type": "markdown",
   "metadata": {},
   "source": [
    "jupyter notebookではCellにPythonコマンドを入力し逐次実行していくことができます。例えば以下のコマンドを実行してみましょう。コマンドを実行するにはセルを選択した状態で「Shift+Enter」を押してください。"
   ]
  },
  {
   "cell_type": "code",
   "execution_count": 1,
   "metadata": {},
   "outputs": [
    {
     "data": {
      "text/plain": [
       "2"
      ]
     },
     "execution_count": 1,
     "metadata": {},
     "output_type": "execute_result"
    }
   ],
   "source": [
    "1+1"
   ]
  },
  {
   "cell_type": "markdown",
   "metadata": {},
   "source": [
    "コマンドの実行結果は変数へ代入することもできます。"
   ]
  },
  {
   "cell_type": "code",
   "execution_count": 2,
   "metadata": {},
   "outputs": [],
   "source": [
    "a = 1+1"
   ]
  },
  {
   "cell_type": "markdown",
   "metadata": {},
   "source": [
    "変数の中身は、以下のようにして出力できます。"
   ]
  },
  {
   "cell_type": "code",
   "execution_count": 3,
   "metadata": {},
   "outputs": [
    {
     "data": {
      "text/plain": [
       "2"
      ]
     },
     "execution_count": 3,
     "metadata": {},
     "output_type": "execute_result"
    }
   ],
   "source": [
    "a"
   ]
  },
  {
   "cell_type": "markdown",
   "metadata": {},
   "source": [
    "notebook上にはコマンドを実行した時点の情報が保存されます。例えば以下のコマンドの出力としては、このnotebookを作った時点の時刻が記録されています（セルを実行すると更新されます）。"
   ]
  },
  {
   "cell_type": "code",
   "execution_count": 5,
   "metadata": {},
   "outputs": [
    {
     "name": "stdout",
     "output_type": "stream",
     "text": [
      "2019-11-12 23:55:24.498521\n"
     ]
    }
   ],
   "source": [
    "import datetime\n",
    "print(datetime.datetime.now())"
   ]
  },
  {
   "cell_type": "markdown",
   "metadata": {},
   "source": [
    "notebook上ではPythonコマンドだけでなく、UNIXコマンドも実行可能です。実行するには頭に「!」記号を付けてコマンドを指定します。"
   ]
  },
  {
   "cell_type": "markdown",
   "metadata": {},
   "source": [
    "例えば以下はROSのトピックを一覧するコマンドです。"
   ]
  },
  {
   "cell_type": "code",
   "execution_count": 6,
   "metadata": {},
   "outputs": [
    {
     "name": "stdout",
     "output_type": "stream",
     "text": [
      "/amcl_pose\r\n",
      "/attached_collision_object\r\n",
      "/clock\r\n",
      "/collision_object\r\n",
      "/gazebo/link_states\r\n",
      "/gazebo/model_states\r\n",
      "/gazebo/set_link_state\r\n",
      "/gazebo/set_model_state\r\n",
      "/gazebo_ros_control/pid_gains/arm_flex_joint/parameter_descriptions\r\n",
      "/gazebo_ros_control/pid_gains/arm_flex_joint/parameter_updates\r\n",
      "/gazebo_ros_control/pid_gains/arm_lift_joint/parameter_descriptions\r\n",
      "/gazebo_ros_control/pid_gains/arm_lift_joint/parameter_updates\r\n",
      "/gazebo_ros_control/pid_gains/arm_roll_joint/parameter_descriptions\r\n",
      "/gazebo_ros_control/pid_gains/arm_roll_joint/parameter_updates\r\n",
      "/gazebo_ros_control/pid_gains/base_l_drive_wheel_joint/parameter_descriptions\r\n",
      "/gazebo_ros_control/pid_gains/base_l_drive_wheel_joint/parameter_updates\r\n",
      "/gazebo_ros_control/pid_gains/base_r_drive_wheel_joint/parameter_descriptions\r\n",
      "/gazebo_ros_control/pid_gains/base_r_drive_wheel_joint/parameter_updates\r\n",
      "/gazebo_ros_control/pid_gains/base_roll_joint/parameter_descriptions\r\n",
      "/gazebo_ros_control/pid_gains/base_roll_joint/parameter_updates\r\n",
      "/gazebo_ros_control/pid_gains/head_pan_joint/parameter_descriptions\r\n",
      "/gazebo_ros_control/pid_gains/head_pan_joint/parameter_updates\r\n",
      "/gazebo_ros_control/pid_gains/head_tilt_joint/parameter_descriptions\r\n",
      "/gazebo_ros_control/pid_gains/head_tilt_joint/parameter_updates\r\n",
      "/gazebo_ros_control/pid_gains/wrist_flex_joint/parameter_descriptions\r\n",
      "/gazebo_ros_control/pid_gains/wrist_flex_joint/parameter_updates\r\n",
      "/gazebo_ros_control/pid_gains/wrist_roll_joint/parameter_descriptions\r\n",
      "/gazebo_ros_control/pid_gains/wrist_roll_joint/parameter_updates\r\n",
      "/head_rgbd_sensor/parameter_descriptions\r\n",
      "/head_rgbd_sensor/parameter_updates\r\n",
      "/hsrb/arm_trajectory_controller/command\r\n",
      "/hsrb/arm_trajectory_controller/follow_joint_trajectory/cancel\r\n",
      "/hsrb/arm_trajectory_controller/follow_joint_trajectory/feedback\r\n",
      "/hsrb/arm_trajectory_controller/follow_joint_trajectory/goal\r\n",
      "/hsrb/arm_trajectory_controller/follow_joint_trajectory/result\r\n",
      "/hsrb/arm_trajectory_controller/follow_joint_trajectory/status\r\n",
      "/hsrb/arm_trajectory_controller/state\r\n",
      "/hsrb/base_b_bumper_sensor\r\n",
      "/hsrb/base_f_bumper_sensor\r\n",
      "/hsrb/base_imu/data\r\n",
      "/hsrb/base_pose\r\n",
      "/hsrb/base_scan\r\n",
      "/hsrb/command_suction\r\n",
      "/hsrb/command_velocity\r\n",
      "/hsrb/gripper_controller/apply_force/cancel\r\n",
      "/hsrb/gripper_controller/apply_force/feedback\r\n",
      "/hsrb/gripper_controller/apply_force/goal\r\n",
      "/hsrb/gripper_controller/apply_force/result\r\n",
      "/hsrb/gripper_controller/apply_force/status\r\n",
      "/hsrb/gripper_controller/command\r\n",
      "/hsrb/gripper_controller/follow_joint_trajectory/cancel\r\n",
      "/hsrb/gripper_controller/follow_joint_trajectory/feedback\r\n",
      "/hsrb/gripper_controller/follow_joint_trajectory/goal\r\n",
      "/hsrb/gripper_controller/follow_joint_trajectory/result\r\n",
      "/hsrb/gripper_controller/follow_joint_trajectory/status\r\n",
      "/hsrb/gripper_controller/grasp/cancel\r\n",
      "/hsrb/gripper_controller/grasp/feedback\r\n",
      "/hsrb/gripper_controller/grasp/goal\r\n",
      "/hsrb/gripper_controller/grasp/result\r\n",
      "/hsrb/gripper_controller/grasp/status\r\n",
      "/hsrb/gripper_controller/pid_gains/hand_l_distal_joint/parameter_descriptions\r\n",
      "/hsrb/gripper_controller/pid_gains/hand_l_distal_joint/parameter_updates\r\n",
      "/hsrb/gripper_controller/pid_gains/hand_l_proximal_joint/parameter_descriptions\r\n",
      "/hsrb/gripper_controller/pid_gains/hand_l_proximal_joint/parameter_updates\r\n",
      "/hsrb/gripper_controller/pid_gains/hand_l_spring_proximal_joint/parameter_descriptions\r\n",
      "/hsrb/gripper_controller/pid_gains/hand_l_spring_proximal_joint/parameter_updates\r\n",
      "/hsrb/gripper_controller/pid_gains/hand_r_distal_joint/parameter_descriptions\r\n",
      "/hsrb/gripper_controller/pid_gains/hand_r_distal_joint/parameter_updates\r\n",
      "/hsrb/gripper_controller/pid_gains/hand_r_proximal_joint/parameter_descriptions\r\n",
      "/hsrb/gripper_controller/pid_gains/hand_r_proximal_joint/parameter_updates\r\n",
      "/hsrb/gripper_controller/pid_gains/hand_r_spring_proximal_joint/parameter_descriptions\r\n",
      "/hsrb/gripper_controller/pid_gains/hand_r_spring_proximal_joint/parameter_updates\r\n",
      "/hsrb/hand_camera/camera_info\r\n",
      "/hsrb/hand_camera/image_raw\r\n",
      "/hsrb/hand_camera/parameter_descriptions\r\n",
      "/hsrb/hand_camera/parameter_updates\r\n",
      "/hsrb/head_center_camera/camera_info\r\n",
      "/hsrb/head_center_camera/image_raw\r\n",
      "/hsrb/head_center_camera/parameter_descriptions\r\n",
      "/hsrb/head_center_camera/parameter_updates\r\n",
      "/hsrb/head_depth_camera/depth_registered/rectified_points\r\n",
      "/hsrb/head_l_stereo_camera/camera_info\r\n",
      "/hsrb/head_l_stereo_camera/image_rect_color\r\n",
      "/hsrb/head_l_stereo_camera/parameter_descriptions\r\n",
      "/hsrb/head_l_stereo_camera/parameter_updates\r\n",
      "/hsrb/head_r_stereo_camera/camera_info\r\n",
      "/hsrb/head_r_stereo_camera/image_rect_color\r\n",
      "/hsrb/head_r_stereo_camera/parameter_descriptions\r\n",
      "/hsrb/head_r_stereo_camera/parameter_updates\r\n",
      "/hsrb/head_rgbd_sensor/depth_registered/camera_info\r\n",
      "/hsrb/head_rgbd_sensor/depth_registered/image\r\n",
      "/hsrb/head_rgbd_sensor/depth_registered/image_rect_raw\r\n",
      "/hsrb/head_rgbd_sensor/depth_registered/rectified_points\r\n",
      "/hsrb/head_rgbd_sensor/rgb/camera_info\r\n",
      "/hsrb/head_rgbd_sensor/rgb/debayer/parameter_descriptions\r\n",
      "/hsrb/head_rgbd_sensor/rgb/debayer/parameter_updates\r\n",
      "/hsrb/head_rgbd_sensor/rgb/image_color\r\n",
      "/hsrb/head_rgbd_sensor/rgb/image_mono\r\n",
      "/hsrb/head_rgbd_sensor/rgb/image_raw\r\n",
      "/hsrb/head_rgbd_sensor/rgb/image_rect_color\r\n",
      "/hsrb/head_rgbd_sensor/rgb/nodelet_manager/bond\r\n",
      "/hsrb/head_trajectory_controller/command\r\n",
      "/hsrb/head_trajectory_controller/follow_joint_trajectory/cancel\r\n",
      "/hsrb/head_trajectory_controller/follow_joint_trajectory/feedback\r\n",
      "/hsrb/head_trajectory_controller/follow_joint_trajectory/goal\r\n",
      "/hsrb/head_trajectory_controller/follow_joint_trajectory/result\r\n",
      "/hsrb/head_trajectory_controller/follow_joint_trajectory/status\r\n",
      "/hsrb/head_trajectory_controller/state\r\n",
      "/hsrb/imu/data\r\n",
      "/hsrb/joint_states\r\n",
      "/hsrb/laser_odom\r\n",
      "/hsrb/mimic_controller/pid_gains/torso_lift_joint/parameter_descriptions\r\n",
      "/hsrb/mimic_controller/pid_gains/torso_lift_joint/parameter_updates\r\n",
      "/hsrb/odom\r\n",
      "/hsrb/odom_ground_truth\r\n",
      "/hsrb/omni_base_controller/command\r\n",
      "/hsrb/omni_base_controller/follow_joint_trajectory/cancel\r\n",
      "/hsrb/omni_base_controller/follow_joint_trajectory/feedback\r\n",
      "/hsrb/omni_base_controller/follow_joint_trajectory/goal\r\n",
      "/hsrb/omni_base_controller/follow_joint_trajectory/result\r\n",
      "/hsrb/omni_base_controller/follow_joint_trajectory/status\r\n",
      "/hsrb/omni_base_controller/internal_state\r\n",
      "/hsrb/omni_base_controller/state\r\n",
      "/hsrb/pose2D\r\n",
      "/hsrb/pressure_sensor\r\n",
      "/hsrb/robot_state/joint_states\r\n",
      "/hsrb/suction_control/cancel\r\n",
      "/hsrb/suction_control/feedback\r\n",
      "/hsrb/suction_control/goal\r\n",
      "/hsrb/suction_control/result\r\n",
      "/hsrb/suction_control/status\r\n",
      "/hsrb/wheel_odom\r\n",
      "/hsrb/wrist_wrench/raw\r\n",
      "/initialpose\r\n",
      "/move_base/current_goal\r\n",
      "/move_base/goal\r\n",
      "/move_base_simple/goal\r\n",
      "/move_group/display_contacts\r\n",
      "/move_group/display_planned_path\r\n",
      "/move_group/filtered_cloud\r\n",
      "/move_group/monitored_planning_scene\r\n",
      "/move_group/ompl/parameter_descriptions\r\n",
      "/move_group/ompl/parameter_updates\r\n",
      "/move_group/planning_scene_monitor/parameter_descriptions\r\n",
      "/move_group/planning_scene_monitor/parameter_updates\r\n",
      "/particlecloud\r\n",
      "/planning_scene\r\n",
      "/planning_scene_world\r\n",
      "/rosout\r\n",
      "/rosout_agg\r\n",
      "/score\r\n",
      "/tf\r\n",
      "/tf_static\r\n"
     ]
    }
   ],
   "source": [
    "!rostopic list"
   ]
  },
  {
   "cell_type": "markdown",
   "metadata": {},
   "source": [
    "以下は、ファイルを一覧する標準UNIXコマンドです。"
   ]
  },
  {
   "cell_type": "code",
   "execution_count": 7,
   "metadata": {},
   "outputs": [
    {
     "name": "stdout",
     "output_type": "stream",
     "text": [
      "moveit_test.ipynb  notebook_basics.ipynb  screencast.ipynb\r\n"
     ]
    }
   ],
   "source": [
    "!ls"
   ]
  },
  {
   "cell_type": "markdown",
   "metadata": {},
   "source": [
    "UNIXコマンドをバックグラウンド実行するには、script magickを使ってください。例えば以下の例ではバックグラウンドでROSのrvizを起動します。"
   ]
  },
  {
   "cell_type": "code",
   "execution_count": 8,
   "metadata": {},
   "outputs": [
    {
     "name": "stdout",
     "output_type": "stream",
     "text": [
      "Starting job # 0 in a separate thread.\n"
     ]
    }
   ],
   "source": [
    "%%script bash --bg --out rviz_out\n",
    "\n",
    "rosrun rviz rviz"
   ]
  },
  {
   "cell_type": "markdown",
   "metadata": {},
   "source": [
    "Xサーバの画面 http://localhost:3000/ を開いてrvizが起動していることを確認してください。"
   ]
  },
  {
   "cell_type": "code",
   "execution_count": null,
   "metadata": {},
   "outputs": [],
   "source": []
  }
 ],
 "metadata": {
  "kernelspec": {
   "display_name": "Python 2",
   "language": "python",
   "name": "python2"
  },
  "language_info": {
   "codemirror_mode": {
    "name": "ipython",
    "version": 2
   },
   "file_extension": ".py",
   "mimetype": "text/x-python",
   "name": "python",
   "nbconvert_exporter": "python",
   "pygments_lexer": "ipython2",
   "version": "2.7.12"
  }
 },
 "nbformat": 4,
 "nbformat_minor": 2
}
