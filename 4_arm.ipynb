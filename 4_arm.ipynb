{
 "cells": [
  {
   "cell_type": "markdown",
   "metadata": {},
   "source": [
    "# 4. 順運動学、逆運動学を用いた動作生成\n",
    "\n",
    "<div class=\"alert alert-block alert-info\">\n",
    "    <b>この章の目的</b>\n",
    "    <p>順運動学、逆運動学を使ったHSRのアームの駆動方法を学習します</p>\n",
    "</div> "
   ]
  },
  {
   "cell_type": "markdown",
   "metadata": {},
   "source": [
    "# 順運動学を用いた動作生成\n",
    "\n",
    "「順運動学」とは、関節の変位からロボットの手先の位置・姿勢を求めることです。アームの各関節角度を指定してHSRを動かしてみましょう。"
   ]
  },
  {
   "cell_type": "markdown",
   "metadata": {},
   "source": [
    "必要なライブラリのインポートと、初期化を行います。"
   ]
  },
  {
   "cell_type": "code",
   "execution_count": null,
   "metadata": {},
   "outputs": [],
   "source": [
    "import math\n",
    "import moveit_commander\n",
    "import rospy\n",
    "import tf\n",
    "from utils import *\n",
    "rospy.init_node(\"arm\")"
   ]
  },
  {
   "cell_type": "markdown",
   "metadata": {},
   "source": [
    "アームとして定義されている各関節の名称を配列として取得します。以降の各コマンドでは、この配列の順序に対応させて各関節値を設定します。\n",
    "\n",
    "ここで`arm`はロボットのアームの関節角を管理する変数です。"
   ]
  },
  {
   "cell_type": "code",
   "execution_count": null,
   "metadata": {},
   "outputs": [],
   "source": [
    "arm.get_active_joints()"
   ]
  },
  {
   "cell_type": "markdown",
   "metadata": {},
   "source": [
    "各関節に対応するリンクがロボットのどの位置にあるか確認しましょう。\n",
    "\n",
    "rvizを立ち上げて、「TF」を展開して「Frames」から興味のあるリンク名にチェックを入れてその位置を確認しましょう。"
   ]
  },
  {
   "cell_type": "code",
   "execution_count": null,
   "metadata": {},
   "outputs": [],
   "source": [
    "%%script bash --bg\n",
    "rviz -d data/4_arm.rviz > /dev/null 2>&1"
   ]
  },
  {
   "cell_type": "markdown",
   "metadata": {},
   "source": [
    "![title](./imgs/4_model_and_tf.png)\n",
    "\n",
    "各座標は赤緑青(RGB)の順番でx軸、y軸、z軸を表しています。"
   ]
  },
  {
   "cell_type": "markdown",
   "metadata": {},
   "source": [
    "各関節角の現在値を取得します。関節角度の単位はラジアンで返ってきます。"
   ]
  },
  {
   "cell_type": "code",
   "execution_count": null,
   "metadata": {},
   "outputs": [],
   "source": [
    "arm.get_current_joint_values()"
   ]
  },
  {
   "cell_type": "markdown",
   "metadata": {},
   "source": [
    "試しに指定した関節値にアームを駆動してみます。\n",
    "\n",
    "まずは、目標の関節値を設定します。"
   ]
  },
  {
   "cell_type": "code",
   "execution_count": null,
   "metadata": {},
   "outputs": [],
   "source": [
    "arm.set_joint_value_target([0, 0, 0, 0, 0, 0])"
   ]
  },
  {
   "cell_type": "markdown",
   "metadata": {},
   "source": [
    "目標を設定後「go()」コマンドを実行することで、アームが動きます。"
   ]
  },
  {
   "cell_type": "code",
   "execution_count": null,
   "metadata": {},
   "outputs": [],
   "source": [
    "arm.go()"
   ]
  },
  {
   "cell_type": "markdown",
   "metadata": {},
   "source": [
    "例えば、以下のように設定すると昇降軸を動作させることができます。"
   ]
  },
  {
   "cell_type": "code",
   "execution_count": null,
   "metadata": {},
   "outputs": [],
   "source": [
    "arm.set_joint_value_target([0.5, 0, 0, 0, 0, 0])\n",
    "arm.go()"
   ]
  },
  {
   "cell_type": "markdown",
   "metadata": {},
   "source": [
    "<div class=\"alert alert-block alert-info\">\n",
    "    <b>課題</b>\n",
    "    <p>「モノを拾う」アームの動きを作ってみましょう。</p>\n",
    "</div> "
   ]
  },
  {
   "cell_type": "code",
   "execution_count": null,
   "metadata": {},
   "outputs": [],
   "source": [
    "# 自分で考えてみましょう。この下に入力できます。\n"
   ]
  },
  {
   "cell_type": "markdown",
   "metadata": {},
   "source": [
    "# 逆運動学を用いた動作生成\n",
    "\n",
    "アームの各関節を設定して動きを作るのは案外大変です。「逆運動学」を使うと手先の目標座標から各関節に設定すべき角度を自動で算出することができます。"
   ]
  },
  {
   "cell_type": "markdown",
   "metadata": {},
   "source": [
    "「順運動学を用いた動作生成」では、HSRのアームのみを動かしていました。しかし、アームだけでは遠くの物を掴めないなどの問題があります。\n",
    "\n",
    "HSRはモバイルマニピュレータと呼ばれ、台車の上にアームが搭載されています。以降は、台車とアームを用いた全身の制御を行います。"
   ]
  },
  {
   "cell_type": "markdown",
   "metadata": {},
   "source": [
    "ロボットの手先(エンドエフェクタ)の名前を確認します。アームの先にあるハンドのリンクが設定されているはずです+。\n",
    "\n",
    "ここで`whole_body`はロボットの頭を除く全関節角を管理する変数です。"
   ]
  },
  {
   "cell_type": "code",
   "execution_count": null,
   "metadata": {},
   "outputs": [],
   "source": [
    "whole_body.get_end_effector_link()"
   ]
  },
  {
   "cell_type": "markdown",
   "metadata": {},
   "source": [
    "## 各関節情報の確認"
   ]
  },
  {
   "cell_type": "markdown",
   "metadata": {},
   "source": [
    "ロボットの各関節の角度は、現在、以下の値になっています。"
   ]
  },
  {
   "cell_type": "code",
   "execution_count": null,
   "metadata": {},
   "outputs": [],
   "source": [
    "whole_body.get_current_joint_values()"
   ]
  },
  {
   "cell_type": "markdown",
   "metadata": {},
   "source": [
    "上記の関節角度は、以下の各関節名に対応します。"
   ]
  },
  {
   "cell_type": "code",
   "execution_count": null,
   "metadata": {},
   "outputs": [],
   "source": [
    "whole_body.get_joints()"
   ]
  },
  {
   "cell_type": "markdown",
   "metadata": {},
   "source": [
    "ここで、ロボットの構造は既知なので、ロボットの構造に現在の各関節角度を当てはめ、座標変換を繰り返せばロボットの手先座標を計算できます。"
   ]
  },
  {
   "cell_type": "markdown",
   "metadata": {},
   "source": [
    "HSRの構造情報を表示させてみましょう。\n",
    "\n",
    "リンクの親子関係と、その相対座標を表示した画像が得られます。四角形で表されているのがリンクで、円で表されているのが関節です。\n",
    "\n",
    "大きな画像なので、スクロールして閲覧してください。"
   ]
  },
  {
   "cell_type": "code",
   "execution_count": null,
   "metadata": {},
   "outputs": [],
   "source": [
    "!rosparam get -p /robot_description > /tmp/robot.urdf\n",
    "!urdf_to_graphiz /tmp/robot.urdf && dot -T png hsrb.gv -o /tmp/robot.png\n",
    "from IPython.display import Image\n",
    "with open('/tmp/robot.png','rb') as file:\n",
    "    display(Image(data=file.read(), unconfined=True))"
   ]
  },
  {
   "cell_type": "markdown",
   "metadata": {},
   "source": [
    "以下のコマンドを実行することで、順運動学によって計算されたエンドエフェクタ('hand_palm_link')の位置姿勢を知ることができます。"
   ]
  },
  {
   "cell_type": "code",
   "execution_count": null,
   "metadata": {},
   "outputs": [],
   "source": [
    "get_relative_coordinate(\"map\", \"hand_palm_link\")"
   ]
  },
  {
   "cell_type": "markdown",
   "metadata": {},
   "source": [
    "手先座標は、3次元の位置と四元数（quaternion）による姿勢で表現されています。四元数の詳細が気になる方は調べてみてください。"
   ]
  },
  {
   "cell_type": "markdown",
   "metadata": {},
   "source": [
    "## 逆運動学の計算"
   ]
  },
  {
   "cell_type": "markdown",
   "metadata": {},
   "source": [
    "目標とする手先座標を与えられた時に、そこからアームの各関節角を逆算することを「逆運動学を解く」と言います。\n",
    "\n",
    "まずは目標の手先座標を設定します。「map」という座標を基準にして、位置：(x,y,z)=(0.2,0.4,1.0)、姿勢：(roll, pitch, yaw)=(180, 90, 0)をエンドエフェクタの目標値としています。\n",
    "\n",
    "ここで姿勢はx軸, y軸, z軸の順番でroll, pitch, yawの値で回転させ、その値を四元数に変換しています。"
   ]
  },
  {
   "cell_type": "code",
   "execution_count": null,
   "metadata": {},
   "outputs": [],
   "source": [
    "from geometry_msgs.msg import PoseStamped\n",
    "\n",
    "p = PoseStamped()\n",
    "\n",
    "# 基準座標を設定\n",
    "p.header.frame_id = \"/map\"\n",
    "\n",
    "# 位置を設定\n",
    "p.pose.position.x = 0.2\n",
    "p.pose.position.y = 0.4\n",
    "p.pose.position.z = 1.0\n",
    "\n",
    "# ロール、ピッチ、ヨーの順番で回転し、クオータニオンに変換\n",
    "p.pose.orientation = quaternion_from_euler(180, 90, 0)\n",
    "\n",
    "# 目標位置姿勢をセット\n",
    "whole_body.set_pose_target(p)"
   ]
  },
  {
   "cell_type": "markdown",
   "metadata": {},
   "source": [
    "目標を設定後、以下を実行すると、逆運動学の計算が始まります。\n",
    "\n",
    "計算が成功すると算出された軌道が返ってきます。`plan`には、各時間ごとの全関節角の目標値の情報(時間軌道と呼びます)が詰まっています。\n",
    "\n",
    "逆運動学の解が得られなかった場合（目標の手先座標の設定が適切でなかった場合）は、長さゼロの配列が返ってきますので、目標を修正して再計算してください。"
   ]
  },
  {
   "cell_type": "code",
   "execution_count": null,
   "metadata": {
    "scrolled": true
   },
   "outputs": [],
   "source": [
    "plan = whole_body.plan()\n",
    "plan"
   ]
  },
  {
   "cell_type": "markdown",
   "metadata": {},
   "source": [
    "算出された時間軌道を実際に実行します。\n",
    "\n",
    "生成された軌道を引数として与えて以下を実行することで、アームが逆運動学の計算結果に従って動きます。"
   ]
  },
  {
   "cell_type": "code",
   "execution_count": null,
   "metadata": {},
   "outputs": [],
   "source": [
    "whole_body.execute(plan)"
   ]
  },
  {
   "cell_type": "markdown",
   "metadata": {},
   "source": [
    "「TF」を展開して、「Frames」の中の「map」と「hand_palm_link」を表示させてみましょう。\n",
    "\n",
    "エンドエフェクタが目標の位置姿勢になっていることを確認しましょう。\n",
    "\n",
    "![title](./imgs/4_map_ee_tf.png)"
   ]
  },
  {
   "cell_type": "markdown",
   "metadata": {},
   "source": [
    "<div class=\"alert alert-block alert-info\">\n",
    "    <b>課題</b>\n",
    "    <p>エンドエフェクタの目標位置姿勢を変えて、ロボットを動かしてみましょう。</p>\n",
    "</div>"
   ]
  },
  {
   "cell_type": "code",
   "execution_count": null,
   "metadata": {},
   "outputs": [],
   "source": [
    "# 自分で考えてみましょう。この下に入力できます。\n"
   ]
  },
  {
   "cell_type": "markdown",
   "metadata": {},
   "source": [
    "# レゴブロックを拾ってみる"
   ]
  },
  {
   "cell_type": "markdown",
   "metadata": {},
   "source": [
    "上記の処理をまとめたmove_wholebody_ikという関数を用いてみましょう。引数は3次元位置と手先の回転角度です。\n",
    "\n",
    "```python\n",
    "import moveit_commander\n",
    "from geometry_msgs.msg import PoseStamped\n",
    "\n",
    "# moveitでの制御対象として全身制御を指定\n",
    "whole_body = moveit_commander.MoveGroupCommander(\"whole_body_light\")\n",
    "whole_body.allow_replanning(True)\n",
    "whole_body.set_workspace([-3.0, -3.0, 3.0, 3.0])\n",
    "\n",
    "def move_wholebody_ik(x, y, z, roll, pitch, yaw):\n",
    "    u\"\"\"ロボットを全身の逆運動学で制御する関数\n",
    "\n",
    "    引数：\n",
    "        x (float): エンドエフェクタの目標x値 [m]\n",
    "        y (float): エンドエフェクタの目標y値 [m]\n",
    "        z (float): エンドエフェクタの目標z値 [m]\n",
    "        roll (float): エンドエフェクタの目標roll値 [deg]\n",
    "        pitch (float): エンドエフェクタの目標pitch値 [deg]\n",
    "        yaw (float): エンドエフェクタの目標yaw値 [deg]\n",
    "\n",
    "    返り値:\n",
    "        正しく動作すればTrue, そうでなければFalse\n",
    "\n",
    "    \"\"\"\n",
    "\n",
    "    p = PoseStamped()\n",
    "\n",
    "    # \"map\"座標を基準座標に指定\n",
    "    p.header.frame_id = \"/map\"\n",
    "\n",
    "    # エンドエフェクタの目標位置姿勢のx,y,z座標をセットします\n",
    "    p.pose.position.x = x\n",
    "    p.pose.position.y = y\n",
    "    p.pose.position.z = z\n",
    "\n",
    "    # おリラー角をクオータニオンに変換します\n",
    "    p.pose.orientation = quaternion_from_euler(roll, pitch, yaw)\n",
    "\n",
    "    # 目標位置姿勢をセット\n",
    "    whole_body.set_pose_target(p)\n",
    "    return whole_body.go()\n",
    "\n",
    "```\n",
    "\n",
    "関数内でオイラー角から四元数に変換することで、人間が理解しやすいオイラー角によって手先の方向を設定できるようにしています。\n",
    "\n",
    "例えば、上から物を掴みたい時は(roll, pitch, yaw) = (180,0,手先の回転角度)、横からは(180,90,手先の回転角度)というように設定すれば良いです。"
   ]
  },
  {
   "cell_type": "markdown",
   "metadata": {},
   "source": [
    "シミュレータ内に物体を出現させて、HSRに拾わせてみましょう。以下のコマンドでどのような物体があるか表示します。"
   ]
  },
  {
   "cell_type": "code",
   "execution_count": null,
   "metadata": {},
   "outputs": [],
   "source": [
    "get_object_list()"
   ]
  },
  {
   "cell_type": "markdown",
   "metadata": {},
   "source": [
    "今回は、レゴブロック「e_lego_duplo」をHSRの前方0.4mの位置に出現させます。"
   ]
  },
  {
   "cell_type": "code",
   "execution_count": null,
   "metadata": {},
   "outputs": [],
   "source": [
    "# レゴブロックを(x, y, z) = (0.4, 0.0, 0.0)の位置に出現させる\n",
    "put_object(\"e_lego_duplo\", 0.4, 0.0, 0.0)"
   ]
  },
  {
   "cell_type": "markdown",
   "metadata": {},
   "source": [
    "ハンドを最大角度まで開きます。"
   ]
  },
  {
   "cell_type": "code",
   "execution_count": null,
   "metadata": {},
   "outputs": [],
   "source": [
    "# 引数として1.0を与えると開き、0.0を与えると閉じる\n",
    "move_hand(1.0)"
   ]
  },
  {
   "cell_type": "markdown",
   "metadata": {},
   "source": [
    "逆運動学を使ってHSRの手先を前方0.4mの位置に動かします。"
   ]
  },
  {
   "cell_type": "code",
   "execution_count": null,
   "metadata": {
    "scrolled": true
   },
   "outputs": [],
   "source": [
    "move_wholebody_ik(0.45, -0.05, 0.1, 180, 0, 0)"
   ]
  },
  {
   "cell_type": "markdown",
   "metadata": {},
   "source": [
    "ハンドを閉じます。"
   ]
  },
  {
   "cell_type": "code",
   "execution_count": null,
   "metadata": {},
   "outputs": [],
   "source": [
    "move_hand(0.0)"
   ]
  },
  {
   "cell_type": "markdown",
   "metadata": {},
   "source": [
    "アームを初期姿勢に戻します。"
   ]
  },
  {
   "cell_type": "code",
   "execution_count": null,
   "metadata": {},
   "outputs": [],
   "source": [
    "move_arm_init()"
   ]
  },
  {
   "cell_type": "markdown",
   "metadata": {},
   "source": [
    "レゴブロックを取るのに失敗した場合、以下のコマンドでレゴブロックを消して、再度出現させると元の取りやすい位置に戻ります。再挑戦してみましょう。"
   ]
  },
  {
   "cell_type": "code",
   "execution_count": null,
   "metadata": {},
   "outputs": [],
   "source": [
    "delete_object(\"e_lego_duplo\")"
   ]
  },
  {
   "cell_type": "markdown",
   "metadata": {},
   "source": [
    "<div class=\"alert alert-block alert-info\">\n",
    "    <b>課題</b>\n",
    "    <p>カンを机の上に場所に出現させて、同様にカンを拾うプログラムを書いてみましょう。</p>\n",
    "    <p>下のコマンドでカンを出現させたり、消したりすることができます。</p>\n",
    "</div>"
   ]
  },
  {
   "cell_type": "code",
   "execution_count": null,
   "metadata": {},
   "outputs": [],
   "source": [
    "put_object(\"tomato_soup_can\", 1.1, 1.65, 0.45)"
   ]
  },
  {
   "cell_type": "code",
   "execution_count": null,
   "metadata": {},
   "outputs": [],
   "source": [
    "delete_objecta(\"tomato_soup_can\")"
   ]
  },
  {
   "cell_type": "code",
   "execution_count": null,
   "metadata": {},
   "outputs": [],
   "source": [
    "# 自分で考えてみましょう。この下に入力できます。\n"
   ]
  },
  {
   "cell_type": "markdown",
   "metadata": {},
   "source": [
    "<div class=\"alert alert-block alert-info\">\n",
    "    <b>次の学習</b>\n",
    "    <p>この章では物体の位置を人間が教えてあげていました。</p>\n",
    "    <p>次章ではカメラ画像から物体を認識し、自動で物体を拾うプログラムを書いてみましょう。</p>\n",
    "</div>"
   ]
  },
  {
   "cell_type": "code",
   "execution_count": null,
   "metadata": {},
   "outputs": [],
   "source": []
  }
 ],
 "metadata": {
  "kernelspec": {
   "display_name": "Python 2",
   "language": "python",
   "name": "python2"
  },
  "language_info": {
   "codemirror_mode": {
    "name": "ipython",
    "version": 2
   },
   "file_extension": ".py",
   "mimetype": "text/x-python",
   "name": "python",
   "nbconvert_exporter": "python",
   "pygments_lexer": "ipython2",
   "version": "2.7.12"
  }
 },
 "nbformat": 4,
 "nbformat_minor": 2
}
