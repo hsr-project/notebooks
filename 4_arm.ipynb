{
 "cells": [
  {
   "cell_type": "markdown",
   "metadata": {
    "lang": "ja"
   },
   "source": [
    "# 順運動学、逆運動学を用いた動作生成\n",
    "\n",
    "<div class=\"alert alert-block alert-info\">\n",
    "    <b>この章の目的</b>\n",
    "    <p>順運動学、逆運動学を使ったHSRのアームの駆動方法を学習します</p>\n",
    "</div> "
   ]
  },
  {
   "cell_type": "markdown",
   "metadata": {
    "lang": "en"
   },
   "source": [
    "# Motion generation using forward and inverse kinematics\n",
    "\n",
    "<div class=\"alert alert-block alert-info\">\n",
    "    <b>Objective</b>\n",
    "    <p>In this notebook, we will learn how to control the arm of the HSR using forward and inverse kinematics.</p>\n",
    "</div>"
   ]
  },
  {
   "cell_type": "markdown",
   "metadata": {
    "lang": "ja"
   },
   "source": [
    "# 順運動学を用いた動作生成\n",
    "\n",
    "「順運動学」とは、関節の変位からロボットの手先の位置・姿勢を求めることです。アームの各関節角度を指定してHSRを動かしてみましょう。"
   ]
  },
  {
   "cell_type": "markdown",
   "metadata": {
    "lang": "en"
   },
   "source": [
    "# Motion generation using forward kinematics\n",
    "\n",
    "\"Forward kinematics\" is used to find the position and orientation of the robot's hand from the displacement of the joints. Let's move the arm of the HSR by specifying the joint angles."
   ]
  },
  {
   "cell_type": "markdown",
   "metadata": {
    "lang": "ja"
   },
   "source": [
    "必要なライブラリのインポートと、初期化を行います。"
   ]
  },
  {
   "cell_type": "markdown",
   "metadata": {
    "lang": "en"
   },
   "source": [
    "Import and initialize the required libraries:"
   ]
  },
  {
   "cell_type": "code",
   "execution_count": null,
   "metadata": {},
   "outputs": [],
   "source": [
    "import math\n",
    "import moveit_commander\n",
    "import rospy\n",
    "import tf\n",
    "from utils import *\n",
    "rospy.init_node(\"arm\")"
   ]
  },
  {
   "cell_type": "markdown",
   "metadata": {
    "lang": "ja"
   },
   "source": [
    "アームとして定義されている各関節の名称を配列として取得します。以降の各コマンドでは、この配列の順序に対応させて各関節値を設定します。\n",
    "\n",
    "ここで`arm`はロボットのアームの関節角を管理する変数です。"
   ]
  },
  {
   "cell_type": "markdown",
   "metadata": {
    "lang": "en"
   },
   "source": [
    "Get the name of the joints defined as the arm group as an array. The subsequent commands set joint values according to the order of this array.\n",
    "\n",
    "Here, `arm` is a variable that handles the robot arm:"
   ]
  },
  {
   "cell_type": "code",
   "execution_count": null,
   "metadata": {},
   "outputs": [],
   "source": [
    "arm.get_active_joints()"
   ]
  },
  {
   "cell_type": "markdown",
   "metadata": {
    "lang": "ja"
   },
   "source": [
    "各関節に対応するリンクがロボットのどの位置にあるか確認しましょう。\n",
    "\n",
    "rvizを立ち上げて、「TF」を展開して「Frames」から興味のあるリンク名にチェックを入れてその位置を確認しましょう。"
   ]
  },
  {
   "cell_type": "markdown",
   "metadata": {
    "lang": "en"
   },
   "source": [
    "Let's check the names of the joints on the robot.\n",
    "\n",
    "Launch RViz, expand \"TF\", check the link name you are interested in from \"Frames\" item, and check its location."
   ]
  },
  {
   "cell_type": "code",
   "execution_count": null,
   "metadata": {},
   "outputs": [],
   "source": [
    "%%script bash --bg\n",
    "rviz -d data/4_arm.rviz > /dev/null 2>&1"
   ]
  },
  {
   "cell_type": "markdown",
   "metadata": {
    "lang": "ja"
   },
   "source": [
    "![title](./imgs/4_model_and_tf.png)\n",
    "\n",
    "各座標は赤緑青(RGB)の順番でx軸、y軸、z軸を表しています。"
   ]
  },
  {
   "cell_type": "markdown",
   "metadata": {
    "lang": "en"
   },
   "source": [
    "![title](./imgs/4_model_and_tf.png)\n",
    "\n",
    "Each coordinate represents the x-axis, y-axis, and z-axis in the order of red, green, and blue."
   ]
  },
  {
   "cell_type": "markdown",
   "metadata": {
    "lang": "ja"
   },
   "source": [
    "各関節角の現在値を取得します。関節角度の単位はラジアンで返ってきます。"
   ]
  },
  {
   "cell_type": "markdown",
   "metadata": {
    "lang": "en"
   },
   "source": [
    "Let's get the current value of each joint angle. Joint angles are returned as radians:"
   ]
  },
  {
   "cell_type": "code",
   "execution_count": null,
   "metadata": {},
   "outputs": [],
   "source": [
    "arm.get_current_joint_values()"
   ]
  },
  {
   "cell_type": "markdown",
   "metadata": {
    "lang": "ja"
   },
   "source": [
    "試しに指定した関節値にアームを駆動してみます。\n",
    "\n",
    "まずは、目標の関節値を設定します。"
   ]
  },
  {
   "cell_type": "markdown",
   "metadata": {
    "lang": "en"
   },
   "source": [
    "Try moving the arm to the joint value specified.\n",
    "\n",
    "First, set the target joint values:"
   ]
  },
  {
   "cell_type": "code",
   "execution_count": null,
   "metadata": {},
   "outputs": [],
   "source": [
    "arm.set_joint_value_target([0, 0, 0, 0, 0, 0])"
   ]
  },
  {
   "cell_type": "markdown",
   "metadata": {
    "lang": "ja"
   },
   "source": [
    "目標を設定後「go()」コマンドを実行することで、アームが動きます。"
   ]
  },
  {
   "cell_type": "markdown",
   "metadata": {
    "lang": "en"
   },
   "source": [
    "After setting the target, execute the \"go()\" command to move the arm:"
   ]
  },
  {
   "cell_type": "code",
   "execution_count": null,
   "metadata": {},
   "outputs": [],
   "source": [
    "arm.go()"
   ]
  },
  {
   "cell_type": "markdown",
   "metadata": {
    "lang": "ja"
   },
   "source": [
    "例えば、以下のように設定すると昇降軸を動作させることができます。"
   ]
  },
  {
   "cell_type": "markdown",
   "metadata": {
    "lang": "en"
   },
   "source": [
    "For example, you can extend the lifting axis by sending the command as follows:"
   ]
  },
  {
   "cell_type": "code",
   "execution_count": null,
   "metadata": {},
   "outputs": [],
   "source": [
    "arm.set_joint_value_target([0.5, 0, 0, 0, 0, 0])\n",
    "arm.go()"
   ]
  },
  {
   "cell_type": "markdown",
   "metadata": {
    "lang": "ja"
   },
   "source": [
    "<div class=\"alert alert-block alert-info\">\n",
    "    <b>課題</b>\n",
    "    <p>「モノを拾う」アームの動きを作ってみましょう。</p>\n",
    "</div> "
   ]
  },
  {
   "cell_type": "markdown",
   "metadata": {
    "lang": "en"
   },
   "source": [
    "<div class=\"alert alert-block alert-info\">\n",
    "    <b>Task</b>\n",
    "    <p>Create an arm motion to \"pick up an object\".</p>\n",
    "</div>"
   ]
  },
  {
   "cell_type": "code",
   "execution_count": null,
   "metadata": {},
   "outputs": [],
   "source": [
    "# 自分で考えてみましょう。この下に入力できます。 Write your code here:\n"
   ]
  },
  {
   "cell_type": "markdown",
   "metadata": {
    "lang": "ja"
   },
   "source": [
    "# 逆運動学を用いた動作生成\n",
    "\n",
    "アームの各関節を設定して動きを作るのは案外大変です。「逆運動学」を使うと手先の目標座標から各関節に設定すべき角度を自動で算出することができます。"
   ]
  },
  {
   "cell_type": "markdown",
   "metadata": {
    "lang": "en"
   },
   "source": [
    "# Motion generation using inverse kinematics\n",
    "\n",
    "You probably understand that it is unexpectedly difficult to set joint values of the arm to make a desired movement. By using \"Inverse Kinematics\", we can set the angle of the joints automatically by setting the target position of the hand."
   ]
  },
  {
   "cell_type": "markdown",
   "metadata": {
    "lang": "ja"
   },
   "source": [
    "「順運動学を用いた動作生成」では、HSRのアームのみを動かしていました。しかし、アームだけでは遠くの物を掴めないなどの問題があります。\n",
    "\n",
    "HSRはモバイルマニピュレータと呼ばれ、台車の上にアームが搭載されています。以降は、台車とアームを用いた全身の制御を行います。"
   ]
  },
  {
   "cell_type": "markdown",
   "metadata": {
    "lang": "en"
   },
   "source": [
    "In addition, in \"Motion generation using forward kinematics\", only the HSR arm was used. However,  we cannot grab distant objects by moving the arm alone.\n",
    "\n",
    "The HSR is a \"mobile manipulator\" that has the arm mounted on the moving base. We will show the combined control using the moving base and the arm from now on."
   ]
  },
  {
   "cell_type": "markdown",
   "metadata": {
    "lang": "ja"
   },
   "source": [
    "ロボットの手先(エンドエフェクタ)の名前を確認します。アームの先にあるハンドのリンクが設定されているはずです+。\n",
    "\n",
    "ここで`whole_body`はロボットの頭を除く全関節角を管理する変数です。"
   ]
  },
  {
   "cell_type": "markdown",
   "metadata": {
    "lang": "en"
   },
   "source": [
    "Check the name of the robot's fingers (=end effectors). The hand link at the end of the arm should be set.\n",
    "\n",
    "Here, `whole_body` is a variable that handles all joint angles of the robot except for the head."
   ]
  },
  {
   "cell_type": "code",
   "execution_count": null,
   "metadata": {},
   "outputs": [],
   "source": [
    "whole_body.get_end_effector_link()"
   ]
  },
  {
   "cell_type": "markdown",
   "metadata": {
    "lang": "ja"
   },
   "source": [
    "## 各関節情報の確認"
   ]
  },
  {
   "cell_type": "markdown",
   "metadata": {
    "lang": "en"
   },
   "source": [
    "## Checking joint information"
   ]
  },
  {
   "cell_type": "markdown",
   "metadata": {
    "lang": "ja"
   },
   "source": [
    "ロボットの各関節の角度は、現在、以下の値になっています。"
   ]
  },
  {
   "cell_type": "markdown",
   "metadata": {
    "lang": "en"
   },
   "source": [
    "The angles of the joints of the robot are currently set to the following values:"
   ]
  },
  {
   "cell_type": "code",
   "execution_count": null,
   "metadata": {},
   "outputs": [],
   "source": [
    "whole_body.get_current_joint_values()"
   ]
  },
  {
   "cell_type": "markdown",
   "metadata": {
    "lang": "ja"
   },
   "source": [
    "上記の関節角度は、以下の各関節名に対応します。"
   ]
  },
  {
   "cell_type": "markdown",
   "metadata": {
    "lang": "en"
   },
   "source": [
    "The above joint angles correspond to each of the following joint names:"
   ]
  },
  {
   "cell_type": "code",
   "execution_count": null,
   "metadata": {},
   "outputs": [],
   "source": [
    "whole_body.get_joints()"
   ]
  },
  {
   "cell_type": "markdown",
   "metadata": {
    "lang": "ja"
   },
   "source": [
    "ここで、ロボットの構造は既知なので、ロボットの構造に現在の各関節角度を当てはめ、座標変換を繰り返せばロボットの手先座標を計算できます。"
   ]
  },
  {
   "cell_type": "markdown",
   "metadata": {
    "lang": "en"
   },
   "source": [
    "Here, since the structure of the robot is known, the position of the robot's hand can be calculated by applying each current joint angle to the structure of the robot and repeating the coordinate transformations."
   ]
  },
  {
   "cell_type": "markdown",
   "metadata": {
    "lang": "ja"
   },
   "source": [
    "HSRの構造情報を表示させてみましょう。\n",
    "\n",
    "リンクの親子関係と、その相対座標を表示した画像が得られます。四角形で表されているのがリンクで、円で表されているのが関節です。\n",
    "\n",
    "大きな画像なので、スクロールして閲覧してください。"
   ]
  },
  {
   "cell_type": "markdown",
   "metadata": {
    "lang": "en"
   },
   "source": [
    "Let's display the HSR's structural information.\n",
    "\n",
    "You can get an image showing the parent-child relationship of the link and its relative coordinates. The links are represented by squares, and the joints are represented by circles.\n",
    "\n",
    "Since it is a large image, please scroll to view it:"
   ]
  },
  {
   "cell_type": "code",
   "execution_count": null,
   "metadata": {},
   "outputs": [],
   "source": [
    "!rosparam get -p /robot_description > /tmp/robot.urdf\n",
    "!urdf_to_graphiz /tmp/robot.urdf && dot -T png hsrb.gv -o /tmp/robot.png\n",
    "from IPython.display import Image\n",
    "with open('/tmp/robot.png','rb') as file:\n",
    "    display(Image(data=file.read(), unconfined=True))"
   ]
  },
  {
   "cell_type": "markdown",
   "metadata": {
    "lang": "ja"
   },
   "source": [
    "以下のコマンドを実行することで、順運動学によって計算されたエンドエフェクタ('hand_palm_link')の位置姿勢を知ることができます。"
   ]
  },
  {
   "cell_type": "markdown",
   "metadata": {
    "lang": "en"
   },
   "source": [
    "By executing the following command, you can calculate the position and orientation of the end effector ('hand_palm_link') calculated using forward kinematics:"
   ]
  },
  {
   "cell_type": "code",
   "execution_count": null,
   "metadata": {},
   "outputs": [],
   "source": [
    "get_relative_coordinate(\"map\", \"hand_palm_link\")"
   ]
  },
  {
   "cell_type": "markdown",
   "metadata": {
    "lang": "ja"
   },
   "source": [
    "手先座標は、3次元の位置と四元数（quaternion）による姿勢で表現されています。四元数の詳細が気になる方は調べてみてください。"
   ]
  },
  {
   "cell_type": "markdown",
   "metadata": {
    "lang": "en"
   },
   "source": [
    "The hand coordinates are represented by a 3D position and a quaternion. Please search on the internet, if you are interested in details about \"quaternions\"."
   ]
  },
  {
   "cell_type": "markdown",
   "metadata": {
    "lang": "ja"
   },
   "source": [
    "## 逆運動学の計算"
   ]
  },
  {
   "cell_type": "markdown",
   "metadata": {
    "lang": "en"
   },
   "source": [
    "## Inverse kinematics calculations"
   ]
  },
  {
   "cell_type": "markdown",
   "metadata": {
    "lang": "ja"
   },
   "source": [
    "目標とする手先座標を与えられた時に、そこからアームの各関節角を逆算することを「逆運動学を解く」と言います。\n",
    "\n",
    "まずは目標の手先座標を設定します。「map」という座標を基準にして、位置：(x,y,z)=(0.2,0.4,1.0)、姿勢：(roll, pitch, yaw)=(180, 90, 0)をエンドエフェクタの目標値としています。\n",
    "\n",
    "ここで姿勢はx軸, y軸, z軸の順番でroll, pitch, yawの値で回転させ、その値を四元数に変換しています。"
   ]
  },
  {
   "cell_type": "markdown",
   "metadata": {
    "lang": "en"
   },
   "source": [
    "Given the target coordinates of the hand, calculating joint angles of the arm is called \"solving inverse kinematics\".\n",
    "\n",
    "First, set the target coordinates. The target of the end effector is \"position: (x, y, z)=(0.2,0.4,1.0)\" and \"orientation: (roll, pitch, yaw)=(180, 90, 0)\" on the base coordinate \"map\".\n",
    "\n",
    "Here, the posture is rotated by roll, pitch and yaw in the order of x-axis, y-axis and z-axis. The values are converted into quaternion:"
   ]
  },
  {
   "cell_type": "code",
   "execution_count": null,
   "metadata": {},
   "outputs": [],
   "source": [
    "from geometry_msgs.msg import PoseStamped\n",
    "\n",
    "p = PoseStamped()\n",
    "\n",
    "# 基準座標を設定 Set the base coordinate\n",
    "p.header.frame_id = \"map\"\n",
    "\n",
    "# 位置を設定 Set target position\n",
    "p.pose.position.x = 0.2\n",
    "p.pose.position.y = 0.4\n",
    "p.pose.position.z = 1.0\n",
    "\n",
    "# ロール、ピッチ、ヨーの順番で回転し、クオータニオンに変換 Convert Euler to Quaternion\n",
    "p.pose.orientation = quaternion_from_euler(180, 90, 0)\n",
    "\n",
    "# 目標位置姿勢をセット Set position and orientation target\n",
    "whole_body.set_pose_target(p)"
   ]
  },
  {
   "cell_type": "markdown",
   "metadata": {
    "lang": "ja"
   },
   "source": [
    "目標を設定後、以下を実行すると、逆運動学の計算が始まります。\n",
    "\n",
    "計算が成功すると算出された軌道が返ってきます。`plan`には、各時間ごとの全関節角の目標値の情報(時間軌道と呼びます)が詰まっています。\n",
    "\n",
    "逆運動学の解が得られなかった場合（目標の手先座標の設定が適切でなかった場合）は、長さゼロの配列が返ってきますので、目標を修正して再計算してください。"
   ]
  },
  {
   "cell_type": "markdown",
   "metadata": {
    "lang": "en"
   },
   "source": [
    "After setting the target, we will start the inverse kinematics calculation.\n",
    "\n",
    "If the calculation is successful, the calculated trajectory will be returned. Variable `plan` stores the information on the target values of all joint angles for each time (called \"time trajectory\").\n",
    "\n",
    "If the inverse kinematics solution is not obtained (if the target hand coordinates are not set properly), an array of zero length will be returned. Please correct the target position and recalculate in such a case:"
   ]
  },
  {
   "cell_type": "code",
   "execution_count": null,
   "metadata": {
    "scrolled": true
   },
   "outputs": [],
   "source": [
    "plan = whole_body.plan()\n",
    "plan"
   ]
  },
  {
   "cell_type": "markdown",
   "metadata": {
    "lang": "ja"
   },
   "source": [
    "算出された時間軌道を実際に実行します。\n",
    "\n",
    "生成された軌道を引数として与えて以下を実行することで、アームが逆運動学の計算結果に従って動きます。"
   ]
  },
  {
   "cell_type": "markdown",
   "metadata": {
    "lang": "en"
   },
   "source": [
    "We actually execute the calculated time trajectory.\n",
    "\n",
    "The arm moves according to the calculation result of inverse kinematics by giving the generated trajectory as an argument to the  `execute()` function:"
   ]
  },
  {
   "cell_type": "code",
   "execution_count": null,
   "metadata": {},
   "outputs": [],
   "source": [
    "whole_body.execute(plan)"
   ]
  },
  {
   "cell_type": "markdown",
   "metadata": {
    "lang": "ja"
   },
   "source": [
    "「TF」を展開して、「Frames」の中の「map」と「hand_palm_link」を表示させてみましょう。\n",
    "\n",
    "エンドエフェクタが目標の位置姿勢になっていることを確認しましょう。\n",
    "\n",
    "![title](./imgs/4_map_ee_tf.png)"
   ]
  },
  {
   "cell_type": "markdown",
   "metadata": {
    "lang": "en"
   },
   "source": [
    "Expand \"TF\" to display \"map\" and \"hand_palm_link\" in \"Frames\".\n",
    "\n",
    "Confirm that the end effector is in the target position and orientation.\n",
    "\n",
    "![title](./imgs/4_map_ee_tf.png)"
   ]
  },
  {
   "cell_type": "markdown",
   "metadata": {
    "lang": "ja"
   },
   "source": [
    "<div class=\"alert alert-block alert-info\">\n",
    "    <b>課題</b>\n",
    "    <p>エンドエフェクタの目標位置姿勢を変えて、ロボットを動かしてみましょう。</p>\n",
    "</div>"
   ]
  },
  {
   "cell_type": "markdown",
   "metadata": {
    "lang": "en"
   },
   "source": [
    "<div class=\"alert alert-block alert-info\">\n",
    "    <b>Task</b>\n",
    "    <p>Move the robot by changing the target position of the end effector.</p>\n",
    "</div>"
   ]
  },
  {
   "cell_type": "code",
   "execution_count": null,
   "metadata": {},
   "outputs": [],
   "source": [
    "# 自分で考えてみましょう。この下に入力できます。 Write your code here\n"
   ]
  },
  {
   "cell_type": "markdown",
   "metadata": {
    "lang": "ja"
   },
   "source": [
    "# レゴブロックを拾ってみる"
   ]
  },
  {
   "cell_type": "markdown",
   "metadata": {
    "lang": "en"
   },
   "source": [
    "# Pick up a Lego block"
   ]
  },
  {
   "cell_type": "markdown",
   "metadata": {
    "lang": "ja"
   },
   "source": [
    "上記の処理をまとめたmove_wholebody_ikという関数を用いてみましょう。引数は3次元位置と手先の回転角度です。\n",
    "\n",
    "```python\n",
    "import moveit_commander\n",
    "from geometry_msgs.msg import PoseStamped\n",
    "\n",
    "# moveitでの制御対象として全身制御を指定\n",
    "whole_body = moveit_commander.MoveGroupCommander(\"whole_body_light\")\n",
    "whole_body.allow_replanning(True)\n",
    "whole_body.set_workspace([-3.0, -3.0, 3.0, 3.0])\n",
    "\n",
    "def move_wholebody_ik(x, y, z, roll, pitch, yaw):\n",
    "    u\"\"\"ロボットを全身の逆運動学で制御する関数\n",
    "\n",
    "    引数：\n",
    "        x (float): エンドエフェクタの目標x値 [m]\n",
    "        y (float): エンドエフェクタの目標y値 [m]\n",
    "        z (float): エンドエフェクタの目標z値 [m]\n",
    "        roll (float): エンドエフェクタの目標roll値 [deg]\n",
    "        pitch (float): エンドエフェクタの目標pitch値 [deg]\n",
    "        yaw (float): エンドエフェクタの目標yaw値 [deg]\n",
    "\n",
    "    返り値:\n",
    "        正しく動作すればTrue, そうでなければFalse\n",
    "\n",
    "    \"\"\"\n",
    "\n",
    "    p = PoseStamped()\n",
    "\n",
    "    # \"map\"座標を基準座標に指定\n",
    "    p.header.frame_id = \"/map\"\n",
    "\n",
    "    # エンドエフェクタの目標位置姿勢のx,y,z座標をセットします\n",
    "    p.pose.position.x = x\n",
    "    p.pose.position.y = y\n",
    "    p.pose.position.z = z\n",
    "\n",
    "    # オイラー角をクオータニオンに変換します\n",
    "    p.pose.orientation = quaternion_from_euler(roll, pitch, yaw)\n",
    "\n",
    "    # 目標位置姿勢をセット\n",
    "    whole_body.set_pose_target(p)\n",
    "    return whole_body.go()\n",
    "\n",
    "```\n",
    "\n",
    "関数内でオイラー角から四元数に変換することで、人間が理解しやすいオイラー角によって手先の方向を設定できるようにしています。\n",
    "\n",
    "例えば、上から物を掴みたい時は(roll, pitch, yaw) = (180,0,手先の回転角度)、横からは(180,90,手先の回転角度)というように設定すれば良いです。"
   ]
  },
  {
   "cell_type": "markdown",
   "metadata": {
    "lang": "en"
   },
   "source": [
    "Let's use a function called `move_wholebody_ik` that summarizes the above processing. The arguments are the 3D position and the rotation angle of the hand.\n",
    "\n",
    "```python\n",
    "import moveit_commander\n",
    "from geometry_msgs.msg import PoseStamped\n",
    "\n",
    "# Specify whole body control as the control target of moveit\n",
    "whole_body = moveit_commander.MoveGroupCommander (\"whole_body_light\")\n",
    "whole_body.allow_replanning(True)\n",
    "whole_body.set_workspace ([-3.0, -3.0, 3.0, 3.0])\n",
    "\n",
    "def move_wholebody_ik(x, y, z, roll, pitch, yaw):\n",
    "    u\"\"\"Function that controls the robot by inverse kinematics of the whole body\n",
    "\n",
    "    argument:\n",
    "        x(float): End effector target x value [m]\n",
    "        y(float): End effector target y value [m]\n",
    "        z(float): End effector target z value [m]\n",
    "        roll(float): End effector target roll value [deg]\n",
    "        pitch(float): End effector target pitch value [deg]\n",
    "        yaw(float): End effector target yaw value [deg]\n",
    "\n",
    "    Return value:\n",
    "        True if working correctly, False otherwise\n",
    "    \"\"\"\n",
    "\n",
    "    p = PoseStamped ()\n",
    "\n",
    "    # Specify \"map\" coordinates as base coordinate\n",
    "    p.header.frame_id = \"map\"\n",
    "\n",
    "    # Target position of end effector Set the x, y, z\n",
    "    p.pose.position.x = x\n",
    "    p.pose.position.y = y\n",
    "    p.pose.position.z = z\n",
    "\n",
    "    # Convert euler angle to a quarternion\n",
    "    p.pose.orientation = quaternion_from_euler(roll, pitch, yaw)\n",
    "\n",
    "    # Set target position and posture\n",
    "    whole_body.set_pose_target(p)\n",
    "    return whole_body.go ()\n",
    "`` ```\n",
    "\n",
    "In the function, we convert Euler angles to quaternions. This makes possible to set the direction of the hand by Euler angles that are easy for humans to understand.\n",
    "\n",
    "For example, if you want to grab an object from orientation above, set (roll, pitch, yaw)=(180, 0, hand rotation angle).\n",
    "And from the side (180, 90, hand rotation angle)."
   ]
  },
  {
   "cell_type": "markdown",
   "metadata": {
    "lang": "ja"
   },
   "source": [
    "シミュレータ内に物体を出現させて、HSRに拾わせてみましょう。以下のコマンドでどのような物体があるか表示します。"
   ]
  },
  {
   "cell_type": "markdown",
   "metadata": {
    "lang": "en"
   },
   "source": [
    "Let's make an object appear in the simulator and make the HSR pick it up. The following command will display what kind of objects exist in the current scene:"
   ]
  },
  {
   "cell_type": "code",
   "execution_count": null,
   "metadata": {},
   "outputs": [],
   "source": [
    "get_object_list()"
   ]
  },
  {
   "cell_type": "markdown",
   "metadata": {
    "lang": "ja"
   },
   "source": [
    "今回は、レゴブロック「e_lego_duplo」をHSRの前方0.4mの位置に出現させます。"
   ]
  },
  {
   "cell_type": "markdown",
   "metadata": {
    "lang": "en"
   },
   "source": [
    "This time, we will make the Lego block \"e_lego_duplo\" appear 0.4m in front of the HSR:"
   ]
  },
  {
   "cell_type": "code",
   "execution_count": null,
   "metadata": {},
   "outputs": [],
   "source": [
    "# レゴブロックを(x, y, z) = (0.4, 0.0, 0.0)の位置に出現させる\n",
    "put_object(\"e_lego_duplo\", 0.4, 0.0, 0.0)"
   ]
  },
  {
   "cell_type": "markdown",
   "metadata": {
    "lang": "ja"
   },
   "source": [
    "ハンドを最大角度まで開きます。"
   ]
  },
  {
   "cell_type": "markdown",
   "metadata": {
    "lang": "en"
   },
   "source": [
    "Open the hand to the maximum angle:"
   ]
  },
  {
   "cell_type": "code",
   "execution_count": null,
   "metadata": {},
   "outputs": [],
   "source": [
    "# 引数として1.0を与えると開き、0.0を与えると閉じる\n",
    "move_hand(1.0)"
   ]
  },
  {
   "cell_type": "markdown",
   "metadata": {
    "lang": "ja"
   },
   "source": [
    "逆運動学を使ってHSRの手先を前方0.4mの位置に動かします。"
   ]
  },
  {
   "cell_type": "markdown",
   "metadata": {
    "lang": "en"
   },
   "source": [
    "Use inverse kinematics to move the HSR's end effector to a position 0.4m forward:"
   ]
  },
  {
   "cell_type": "code",
   "execution_count": null,
   "metadata": {
    "scrolled": true
   },
   "outputs": [],
   "source": [
    "move_wholebody_ik(0.45, -0.05, 0.1, 180, 0, 0)"
   ]
  },
  {
   "cell_type": "markdown",
   "metadata": {
    "lang": "ja"
   },
   "source": [
    "ハンドを閉じます。"
   ]
  },
  {
   "cell_type": "markdown",
   "metadata": {
    "lang": "en"
   },
   "source": [
    "Close the hand:"
   ]
  },
  {
   "cell_type": "code",
   "execution_count": null,
   "metadata": {},
   "outputs": [],
   "source": [
    "move_hand(0.0)"
   ]
  },
  {
   "cell_type": "markdown",
   "metadata": {
    "lang": "ja"
   },
   "source": [
    "アームを初期姿勢に戻します。"
   ]
  },
  {
   "cell_type": "markdown",
   "metadata": {
    "lang": "en"
   },
   "source": [
    "Return the arm to its initial position:"
   ]
  },
  {
   "cell_type": "code",
   "execution_count": null,
   "metadata": {},
   "outputs": [],
   "source": [
    "move_arm_init()"
   ]
  },
  {
   "cell_type": "markdown",
   "metadata": {
    "lang": "ja"
   },
   "source": [
    "レゴブロックを取るのに失敗した場合、以下のコマンドでレゴブロックを消して、再度出現させると元の取りやすい位置に戻ります。再挑戦してみましょう。"
   ]
  },
  {
   "cell_type": "markdown",
   "metadata": {
    "lang": "en"
   },
   "source": [
    "If you fail to pick up the Lego block, then delete the Lego block with the following command and make it reappear at the original position from where it is easy to pick it up from:"
   ]
  },
  {
   "cell_type": "code",
   "execution_count": null,
   "metadata": {},
   "outputs": [],
   "source": [
    "delete_object(\"e_lego_duplo\")"
   ]
  },
  {
   "cell_type": "markdown",
   "metadata": {
    "lang": "ja"
   },
   "source": [
    "<div class=\"alert alert-block alert-info\">\n",
    "    <b>課題</b>\n",
    "    <p>カンを机の上に場所に出現させて、同様にカンを拾うプログラムを書いてみましょう。</p>\n",
    "    <p>下のコマンドでカンを出現させたり、消したりすることができます。</p>\n",
    "</div>"
   ]
  },
  {
   "cell_type": "markdown",
   "metadata": {
    "lang": "en"
   },
   "source": [
    "<div class=\"alert alert-block alert-info\">\n",
    "    <b>Task</b>\n",
    "    <p>Spawn a can on the desk and write code to pick up the can.</p>\n",
    "    <p>Use the following commands to spawn and delete the can.</p>\n",
    "</div>"
   ]
  },
  {
   "cell_type": "code",
   "execution_count": null,
   "metadata": {},
   "outputs": [],
   "source": [
    "put_object(\"tomato_soup_can\", 1.1, 1.65, 0.45)"
   ]
  },
  {
   "cell_type": "code",
   "execution_count": null,
   "metadata": {},
   "outputs": [],
   "source": [
    "delete_object(\"tomato_soup_can\")"
   ]
  },
  {
   "cell_type": "code",
   "execution_count": null,
   "metadata": {},
   "outputs": [],
   "source": [
    "# 自分で考えてみましょう。この下に入力できます。 Write your code here:\n"
   ]
  },
  {
   "cell_type": "markdown",
   "metadata": {
    "lang": "ja"
   },
   "source": [
    "<div class=\"alert alert-block alert-info\">\n",
    "    <b>次の学習</b>\n",
    "    <p>この章では物体の位置を人間が教えてあげていました。</p>\n",
    "    <p>次章ではカメラ画像から物体を認識し、自動で物体を拾うプログラムを書いてみましょう。</p>\n",
    "</div>"
   ]
  },
  {
   "cell_type": "markdown",
   "metadata": {
    "lang": "en"
   },
   "source": [
    "<div class=\"alert alert-block alert-info\">\n",
    "    <b>What's next?</b>\n",
    "    <p>In this notebook we taught the robot about the object positions.</p>\n",
    "    <p>In the next notebook, we will learn how to detect an object using the camera image and write code to pick up the object automatically.</p>\n",
    "</div>"
   ]
  },
  {
   "cell_type": "code",
   "execution_count": null,
   "metadata": {},
   "outputs": [],
   "source": []
  }
 ],
 "metadata": {
  "kernelspec": {
   "display_name": "Python 2",
   "language": "python",
   "name": "python2"
  },
  "language_info": {
   "codemirror_mode": {
    "name": "ipython",
    "version": 2
   },
   "file_extension": ".py",
   "mimetype": "text/x-python",
   "name": "python",
   "nbconvert_exporter": "python",
   "pygments_lexer": "ipython2",
   "version": "2.7.17"
  },
  "nbTranslate": {
   "displayLangs": [
    "ja"
   ],
   "hotkey": "alt-t",
   "langInMainMenu": true,
   "sourceLang": "ja",
   "targetLang": "en",
   "useGoogleTranslate": true
  },
  "toc": {
   "base_numbering": 1,
   "nav_menu": {},
   "number_sections": true,
   "sideBar": true,
   "skip_h1_title": false,
   "title_cell": "Table of Contents",
   "title_sidebar": "Contents",
   "toc_cell": false,
   "toc_position": {},
   "toc_section_display": true,
   "toc_window_display": true
  }
 },
 "nbformat": 4,
 "nbformat_minor": 2
}
